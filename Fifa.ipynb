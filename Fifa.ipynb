{
  "nbformat": 4,
  "nbformat_minor": 0,
  "metadata": {
    "colab": {
      "provenance": [],
      "toc_visible": true,
      "authorship_tag": "ABX9TyPRDll/NQMGoApQy18oRWyA",
      "include_colab_link": true
    },
    "kernelspec": {
      "name": "python3",
      "display_name": "Python 3"
    },
    "language_info": {
      "name": "python"
    }
  },
  "cells": [
    {
      "cell_type": "markdown",
      "metadata": {
        "id": "view-in-github",
        "colab_type": "text"
      },
      "source": [
        "<a href=\"https://colab.research.google.com/github/MariamFalahi/Portfolio/blob/main/Fifa.ipynb\" target=\"_parent\"><img src=\"https://colab.research.google.com/assets/colab-badge.svg\" alt=\"Open In Colab\"/></a>"
      ]
    },
    {
      "cell_type": "code",
      "execution_count": null,
      "metadata": {
        "colab": {
          "base_uri": "https://localhost:8080/"
        },
        "id": "nKb0H9BoxFik",
        "outputId": "fac75b90-2327-4f88-ad0a-4fe1cf5a3138"
      },
      "outputs": [
        {
          "output_type": "stream",
          "name": "stdout",
          "text": [
            "\u001b[2K     \u001b[90m━━━━━━━━━━━━━━━━━━━━━━━━━━━━━━━━━━━━━━━━\u001b[0m \u001b[32m1.6/1.6 MB\u001b[0m \u001b[31m7.1 MB/s\u001b[0m eta \u001b[36m0:00:00\u001b[0m\n",
            "\u001b[?25h"
          ]
        }
      ],
      "source": [
        "!pip install -q ipython-sql\n",
        "%load_ext sql\n"
      ]
    },
    {
      "cell_type": "code",
      "source": [
        "%sql sqlite://"
      ],
      "metadata": {
        "id": "qSjF2aa2xfHB"
      },
      "execution_count": null,
      "outputs": []
    },
    {
      "cell_type": "markdown",
      "source": [
        "# Uploading tables"
      ],
      "metadata": {
        "id": "cIH6Q9WDbDSv"
      }
    },
    {
      "cell_type": "markdown",
      "source": [
        "## First table"
      ],
      "metadata": {
        "id": "oluQjHDQbMPw"
      }
    },
    {
      "cell_type": "code",
      "source": [
        "%%sql\n",
        "CREATE TABLE Match(\n",
        "   No                INTEGER  NOT NULL PRIMARY KEY\n",
        "  ,Year              INTEGER  NOT NULL\n",
        "  ,Position          INTEGER  NOT NULL\n",
        "  ,Team              VARCHAR(22) NOT NULL\n",
        "  ,\"Games Played\"    INTEGER  NOT NULL\n",
        "  ,Win               INTEGER  NOT NULL\n",
        "  ,Draw              INTEGER  NOT NULL\n",
        "  ,Loss              INTEGER  NOT NULL\n",
        "  ,\"Goals For\"       INTEGER  NOT NULL\n",
        "  ,\"Goals Against\"   INTEGER  NOT NULL\n",
        "  ,\"Goal Difference\" INTEGER  NOT NULL\n",
        "  ,Points            INTEGER  NOT NULL\n",
        ");\n",
        "INSERT INTO Match(No,Year,Position,Team,\"Games Played\",Win,Draw,Loss,\"Goals For\",\"Goals Against\",\"Goal Difference\",Points) VALUES (1,1930,1,'Uruguay',4,4,0,0,15,3,12,8);\n",
        "INSERT INTO Match(No,Year,Position,Team,\"Games Played\",Win,Draw,Loss,\"Goals For\",\"Goals Against\",\"Goal Difference\",Points) VALUES (2,1930,2,'Argentina',5,4,0,1,18,9,9,8);\n",
        "INSERT INTO Match(No,Year,Position,Team,\"Games Played\",Win,Draw,Loss,\"Goals For\",\"Goals Against\",\"Goal Difference\",Points) VALUES (3,1930,3,'United States',3,2,0,1,7,6,1,4);\n",
        "INSERT INTO Match(No,Year,Position,Team,\"Games Played\",Win,Draw,Loss,\"Goals For\",\"Goals Against\",\"Goal Difference\",Points) VALUES (4,1930,4,'Yugoslavia',3,2,0,1,7,7,0,4);\n",
        "INSERT INTO Match(No,Year,Position,Team,\"Games Played\",Win,Draw,Loss,\"Goals For\",\"Goals Against\",\"Goal Difference\",Points) VALUES (5,1930,5,'Chile',3,2,0,1,5,3,2,4);\n",
        "INSERT INTO Match(No,Year,Position,Team,\"Games Played\",Win,Draw,Loss,\"Goals For\",\"Goals Against\",\"Goal Difference\",Points) VALUES (6,1930,6,'Brazil',2,1,0,1,5,2,3,2);\n",
        "INSERT INTO Match(No,Year,Position,Team,\"Games Played\",Win,Draw,Loss,\"Goals For\",\"Goals Against\",\"Goal Difference\",Points) VALUES (7,1930,7,'France',3,1,0,2,4,3,1,2);\n",
        "INSERT INTO Match(No,Year,Position,Team,\"Games Played\",Win,Draw,Loss,\"Goals For\",\"Goals Against\",\"Goal Difference\",Points) VALUES (8,1930,8,'Romania',2,1,0,1,3,5,-2,2);\n",
        "INSERT INTO Match(No,Year,Position,Team,\"Games Played\",Win,Draw,Loss,\"Goals For\",\"Goals Against\",\"Goal Difference\",Points) VALUES (9,1930,9,'Paraguay',2,1,0,1,1,3,-2,2);\n",
        "INSERT INTO Match(No,Year,Position,Team,\"Games Played\",Win,Draw,Loss,\"Goals For\",\"Goals Against\",\"Goal Difference\",Points) VALUES (10,1930,10,'Peru',2,0,0,2,1,4,-3,0);\n",
        "INSERT INTO Match(No,Year,Position,Team,\"Games Played\",Win,Draw,Loss,\"Goals For\",\"Goals Against\",\"Goal Difference\",Points) VALUES (11,1930,11,'Belgium',2,0,0,2,0,4,-4,0);\n",
        "INSERT INTO Match(No,Year,Position,Team,\"Games Played\",Win,Draw,Loss,\"Goals For\",\"Goals Against\",\"Goal Difference\",Points) VALUES (12,1930,12,'Bolivia',2,0,0,2,0,8,-8,0);\n",
        "INSERT INTO Match(No,Year,Position,Team,\"Games Played\",Win,Draw,Loss,\"Goals For\",\"Goals Against\",\"Goal Difference\",Points) VALUES (13,1930,13,'Mexico',3,0,0,3,4,13,-9,0);\n",
        "INSERT INTO Match(No,Year,Position,Team,\"Games Played\",Win,Draw,Loss,\"Goals For\",\"Goals Against\",\"Goal Difference\",Points) VALUES (14,1934,1,'Italy',4,3,1,0,11,3,8,7);\n",
        "INSERT INTO Match(No,Year,Position,Team,\"Games Played\",Win,Draw,Loss,\"Goals For\",\"Goals Against\",\"Goal Difference\",Points) VALUES (15,1934,2,'Czechoslovakia',4,3,0,1,9,6,3,6);\n",
        "INSERT INTO Match(No,Year,Position,Team,\"Games Played\",Win,Draw,Loss,\"Goals For\",\"Goals Against\",\"Goal Difference\",Points) VALUES (16,1934,3,'Germany',4,3,0,1,11,8,3,6);\n",
        "INSERT INTO Match(No,Year,Position,Team,\"Games Played\",Win,Draw,Loss,\"Goals For\",\"Goals Against\",\"Goal Difference\",Points) VALUES (17,1934,4,'Austria',4,2,0,2,7,7,0,4);\n",
        "INSERT INTO Match(No,Year,Position,Team,\"Games Played\",Win,Draw,Loss,\"Goals For\",\"Goals Against\",\"Goal Difference\",Points) VALUES (18,1934,5,'Spain',2,1,1,0,4,2,2,3);\n",
        "INSERT INTO Match(No,Year,Position,Team,\"Games Played\",Win,Draw,Loss,\"Goals For\",\"Goals Against\",\"Goal Difference\",Points) VALUES (19,1934,6,'Hungary',2,1,0,1,5,4,1,2);\n",
        "INSERT INTO Match(No,Year,Position,Team,\"Games Played\",Win,Draw,Loss,\"Goals For\",\"Goals Against\",\"Goal Difference\",Points) VALUES (20,1934,7,'Switzerland',2,1,0,1,5,5,0,2);\n",
        "INSERT INTO Match(No,Year,Position,Team,\"Games Played\",Win,Draw,Loss,\"Goals For\",\"Goals Against\",\"Goal Difference\",Points) VALUES (21,1934,8,'Sweden',2,1,0,1,4,4,0,2);\n",
        "INSERT INTO Match(No,Year,Position,Team,\"Games Played\",Win,Draw,Loss,\"Goals For\",\"Goals Against\",\"Goal Difference\",Points) VALUES (22,1934,9,'Argentina',1,0,0,1,2,3,-1,0);\n",
        "INSERT INTO Match(No,Year,Position,Team,\"Games Played\",Win,Draw,Loss,\"Goals For\",\"Goals Against\",\"Goal Difference\",Points) VALUES (23,1934,9,'France',1,0,0,1,2,3,-1,0);\n",
        "INSERT INTO Match(No,Year,Position,Team,\"Games Played\",Win,Draw,Loss,\"Goals For\",\"Goals Against\",\"Goal Difference\",Points) VALUES (24,1934,9,'Netherlands',1,0,0,1,2,3,-1,0);\n",
        "INSERT INTO Match(No,Year,Position,Team,\"Games Played\",Win,Draw,Loss,\"Goals For\",\"Goals Against\",\"Goal Difference\",Points) VALUES (25,1934,12,'Romania',1,0,0,1,1,2,-1,0);\n",
        "INSERT INTO Match(No,Year,Position,Team,\"Games Played\",Win,Draw,Loss,\"Goals For\",\"Goals Against\",\"Goal Difference\",Points) VALUES (26,1934,13,'Egypt',1,0,0,1,2,4,-2,0);\n",
        "INSERT INTO Match(No,Year,Position,Team,\"Games Played\",Win,Draw,Loss,\"Goals For\",\"Goals Against\",\"Goal Difference\",Points) VALUES (27,1934,14,'Brazil',1,0,0,1,1,3,-2,0);\n",
        "INSERT INTO Match(No,Year,Position,Team,\"Games Played\",Win,Draw,Loss,\"Goals For\",\"Goals Against\",\"Goal Difference\",Points) VALUES (28,1934,15,'Belgium',1,0,0,1,2,5,-3,0);\n",
        "INSERT INTO Match(No,Year,Position,Team,\"Games Played\",Win,Draw,Loss,\"Goals For\",\"Goals Against\",\"Goal Difference\",Points) VALUES (29,1934,16,'United States',1,0,0,1,1,7,-6,0);\n",
        "INSERT INTO Match(No,Year,Position,Team,\"Games Played\",Win,Draw,Loss,\"Goals For\",\"Goals Against\",\"Goal Difference\",Points) VALUES (30,1938,1,'Italy',4,4,0,0,11,5,6,8);\n",
        "INSERT INTO Match(No,Year,Position,Team,\"Games Played\",Win,Draw,Loss,\"Goals For\",\"Goals Against\",\"Goal Difference\",Points) VALUES (31,1938,2,'Hungary',4,3,0,1,15,5,10,6);\n",
        "INSERT INTO Match(No,Year,Position,Team,\"Games Played\",Win,Draw,Loss,\"Goals For\",\"Goals Against\",\"Goal Difference\",Points) VALUES (32,1938,3,'Brazil',5,3,1,1,14,11,3,7);\n",
        "INSERT INTO Match(No,Year,Position,Team,\"Games Played\",Win,Draw,Loss,\"Goals For\",\"Goals Against\",\"Goal Difference\",Points) VALUES (33,1938,4,'Sweden',3,1,0,2,11,9,2,2);\n",
        "INSERT INTO Match(No,Year,Position,Team,\"Games Played\",Win,Draw,Loss,\"Goals For\",\"Goals Against\",\"Goal Difference\",Points) VALUES (34,1938,5,'Czechoslovakia',3,1,1,1,5,3,2,3);\n",
        "INSERT INTO Match(No,Year,Position,Team,\"Games Played\",Win,Draw,Loss,\"Goals For\",\"Goals Against\",\"Goal Difference\",Points) VALUES (35,1938,6,'Switzerland',3,1,1,1,5,5,0,3);\n",
        "INSERT INTO Match(No,Year,Position,Team,\"Games Played\",Win,Draw,Loss,\"Goals For\",\"Goals Against\",\"Goal Difference\",Points) VALUES (36,1938,7,'Cuba',3,1,1,1,5,12,-7,3);\n",
        "INSERT INTO Match(No,Year,Position,Team,\"Games Played\",Win,Draw,Loss,\"Goals For\",\"Goals Against\",\"Goal Difference\",Points) VALUES (37,1938,8,'France',2,1,0,1,4,4,0,2);\n",
        "INSERT INTO Match(No,Year,Position,Team,\"Games Played\",Win,Draw,Loss,\"Goals For\",\"Goals Against\",\"Goal Difference\",Points) VALUES (38,1938,9,'Romania',2,0,1,1,4,5,-1,1);\n",
        "INSERT INTO Match(No,Year,Position,Team,\"Games Played\",Win,Draw,Loss,\"Goals For\",\"Goals Against\",\"Goal Difference\",Points) VALUES (39,1938,10,'Germany',2,0,1,1,3,5,-2,1);\n",
        "INSERT INTO Match(No,Year,Position,Team,\"Games Played\",Win,Draw,Loss,\"Goals For\",\"Goals Against\",\"Goal Difference\",Points) VALUES (40,1938,11,'Poland',1,0,0,1,5,6,-1,0);\n",
        "INSERT INTO Match(No,Year,Position,Team,\"Games Played\",Win,Draw,Loss,\"Goals For\",\"Goals Against\",\"Goal Difference\",Points) VALUES (41,1938,12,'Norway',1,0,0,1,1,2,-1,0);\n",
        "INSERT INTO Match(No,Year,Position,Team,\"Games Played\",Win,Draw,Loss,\"Goals For\",\"Goals Against\",\"Goal Difference\",Points) VALUES (42,1938,13,'Belgium',1,0,0,1,1,3,-2,0);\n",
        "INSERT INTO Match(No,Year,Position,Team,\"Games Played\",Win,Draw,Loss,\"Goals For\",\"Goals Against\",\"Goal Difference\",Points) VALUES (43,1938,14,'Netherlands',1,0,0,1,0,3,-3,0);\n",
        "INSERT INTO Match(No,Year,Position,Team,\"Games Played\",Win,Draw,Loss,\"Goals For\",\"Goals Against\",\"Goal Difference\",Points) VALUES (44,1938,15,'Dutch East Indies',1,0,0,1,0,6,-6,0);\n",
        "INSERT INTO Match(No,Year,Position,Team,\"Games Played\",Win,Draw,Loss,\"Goals For\",\"Goals Against\",\"Goal Difference\",Points) VALUES (45,1950,1,'Uruguay',4,3,1,0,15,5,10,7);\n",
        "INSERT INTO Match(No,Year,Position,Team,\"Games Played\",Win,Draw,Loss,\"Goals For\",\"Goals Against\",\"Goal Difference\",Points) VALUES (46,1950,2,'Brazil',6,4,1,1,22,6,16,9);\n",
        "INSERT INTO Match(No,Year,Position,Team,\"Games Played\",Win,Draw,Loss,\"Goals For\",\"Goals Against\",\"Goal Difference\",Points) VALUES (47,1950,3,'Sweden',5,2,1,2,11,15,-4,5);\n",
        "INSERT INTO Match(No,Year,Position,Team,\"Games Played\",Win,Draw,Loss,\"Goals For\",\"Goals Against\",\"Goal Difference\",Points) VALUES (48,1950,4,'Spain',6,3,1,2,10,12,-2,7);\n",
        "INSERT INTO Match(No,Year,Position,Team,\"Games Played\",Win,Draw,Loss,\"Goals For\",\"Goals Against\",\"Goal Difference\",Points) VALUES (49,1950,5,'Yugoslavia',3,2,0,1,7,3,4,4);\n",
        "INSERT INTO Match(No,Year,Position,Team,\"Games Played\",Win,Draw,Loss,\"Goals For\",\"Goals Against\",\"Goal Difference\",Points) VALUES (50,1950,6,'Switzerland',3,1,1,1,4,6,-2,3);\n",
        "INSERT INTO Match(No,Year,Position,Team,\"Games Played\",Win,Draw,Loss,\"Goals For\",\"Goals Against\",\"Goal Difference\",Points) VALUES (51,1950,7,'Italy',2,1,0,1,4,3,1,2);\n",
        "INSERT INTO Match(No,Year,Position,Team,\"Games Played\",Win,Draw,Loss,\"Goals For\",\"Goals Against\",\"Goal Difference\",Points) VALUES (52,1950,8,'England',3,1,0,2,2,2,0,2);\n",
        "INSERT INTO Match(No,Year,Position,Team,\"Games Played\",Win,Draw,Loss,\"Goals For\",\"Goals Against\",\"Goal Difference\",Points) VALUES (53,1950,9,'Chile',3,1,0,2,5,6,-1,2);\n",
        "INSERT INTO Match(No,Year,Position,Team,\"Games Played\",Win,Draw,Loss,\"Goals For\",\"Goals Against\",\"Goal Difference\",Points) VALUES (54,1950,10,'United States',3,1,0,2,4,8,-4,2);\n",
        "INSERT INTO Match(No,Year,Position,Team,\"Games Played\",Win,Draw,Loss,\"Goals For\",\"Goals Against\",\"Goal Difference\",Points) VALUES (55,1950,11,'Paraguay',2,0,1,1,2,4,-2,1);\n",
        "INSERT INTO Match(No,Year,Position,Team,\"Games Played\",Win,Draw,Loss,\"Goals For\",\"Goals Against\",\"Goal Difference\",Points) VALUES (56,1950,12,'Mexico',3,0,0,3,2,10,-8,0);\n",
        "INSERT INTO Match(No,Year,Position,Team,\"Games Played\",Win,Draw,Loss,\"Goals For\",\"Goals Against\",\"Goal Difference\",Points) VALUES (57,1950,13,'Bolivia',1,0,0,1,0,8,-8,0);\n",
        "INSERT INTO Match(No,Year,Position,Team,\"Games Played\",Win,Draw,Loss,\"Goals For\",\"Goals Against\",\"Goal Difference\",Points) VALUES (58,1954,1,'West Germany',6,5,0,1,25,14,11,10);\n",
        "INSERT INTO Match(No,Year,Position,Team,\"Games Played\",Win,Draw,Loss,\"Goals For\",\"Goals Against\",\"Goal Difference\",Points) VALUES (59,1954,2,'Hungary',5,4,0,1,27,10,17,8);\n",
        "INSERT INTO Match(No,Year,Position,Team,\"Games Played\",Win,Draw,Loss,\"Goals For\",\"Goals Against\",\"Goal Difference\",Points) VALUES (60,1954,3,'Austria',5,4,0,1,17,12,5,8);\n",
        "INSERT INTO Match(No,Year,Position,Team,\"Games Played\",Win,Draw,Loss,\"Goals For\",\"Goals Against\",\"Goal Difference\",Points) VALUES (61,1954,4,'Uruguay',5,3,0,2,16,9,7,6);\n",
        "INSERT INTO Match(No,Year,Position,Team,\"Games Played\",Win,Draw,Loss,\"Goals For\",\"Goals Against\",\"Goal Difference\",Points) VALUES (62,1954,5,'Switzerland',4,2,0,2,11,11,0,4);\n",
        "INSERT INTO Match(No,Year,Position,Team,\"Games Played\",Win,Draw,Loss,\"Goals For\",\"Goals Against\",\"Goal Difference\",Points) VALUES (63,1954,6,'Brazil',3,1,1,1,8,5,3,3);\n",
        "INSERT INTO Match(No,Year,Position,Team,\"Games Played\",Win,Draw,Loss,\"Goals For\",\"Goals Against\",\"Goal Difference\",Points) VALUES (64,1954,7,'England',3,1,1,1,8,8,0,3);\n",
        "INSERT INTO Match(No,Year,Position,Team,\"Games Played\",Win,Draw,Loss,\"Goals For\",\"Goals Against\",\"Goal Difference\",Points) VALUES (65,1954,8,'Yugoslavia',3,1,1,1,2,3,-1,3);\n",
        "INSERT INTO Match(No,Year,Position,Team,\"Games Played\",Win,Draw,Loss,\"Goals For\",\"Goals Against\",\"Goal Difference\",Points) VALUES (66,1954,9,'Turkey',3,1,0,2,10,11,-1,2);\n",
        "INSERT INTO Match(No,Year,Position,Team,\"Games Played\",Win,Draw,Loss,\"Goals For\",\"Goals Against\",\"Goal Difference\",Points) VALUES (67,1954,10,'Italy',3,1,0,2,6,7,-1,2);\n",
        "INSERT INTO Match(No,Year,Position,Team,\"Games Played\",Win,Draw,Loss,\"Goals For\",\"Goals Against\",\"Goal Difference\",Points) VALUES (68,1954,11,'France',2,1,0,1,3,3,0,2);\n",
        "INSERT INTO Match(No,Year,Position,Team,\"Games Played\",Win,Draw,Loss,\"Goals For\",\"Goals Against\",\"Goal Difference\",Points) VALUES (69,1954,12,'Belgium',2,0,1,1,5,8,-3,1);\n",
        "INSERT INTO Match(No,Year,Position,Team,\"Games Played\",Win,Draw,Loss,\"Goals For\",\"Goals Against\",\"Goal Difference\",Points) VALUES (70,1954,13,'Mexico',2,0,0,2,2,8,-6,0);\n",
        "INSERT INTO Match(No,Year,Position,Team,\"Games Played\",Win,Draw,Loss,\"Goals For\",\"Goals Against\",\"Goal Difference\",Points) VALUES (71,1954,14,'Czechoslovakia',2,0,0,2,0,7,-7,0);\n",
        "INSERT INTO Match(No,Year,Position,Team,\"Games Played\",Win,Draw,Loss,\"Goals For\",\"Goals Against\",\"Goal Difference\",Points) VALUES (72,1954,15,'Scotland',2,0,0,2,0,8,-8,0);\n",
        "INSERT INTO Match(No,Year,Position,Team,\"Games Played\",Win,Draw,Loss,\"Goals For\",\"Goals Against\",\"Goal Difference\",Points) VALUES (73,1954,16,'South Korea',2,0,0,2,0,16,-16,0);\n",
        "INSERT INTO Match(No,Year,Position,Team,\"Games Played\",Win,Draw,Loss,\"Goals For\",\"Goals Against\",\"Goal Difference\",Points) VALUES (74,1958,1,'Brazil',6,5,1,0,16,4,12,11);\n",
        "INSERT INTO Match(No,Year,Position,Team,\"Games Played\",Win,Draw,Loss,\"Goals For\",\"Goals Against\",\"Goal Difference\",Points) VALUES (75,1958,2,'Sweden',6,4,1,1,12,7,5,9);\n",
        "INSERT INTO Match(No,Year,Position,Team,\"Games Played\",Win,Draw,Loss,\"Goals For\",\"Goals Against\",\"Goal Difference\",Points) VALUES (76,1958,3,'France',6,4,0,2,23,15,8,8);\n",
        "INSERT INTO Match(No,Year,Position,Team,\"Games Played\",Win,Draw,Loss,\"Goals For\",\"Goals Against\",\"Goal Difference\",Points) VALUES (77,1958,4,'West Germany',6,2,2,2,12,14,-2,6);\n",
        "INSERT INTO Match(No,Year,Position,Team,\"Games Played\",Win,Draw,Loss,\"Goals For\",\"Goals Against\",\"Goal Difference\",Points) VALUES (78,1958,5,'Wales',5,1,3,1,4,4,0,5);\n",
        "INSERT INTO Match(No,Year,Position,Team,\"Games Played\",Win,Draw,Loss,\"Goals For\",\"Goals Against\",\"Goal Difference\",Points) VALUES (79,1958,6,'Soviet Union',5,2,1,2,5,6,-1,5);\n",
        "INSERT INTO Match(No,Year,Position,Team,\"Games Played\",Win,Draw,Loss,\"Goals For\",\"Goals Against\",\"Goal Difference\",Points) VALUES (80,1958,7,'Northern Ireland',5,2,1,2,6,10,-4,5);\n",
        "INSERT INTO Match(No,Year,Position,Team,\"Games Played\",Win,Draw,Loss,\"Goals For\",\"Goals Against\",\"Goal Difference\",Points) VALUES (81,1958,8,'Yugoslavia',4,1,2,1,7,7,0,4);\n",
        "INSERT INTO Match(No,Year,Position,Team,\"Games Played\",Win,Draw,Loss,\"Goals For\",\"Goals Against\",\"Goal Difference\",Points) VALUES (82,1958,9,'Czechoslovakia',4,1,1,2,9,6,3,3);\n",
        "INSERT INTO Match(No,Year,Position,Team,\"Games Played\",Win,Draw,Loss,\"Goals For\",\"Goals Against\",\"Goal Difference\",Points) VALUES (83,1958,10,'Hungary',4,1,1,2,7,5,2,3);\n",
        "INSERT INTO Match(No,Year,Position,Team,\"Games Played\",Win,Draw,Loss,\"Goals For\",\"Goals Against\",\"Goal Difference\",Points) VALUES (84,1958,11,'England',4,0,3,1,4,5,-1,3);\n",
        "INSERT INTO Match(No,Year,Position,Team,\"Games Played\",Win,Draw,Loss,\"Goals For\",\"Goals Against\",\"Goal Difference\",Points) VALUES (85,1958,12,'Paraguay',3,1,1,1,9,12,-3,3);\n",
        "INSERT INTO Match(No,Year,Position,Team,\"Games Played\",Win,Draw,Loss,\"Goals For\",\"Goals Against\",\"Goal Difference\",Points) VALUES (86,1958,13,'Argentina',3,1,0,2,5,10,-5,2);\n",
        "INSERT INTO Match(No,Year,Position,Team,\"Games Played\",Win,Draw,Loss,\"Goals For\",\"Goals Against\",\"Goal Difference\",Points) VALUES (87,1958,14,'Scotland',3,0,1,2,4,6,-2,1);\n",
        "INSERT INTO Match(No,Year,Position,Team,\"Games Played\",Win,Draw,Loss,\"Goals For\",\"Goals Against\",\"Goal Difference\",Points) VALUES (88,1958,15,'Austria',3,0,1,2,2,7,-5,1);\n",
        "INSERT INTO Match(No,Year,Position,Team,\"Games Played\",Win,Draw,Loss,\"Goals For\",\"Goals Against\",\"Goal Difference\",Points) VALUES (89,1958,16,'Mexico',3,0,1,2,1,8,-7,1);\n",
        "INSERT INTO Match(No,Year,Position,Team,\"Games Played\",Win,Draw,Loss,\"Goals For\",\"Goals Against\",\"Goal Difference\",Points) VALUES (90,1962,1,'Brazil',6,5,1,0,14,5,9,11);\n",
        "INSERT INTO Match(No,Year,Position,Team,\"Games Played\",Win,Draw,Loss,\"Goals For\",\"Goals Against\",\"Goal Difference\",Points) VALUES (91,1962,2,'Czechoslovakia',6,3,1,2,7,7,0,7);\n",
        "INSERT INTO Match(No,Year,Position,Team,\"Games Played\",Win,Draw,Loss,\"Goals For\",\"Goals Against\",\"Goal Difference\",Points) VALUES (92,1962,3,'Chile',6,4,0,2,10,8,2,8);\n",
        "INSERT INTO Match(No,Year,Position,Team,\"Games Played\",Win,Draw,Loss,\"Goals For\",\"Goals Against\",\"Goal Difference\",Points) VALUES (93,1962,4,'Yugoslavia',6,3,0,3,10,7,3,6);\n",
        "INSERT INTO Match(No,Year,Position,Team,\"Games Played\",Win,Draw,Loss,\"Goals For\",\"Goals Against\",\"Goal Difference\",Points) VALUES (94,1962,5,'Hungary',4,2,1,1,8,3,5,5);\n",
        "INSERT INTO Match(No,Year,Position,Team,\"Games Played\",Win,Draw,Loss,\"Goals For\",\"Goals Against\",\"Goal Difference\",Points) VALUES (95,1962,6,'Soviet Union',4,2,1,1,9,7,2,5);\n",
        "INSERT INTO Match(No,Year,Position,Team,\"Games Played\",Win,Draw,Loss,\"Goals For\",\"Goals Against\",\"Goal Difference\",Points) VALUES (96,1962,7,'West Germany',4,2,1,1,4,2,2,5);\n",
        "INSERT INTO Match(No,Year,Position,Team,\"Games Played\",Win,Draw,Loss,\"Goals For\",\"Goals Against\",\"Goal Difference\",Points) VALUES (97,1962,8,'England',4,1,1,2,5,6,-1,3);\n",
        "INSERT INTO Match(No,Year,Position,Team,\"Games Played\",Win,Draw,Loss,\"Goals For\",\"Goals Against\",\"Goal Difference\",Points) VALUES (98,1962,9,'Italy',3,1,1,1,3,2,1,3);\n",
        "INSERT INTO Match(No,Year,Position,Team,\"Games Played\",Win,Draw,Loss,\"Goals For\",\"Goals Against\",\"Goal Difference\",Points) VALUES (99,1962,10,'Argentina',3,1,1,1,2,3,-1,3);\n",
        "INSERT INTO Match(No,Year,Position,Team,\"Games Played\",Win,Draw,Loss,\"Goals For\",\"Goals Against\",\"Goal Difference\",Points) VALUES (100,1962,11,'Mexico',3,1,0,2,3,4,-1,2);\n",
        "INSERT INTO Match(No,Year,Position,Team,\"Games Played\",Win,Draw,Loss,\"Goals For\",\"Goals Against\",\"Goal Difference\",Points) VALUES (101,1962,12,'Spain',3,1,0,2,2,3,-1,2);\n",
        "INSERT INTO Match(No,Year,Position,Team,\"Games Played\",Win,Draw,Loss,\"Goals For\",\"Goals Against\",\"Goal Difference\",Points) VALUES (102,1962,13,'Uruguay',3,1,0,2,4,6,-2,2);\n",
        "INSERT INTO Match(No,Year,Position,Team,\"Games Played\",Win,Draw,Loss,\"Goals For\",\"Goals Against\",\"Goal Difference\",Points) VALUES (103,1962,14,'Colombia',3,0,1,2,5,11,-6,1);\n",
        "INSERT INTO Match(No,Year,Position,Team,\"Games Played\",Win,Draw,Loss,\"Goals For\",\"Goals Against\",\"Goal Difference\",Points) VALUES (104,1962,15,'Bulgaria',3,0,1,2,1,7,-6,1);\n",
        "INSERT INTO Match(No,Year,Position,Team,\"Games Played\",Win,Draw,Loss,\"Goals For\",\"Goals Against\",\"Goal Difference\",Points) VALUES (105,1962,16,'Switzerland',3,0,0,3,2,8,-6,0);\n",
        "INSERT INTO Match(No,Year,Position,Team,\"Games Played\",Win,Draw,Loss,\"Goals For\",\"Goals Against\",\"Goal Difference\",Points) VALUES (106,1966,1,'England',6,5,1,0,11,3,8,11);\n",
        "INSERT INTO Match(No,Year,Position,Team,\"Games Played\",Win,Draw,Loss,\"Goals For\",\"Goals Against\",\"Goal Difference\",Points) VALUES (107,1966,2,'West Germany',6,4,1,1,15,6,9,9);\n",
        "INSERT INTO Match(No,Year,Position,Team,\"Games Played\",Win,Draw,Loss,\"Goals For\",\"Goals Against\",\"Goal Difference\",Points) VALUES (108,1966,3,'Portugal',6,5,0,1,17,8,9,10);\n",
        "INSERT INTO Match(No,Year,Position,Team,\"Games Played\",Win,Draw,Loss,\"Goals For\",\"Goals Against\",\"Goal Difference\",Points) VALUES (109,1966,4,'Soviet Union',6,4,0,2,10,6,4,8);\n",
        "INSERT INTO Match(No,Year,Position,Team,\"Games Played\",Win,Draw,Loss,\"Goals For\",\"Goals Against\",\"Goal Difference\",Points) VALUES (110,1966,5,'Argentina',4,2,1,1,4,2,2,5);\n",
        "INSERT INTO Match(No,Year,Position,Team,\"Games Played\",Win,Draw,Loss,\"Goals For\",\"Goals Against\",\"Goal Difference\",Points) VALUES (111,1966,6,'Hungary',4,2,0,2,8,7,1,4);\n",
        "INSERT INTO Match(No,Year,Position,Team,\"Games Played\",Win,Draw,Loss,\"Goals For\",\"Goals Against\",\"Goal Difference\",Points) VALUES (112,1966,7,'Uruguay',4,1,2,1,2,5,-3,4);\n",
        "INSERT INTO Match(No,Year,Position,Team,\"Games Played\",Win,Draw,Loss,\"Goals For\",\"Goals Against\",\"Goal Difference\",Points) VALUES (113,1966,8,'North Korea',4,1,1,2,5,9,-4,3);\n",
        "INSERT INTO Match(No,Year,Position,Team,\"Games Played\",Win,Draw,Loss,\"Goals For\",\"Goals Against\",\"Goal Difference\",Points) VALUES (114,1966,9,'Italy',3,1,0,2,2,2,0,2);\n",
        "INSERT INTO Match(No,Year,Position,Team,\"Games Played\",Win,Draw,Loss,\"Goals For\",\"Goals Against\",\"Goal Difference\",Points) VALUES (115,1966,10,'Spain',3,1,0,2,4,5,-1,2);\n",
        "INSERT INTO Match(No,Year,Position,Team,\"Games Played\",Win,Draw,Loss,\"Goals For\",\"Goals Against\",\"Goal Difference\",Points) VALUES (116,1966,11,'Brazil',3,1,0,2,4,6,-2,2);\n",
        "INSERT INTO Match(No,Year,Position,Team,\"Games Played\",Win,Draw,Loss,\"Goals For\",\"Goals Against\",\"Goal Difference\",Points) VALUES (117,1966,12,'Mexico',3,0,2,1,1,3,-2,2);\n",
        "INSERT INTO Match(No,Year,Position,Team,\"Games Played\",Win,Draw,Loss,\"Goals For\",\"Goals Against\",\"Goal Difference\",Points) VALUES (118,1966,13,'Chile',3,0,1,2,2,5,-3,1);\n",
        "INSERT INTO Match(No,Year,Position,Team,\"Games Played\",Win,Draw,Loss,\"Goals For\",\"Goals Against\",\"Goal Difference\",Points) VALUES (119,1966,13,'France',3,0,1,2,2,5,-3,1);\n",
        "INSERT INTO Match(No,Year,Position,Team,\"Games Played\",Win,Draw,Loss,\"Goals For\",\"Goals Against\",\"Goal Difference\",Points) VALUES (120,1966,15,'Bulgaria',3,0,0,3,1,8,-7,0);\n",
        "INSERT INTO Match(No,Year,Position,Team,\"Games Played\",Win,Draw,Loss,\"Goals For\",\"Goals Against\",\"Goal Difference\",Points) VALUES (121,1966,16,'Switzerland',3,0,0,3,1,9,-8,0);\n",
        "INSERT INTO Match(No,Year,Position,Team,\"Games Played\",Win,Draw,Loss,\"Goals For\",\"Goals Against\",\"Goal Difference\",Points) VALUES (122,1970,1,'Brazil',6,6,0,0,19,7,12,12);\n",
        "INSERT INTO Match(No,Year,Position,Team,\"Games Played\",Win,Draw,Loss,\"Goals For\",\"Goals Against\",\"Goal Difference\",Points) VALUES (123,1970,2,'Italy',6,3,2,1,10,8,2,8);\n",
        "INSERT INTO Match(No,Year,Position,Team,\"Games Played\",Win,Draw,Loss,\"Goals For\",\"Goals Against\",\"Goal Difference\",Points) VALUES (124,1970,3,'West Germany',6,5,0,1,17,10,7,10);\n",
        "INSERT INTO Match(No,Year,Position,Team,\"Games Played\",Win,Draw,Loss,\"Goals For\",\"Goals Against\",\"Goal Difference\",Points) VALUES (125,1970,4,'Uruguay',6,2,1,3,4,5,-1,5);\n",
        "INSERT INTO Match(No,Year,Position,Team,\"Games Played\",Win,Draw,Loss,\"Goals For\",\"Goals Against\",\"Goal Difference\",Points) VALUES (126,1970,5,'Soviet Union',4,2,1,1,6,2,4,5);\n",
        "INSERT INTO Match(No,Year,Position,Team,\"Games Played\",Win,Draw,Loss,\"Goals For\",\"Goals Against\",\"Goal Difference\",Points) VALUES (127,1970,6,'Mexico',4,2,1,1,6,4,2,5);\n",
        "INSERT INTO Match(No,Year,Position,Team,\"Games Played\",Win,Draw,Loss,\"Goals For\",\"Goals Against\",\"Goal Difference\",Points) VALUES (128,1970,7,'Peru',4,2,0,2,9,9,0,4);\n",
        "INSERT INTO Match(No,Year,Position,Team,\"Games Played\",Win,Draw,Loss,\"Goals For\",\"Goals Against\",\"Goal Difference\",Points) VALUES (129,1970,8,'England',4,2,0,2,4,4,0,4);\n",
        "INSERT INTO Match(No,Year,Position,Team,\"Games Played\",Win,Draw,Loss,\"Goals For\",\"Goals Against\",\"Goal Difference\",Points) VALUES (130,1970,9,'Sweden',3,1,1,1,2,2,0,3);\n",
        "INSERT INTO Match(No,Year,Position,Team,\"Games Played\",Win,Draw,Loss,\"Goals For\",\"Goals Against\",\"Goal Difference\",Points) VALUES (131,1970,10,'Belgium',3,1,0,2,4,5,-1,2);\n",
        "INSERT INTO Match(No,Year,Position,Team,\"Games Played\",Win,Draw,Loss,\"Goals For\",\"Goals Against\",\"Goal Difference\",Points) VALUES (132,1970,10,'Romania',3,1,0,2,4,5,-1,2);\n",
        "INSERT INTO Match(No,Year,Position,Team,\"Games Played\",Win,Draw,Loss,\"Goals For\",\"Goals Against\",\"Goal Difference\",Points) VALUES (133,1970,12,'Israel*',3,0,2,1,1,3,-2,2);\n",
        "INSERT INTO Match(No,Year,Position,Team,\"Games Played\",Win,Draw,Loss,\"Goals For\",\"Goals Against\",\"Goal Difference\",Points) VALUES (134,1970,13,'Bulgaria**',3,0,1,2,5,9,-4,1);\n",
        "INSERT INTO Match(No,Year,Position,Team,\"Games Played\",Win,Draw,Loss,\"Goals For\",\"Goals Against\",\"Goal Difference\",Points) VALUES (135,1970,14,'Morocco',3,0,1,2,2,6,-4,1);\n",
        "INSERT INTO Match(No,Year,Position,Team,\"Games Played\",Win,Draw,Loss,\"Goals For\",\"Goals Against\",\"Goal Difference\",Points) VALUES (136,1970,15,'Czechoslovakia',3,0,0,3,2,7,-5,0);\n",
        "INSERT INTO Match(No,Year,Position,Team,\"Games Played\",Win,Draw,Loss,\"Goals For\",\"Goals Against\",\"Goal Difference\",Points) VALUES (137,1970,16,'El Salvador',3,0,0,3,0,9,-9,0);\n",
        "INSERT INTO Match(No,Year,Position,Team,\"Games Played\",Win,Draw,Loss,\"Goals For\",\"Goals Against\",\"Goal Difference\",Points) VALUES (138,1974,1,'West Germany',7,6,0,1,13,4,9,12);\n",
        "INSERT INTO Match(No,Year,Position,Team,\"Games Played\",Win,Draw,Loss,\"Goals For\",\"Goals Against\",\"Goal Difference\",Points) VALUES (139,1974,2,'Netherlands',7,5,1,1,15,3,12,11);\n",
        "INSERT INTO Match(No,Year,Position,Team,\"Games Played\",Win,Draw,Loss,\"Goals For\",\"Goals Against\",\"Goal Difference\",Points) VALUES (140,1974,3,'Poland',7,6,0,1,16,5,11,12);\n",
        "INSERT INTO Match(No,Year,Position,Team,\"Games Played\",Win,Draw,Loss,\"Goals For\",\"Goals Against\",\"Goal Difference\",Points) VALUES (141,1974,4,'Brazil',7,3,2,2,6,4,2,8);\n",
        "INSERT INTO Match(No,Year,Position,Team,\"Games Played\",Win,Draw,Loss,\"Goals For\",\"Goals Against\",\"Goal Difference\",Points) VALUES (142,1974,5,'Sweden',6,2,2,2,7,6,1,6);\n",
        "INSERT INTO Match(No,Year,Position,Team,\"Games Played\",Win,Draw,Loss,\"Goals For\",\"Goals Against\",\"Goal Difference\",Points) VALUES (143,1974,6,'East Germany',6,2,2,2,5,5,0,6);\n",
        "INSERT INTO Match(No,Year,Position,Team,\"Games Played\",Win,Draw,Loss,\"Goals For\",\"Goals Against\",\"Goal Difference\",Points) VALUES (144,1974,7,'Yugoslavia',6,1,2,3,12,7,5,4);\n",
        "INSERT INTO Match(No,Year,Position,Team,\"Games Played\",Win,Draw,Loss,\"Goals For\",\"Goals Against\",\"Goal Difference\",Points) VALUES (145,1974,8,'Argentina',6,1,2,3,9,12,-3,4);\n",
        "INSERT INTO Match(No,Year,Position,Team,\"Games Played\",Win,Draw,Loss,\"Goals For\",\"Goals Against\",\"Goal Difference\",Points) VALUES (146,1974,9,'Scotland',3,1,2,0,3,1,2,4);\n",
        "INSERT INTO Match(No,Year,Position,Team,\"Games Played\",Win,Draw,Loss,\"Goals For\",\"Goals Against\",\"Goal Difference\",Points) VALUES (147,1974,10,'Italy',3,1,1,1,5,4,1,3);\n",
        "INSERT INTO Match(No,Year,Position,Team,\"Games Played\",Win,Draw,Loss,\"Goals For\",\"Goals Against\",\"Goal Difference\",Points) VALUES (148,1974,11,'Chile',3,0,2,1,1,2,-1,2);\n",
        "INSERT INTO Match(No,Year,Position,Team,\"Games Played\",Win,Draw,Loss,\"Goals For\",\"Goals Against\",\"Goal Difference\",Points) VALUES (149,1974,12,'Bulgaria',3,0,2,1,2,5,-3,2);\n",
        "INSERT INTO Match(No,Year,Position,Team,\"Games Played\",Win,Draw,Loss,\"Goals For\",\"Goals Against\",\"Goal Difference\",Points) VALUES (150,1974,13,'Uruguay',3,0,1,2,1,6,-5,1);\n",
        "INSERT INTO Match(No,Year,Position,Team,\"Games Played\",Win,Draw,Loss,\"Goals For\",\"Goals Against\",\"Goal Difference\",Points) VALUES (151,1974,14,'Australia',3,0,1,2,0,5,-5,1);\n",
        "INSERT INTO Match(No,Year,Position,Team,\"Games Played\",Win,Draw,Loss,\"Goals For\",\"Goals Against\",\"Goal Difference\",Points) VALUES (152,1974,15,'Haiti',3,0,0,3,2,14,-12,0);\n",
        "INSERT INTO Match(No,Year,Position,Team,\"Games Played\",Win,Draw,Loss,\"Goals For\",\"Goals Against\",\"Goal Difference\",Points) VALUES (153,1974,16,'Zaire',3,0,0,3,0,14,-14,0);\n",
        "INSERT INTO Match(No,Year,Position,Team,\"Games Played\",Win,Draw,Loss,\"Goals For\",\"Goals Against\",\"Goal Difference\",Points) VALUES (154,1978,1,'Argentina',7,5,1,1,15,4,11,11);\n",
        "INSERT INTO Match(No,Year,Position,Team,\"Games Played\",Win,Draw,Loss,\"Goals For\",\"Goals Against\",\"Goal Difference\",Points) VALUES (155,1978,2,'Netherlands',7,3,2,2,15,10,5,8);\n",
        "INSERT INTO Match(No,Year,Position,Team,\"Games Played\",Win,Draw,Loss,\"Goals For\",\"Goals Against\",\"Goal Difference\",Points) VALUES (156,1978,3,'Brazil',7,4,3,0,10,3,7,11);\n",
        "INSERT INTO Match(No,Year,Position,Team,\"Games Played\",Win,Draw,Loss,\"Goals For\",\"Goals Against\",\"Goal Difference\",Points) VALUES (157,1978,4,'Italy',7,4,1,2,9,6,3,9);\n",
        "INSERT INTO Match(No,Year,Position,Team,\"Games Played\",Win,Draw,Loss,\"Goals For\",\"Goals Against\",\"Goal Difference\",Points) VALUES (158,1978,5,'Poland',6,3,1,2,6,6,0,7);\n",
        "INSERT INTO Match(No,Year,Position,Team,\"Games Played\",Win,Draw,Loss,\"Goals For\",\"Goals Against\",\"Goal Difference\",Points) VALUES (159,1978,6,'West Germany',6,1,4,1,10,5,5,6);\n",
        "INSERT INTO Match(No,Year,Position,Team,\"Games Played\",Win,Draw,Loss,\"Goals For\",\"Goals Against\",\"Goal Difference\",Points) VALUES (160,1978,7,'Austria',6,3,0,3,7,10,-3,6);\n",
        "INSERT INTO Match(No,Year,Position,Team,\"Games Played\",Win,Draw,Loss,\"Goals For\",\"Goals Against\",\"Goal Difference\",Points) VALUES (161,1978,8,'Peru',6,2,1,3,7,12,-5,5);\n",
        "INSERT INTO Match(No,Year,Position,Team,\"Games Played\",Win,Draw,Loss,\"Goals For\",\"Goals Against\",\"Goal Difference\",Points) VALUES (162,1978,9,'Tunisia',3,1,1,1,3,2,1,3);\n",
        "INSERT INTO Match(No,Year,Position,Team,\"Games Played\",Win,Draw,Loss,\"Goals For\",\"Goals Against\",\"Goal Difference\",Points) VALUES (163,1978,10,'Spain',3,1,1,1,2,2,0,3);\n",
        "INSERT INTO Match(No,Year,Position,Team,\"Games Played\",Win,Draw,Loss,\"Goals For\",\"Goals Against\",\"Goal Difference\",Points) VALUES (164,1978,11,'Scotland',3,1,1,1,5,6,-1,3);\n",
        "INSERT INTO Match(No,Year,Position,Team,\"Games Played\",Win,Draw,Loss,\"Goals For\",\"Goals Against\",\"Goal Difference\",Points) VALUES (165,1978,12,'France',3,1,0,2,5,5,0,2);\n",
        "INSERT INTO Match(No,Year,Position,Team,\"Games Played\",Win,Draw,Loss,\"Goals For\",\"Goals Against\",\"Goal Difference\",Points) VALUES (166,1978,13,'Sweden',3,0,1,2,1,3,-2,1);\n",
        "INSERT INTO Match(No,Year,Position,Team,\"Games Played\",Win,Draw,Loss,\"Goals For\",\"Goals Against\",\"Goal Difference\",Points) VALUES (167,1978,14,'Iran',3,0,1,2,2,8,-6,1);\n",
        "INSERT INTO Match(No,Year,Position,Team,\"Games Played\",Win,Draw,Loss,\"Goals For\",\"Goals Against\",\"Goal Difference\",Points) VALUES (168,1978,15,'Hungary',3,0,0,3,3,8,-5,0);\n",
        "INSERT INTO Match(No,Year,Position,Team,\"Games Played\",Win,Draw,Loss,\"Goals For\",\"Goals Against\",\"Goal Difference\",Points) VALUES (169,1978,16,'Mexico',3,0,0,3,2,12,-10,0);\n",
        "INSERT INTO Match(No,Year,Position,Team,\"Games Played\",Win,Draw,Loss,\"Goals For\",\"Goals Against\",\"Goal Difference\",Points) VALUES (170,1982,1,'Italy',7,4,3,0,12,6,6,11);\n",
        "INSERT INTO Match(No,Year,Position,Team,\"Games Played\",Win,Draw,Loss,\"Goals For\",\"Goals Against\",\"Goal Difference\",Points) VALUES (171,1982,2,'West Germany',7,3,2,2,12,10,2,8);\n",
        "INSERT INTO Match(No,Year,Position,Team,\"Games Played\",Win,Draw,Loss,\"Goals For\",\"Goals Against\",\"Goal Difference\",Points) VALUES (172,1982,3,'Poland',7,3,3,1,11,5,6,9);\n",
        "INSERT INTO Match(No,Year,Position,Team,\"Games Played\",Win,Draw,Loss,\"Goals For\",\"Goals Against\",\"Goal Difference\",Points) VALUES (173,1982,4,'France',7,3,2,2,16,12,4,8);\n",
        "INSERT INTO Match(No,Year,Position,Team,\"Games Played\",Win,Draw,Loss,\"Goals For\",\"Goals Against\",\"Goal Difference\",Points) VALUES (174,1982,5,'Brazil',5,4,0,1,15,6,9,8);\n",
        "INSERT INTO Match(No,Year,Position,Team,\"Games Played\",Win,Draw,Loss,\"Goals For\",\"Goals Against\",\"Goal Difference\",Points) VALUES (175,1982,6,'England',5,3,2,0,6,1,5,8);\n",
        "INSERT INTO Match(No,Year,Position,Team,\"Games Played\",Win,Draw,Loss,\"Goals For\",\"Goals Against\",\"Goal Difference\",Points) VALUES (176,1982,7,'Soviet Union',5,2,2,1,7,4,3,6);\n",
        "INSERT INTO Match(No,Year,Position,Team,\"Games Played\",Win,Draw,Loss,\"Goals For\",\"Goals Against\",\"Goal Difference\",Points) VALUES (177,1982,8,'Austria',5,2,1,2,5,4,1,5);\n",
        "INSERT INTO Match(No,Year,Position,Team,\"Games Played\",Win,Draw,Loss,\"Goals For\",\"Goals Against\",\"Goal Difference\",Points) VALUES (178,1982,9,'Northern Ireland',5,1,3,1,5,7,-2,5);\n",
        "INSERT INTO Match(No,Year,Position,Team,\"Games Played\",Win,Draw,Loss,\"Goals For\",\"Goals Against\",\"Goal Difference\",Points) VALUES (179,1982,10,'Belgium',5,2,1,2,3,5,-2,5);\n",
        "INSERT INTO Match(No,Year,Position,Team,\"Games Played\",Win,Draw,Loss,\"Goals For\",\"Goals Against\",\"Goal Difference\",Points) VALUES (180,1982,11,'Argentina',5,2,0,3,8,7,1,4);\n",
        "INSERT INTO Match(No,Year,Position,Team,\"Games Played\",Win,Draw,Loss,\"Goals For\",\"Goals Against\",\"Goal Difference\",Points) VALUES (181,1982,12,'Spain',5,1,2,2,4,5,-1,4);\n",
        "INSERT INTO Match(No,Year,Position,Team,\"Games Played\",Win,Draw,Loss,\"Goals For\",\"Goals Against\",\"Goal Difference\",Points) VALUES (182,1982,13,'Algeria',3,2,0,1,5,5,0,4);\n",
        "INSERT INTO Match(No,Year,Position,Team,\"Games Played\",Win,Draw,Loss,\"Goals For\",\"Goals Against\",\"Goal Difference\",Points) VALUES (183,1982,14,'Hungary',3,1,1,1,12,6,6,3);\n",
        "INSERT INTO Match(No,Year,Position,Team,\"Games Played\",Win,Draw,Loss,\"Goals For\",\"Goals Against\",\"Goal Difference\",Points) VALUES (184,1982,15,'Scotland',3,1,1,1,8,8,0,3);\n",
        "INSERT INTO Match(No,Year,Position,Team,\"Games Played\",Win,Draw,Loss,\"Goals For\",\"Goals Against\",\"Goal Difference\",Points) VALUES (185,1982,16,'Yugoslavia',3,1,1,1,2,2,0,3);\n",
        "INSERT INTO Match(No,Year,Position,Team,\"Games Played\",Win,Draw,Loss,\"Goals For\",\"Goals Against\",\"Goal Difference\",Points) VALUES (186,1982,17,'Cameroon',3,0,3,0,1,1,0,3);\n",
        "INSERT INTO Match(No,Year,Position,Team,\"Games Played\",Win,Draw,Loss,\"Goals For\",\"Goals Against\",\"Goal Difference\",Points) VALUES (187,1982,18,'Honduras',3,0,2,1,2,3,-1,2);\n",
        "INSERT INTO Match(No,Year,Position,Team,\"Games Played\",Win,Draw,Loss,\"Goals For\",\"Goals Against\",\"Goal Difference\",Points) VALUES (188,1982,19,'Czechoslovakia',3,0,2,1,2,4,-2,2);\n",
        "INSERT INTO Match(No,Year,Position,Team,\"Games Played\",Win,Draw,Loss,\"Goals For\",\"Goals Against\",\"Goal Difference\",Points) VALUES (189,1982,20,'Peru',3,0,2,1,2,6,-4,2);\n",
        "INSERT INTO Match(No,Year,Position,Team,\"Games Played\",Win,Draw,Loss,\"Goals For\",\"Goals Against\",\"Goal Difference\",Points) VALUES (190,1982,21,'Kuwait',3,0,1,2,2,6,-4,1);\n",
        "INSERT INTO Match(No,Year,Position,Team,\"Games Played\",Win,Draw,Loss,\"Goals For\",\"Goals Against\",\"Goal Difference\",Points) VALUES (191,1982,22,'Chile',3,0,0,3,3,8,-5,0);\n",
        "INSERT INTO Match(No,Year,Position,Team,\"Games Played\",Win,Draw,Loss,\"Goals For\",\"Goals Against\",\"Goal Difference\",Points) VALUES (192,1982,23,'New Zealand',3,0,0,3,2,12,-10,0);\n",
        "INSERT INTO Match(No,Year,Position,Team,\"Games Played\",Win,Draw,Loss,\"Goals For\",\"Goals Against\",\"Goal Difference\",Points) VALUES (193,1982,24,'El Salvador',3,0,0,3,1,13,-12,0);\n",
        "INSERT INTO Match(No,Year,Position,Team,\"Games Played\",Win,Draw,Loss,\"Goals For\",\"Goals Against\",\"Goal Difference\",Points) VALUES (194,1986,1,'Argentina',7,6,1,0,14,5,9,13);\n",
        "INSERT INTO Match(No,Year,Position,Team,\"Games Played\",Win,Draw,Loss,\"Goals For\",\"Goals Against\",\"Goal Difference\",Points) VALUES (195,1986,2,'West Germany',7,3,2,2,8,7,1,8);\n",
        "INSERT INTO Match(No,Year,Position,Team,\"Games Played\",Win,Draw,Loss,\"Goals For\",\"Goals Against\",\"Goal Difference\",Points) VALUES (196,1986,3,'France',7,4,2,1,12,6,6,10);\n",
        "INSERT INTO Match(No,Year,Position,Team,\"Games Played\",Win,Draw,Loss,\"Goals For\",\"Goals Against\",\"Goal Difference\",Points) VALUES (197,1986,4,'Belgium',7,2,2,3,12,15,-3,6);\n",
        "INSERT INTO Match(No,Year,Position,Team,\"Games Played\",Win,Draw,Loss,\"Goals For\",\"Goals Against\",\"Goal Difference\",Points) VALUES (198,1986,5,'Brazil',5,4,1,0,10,1,9,9);\n",
        "INSERT INTO Match(No,Year,Position,Team,\"Games Played\",Win,Draw,Loss,\"Goals For\",\"Goals Against\",\"Goal Difference\",Points) VALUES (199,1986,6,'Mexico',5,3,2,0,6,2,4,8);\n",
        "INSERT INTO Match(No,Year,Position,Team,\"Games Played\",Win,Draw,Loss,\"Goals For\",\"Goals Against\",\"Goal Difference\",Points) VALUES (200,1986,7,'Spain',5,3,1,1,11,4,7,7);\n",
        "INSERT INTO Match(No,Year,Position,Team,\"Games Played\",Win,Draw,Loss,\"Goals For\",\"Goals Against\",\"Goal Difference\",Points) VALUES (201,1986,8,'England',5,2,1,2,7,3,4,5);\n",
        "INSERT INTO Match(No,Year,Position,Team,\"Games Played\",Win,Draw,Loss,\"Goals For\",\"Goals Against\",\"Goal Difference\",Points) VALUES (202,1986,9,'Denmark',4,3,0,1,10,6,4,6);\n",
        "INSERT INTO Match(No,Year,Position,Team,\"Games Played\",Win,Draw,Loss,\"Goals For\",\"Goals Against\",\"Goal Difference\",Points) VALUES (203,1986,10,'Soviet Union',4,2,1,1,12,5,7,5);\n",
        "INSERT INTO Match(No,Year,Position,Team,\"Games Played\",Win,Draw,Loss,\"Goals For\",\"Goals Against\",\"Goal Difference\",Points) VALUES (204,1986,11,'Morocco',4,1,2,1,3,2,1,4);\n",
        "INSERT INTO Match(No,Year,Position,Team,\"Games Played\",Win,Draw,Loss,\"Goals For\",\"Goals Against\",\"Goal Difference\",Points) VALUES (205,1986,12,'Italy',4,1,2,1,5,6,-1,4);\n",
        "INSERT INTO Match(No,Year,Position,Team,\"Games Played\",Win,Draw,Loss,\"Goals For\",\"Goals Against\",\"Goal Difference\",Points) VALUES (206,1986,13,'Paraguay',4,1,2,1,4,6,-2,4);\n",
        "INSERT INTO Match(No,Year,Position,Team,\"Games Played\",Win,Draw,Loss,\"Goals For\",\"Goals Against\",\"Goal Difference\",Points) VALUES (207,1986,14,'Poland',4,1,1,2,1,7,-6,3);\n",
        "INSERT INTO Match(No,Year,Position,Team,\"Games Played\",Win,Draw,Loss,\"Goals For\",\"Goals Against\",\"Goal Difference\",Points) VALUES (208,1986,15,'Bulgaria',4,0,2,2,2,6,-4,2);\n",
        "INSERT INTO Match(No,Year,Position,Team,\"Games Played\",Win,Draw,Loss,\"Goals For\",\"Goals Against\",\"Goal Difference\",Points) VALUES (209,1986,16,'Uruguay',4,0,2,2,2,8,-6,2);\n",
        "INSERT INTO Match(No,Year,Position,Team,\"Games Played\",Win,Draw,Loss,\"Goals For\",\"Goals Against\",\"Goal Difference\",Points) VALUES (210,1986,17,'Portugal',3,1,0,2,2,4,-2,2);\n",
        "INSERT INTO Match(No,Year,Position,Team,\"Games Played\",Win,Draw,Loss,\"Goals For\",\"Goals Against\",\"Goal Difference\",Points) VALUES (211,1986,18,'Hungary',3,1,0,2,2,9,-7,2);\n",
        "INSERT INTO Match(No,Year,Position,Team,\"Games Played\",Win,Draw,Loss,\"Goals For\",\"Goals Against\",\"Goal Difference\",Points) VALUES (212,1986,19,'Scotland',3,0,1,2,1,3,-2,1);\n",
        "INSERT INTO Match(No,Year,Position,Team,\"Games Played\",Win,Draw,Loss,\"Goals For\",\"Goals Against\",\"Goal Difference\",Points) VALUES (213,1986,20,'South Korea',3,0,1,2,4,7,-3,1);\n",
        "INSERT INTO Match(No,Year,Position,Team,\"Games Played\",Win,Draw,Loss,\"Goals For\",\"Goals Against\",\"Goal Difference\",Points) VALUES (214,1986,21,'Northern Ireland',3,0,1,2,2,6,-4,1);\n",
        "INSERT INTO Match(No,Year,Position,Team,\"Games Played\",Win,Draw,Loss,\"Goals For\",\"Goals Against\",\"Goal Difference\",Points) VALUES (215,1986,22,'Algeria',3,0,1,2,1,5,-4,1);\n",
        "INSERT INTO Match(No,Year,Position,Team,\"Games Played\",Win,Draw,Loss,\"Goals For\",\"Goals Against\",\"Goal Difference\",Points) VALUES (216,1986,23,'Iraq',3,0,0,3,1,4,-3,0);\n",
        "INSERT INTO Match(No,Year,Position,Team,\"Games Played\",Win,Draw,Loss,\"Goals For\",\"Goals Against\",\"Goal Difference\",Points) VALUES (217,1986,24,'Canada',3,0,0,3,0,5,-5,0);\n",
        "INSERT INTO Match(No,Year,Position,Team,\"Games Played\",Win,Draw,Loss,\"Goals For\",\"Goals Against\",\"Goal Difference\",Points) VALUES (218,1990,1,'West Germany',7,5,2,0,15,5,10,12);\n",
        "INSERT INTO Match(No,Year,Position,Team,\"Games Played\",Win,Draw,Loss,\"Goals For\",\"Goals Against\",\"Goal Difference\",Points) VALUES (219,1990,2,'Argentina',7,2,3,2,5,4,1,7);\n",
        "INSERT INTO Match(No,Year,Position,Team,\"Games Played\",Win,Draw,Loss,\"Goals For\",\"Goals Against\",\"Goal Difference\",Points) VALUES (220,1990,3,'Italy',7,6,1,0,10,2,8,13);\n",
        "INSERT INTO Match(No,Year,Position,Team,\"Games Played\",Win,Draw,Loss,\"Goals For\",\"Goals Against\",\"Goal Difference\",Points) VALUES (221,1990,4,'England',7,3,3,1,8,6,2,9);\n",
        "INSERT INTO Match(No,Year,Position,Team,\"Games Played\",Win,Draw,Loss,\"Goals For\",\"Goals Against\",\"Goal Difference\",Points) VALUES (222,1990,5,'Yugoslavia',5,3,1,1,8,6,2,7);\n",
        "INSERT INTO Match(No,Year,Position,Team,\"Games Played\",Win,Draw,Loss,\"Goals For\",\"Goals Against\",\"Goal Difference\",Points) VALUES (223,1990,6,'Czechoslovakia',5,3,0,2,10,5,5,6);\n",
        "INSERT INTO Match(No,Year,Position,Team,\"Games Played\",Win,Draw,Loss,\"Goals For\",\"Goals Against\",\"Goal Difference\",Points) VALUES (224,1990,7,'Cameroon',5,3,0,2,7,9,-2,6);\n",
        "INSERT INTO Match(No,Year,Position,Team,\"Games Played\",Win,Draw,Loss,\"Goals For\",\"Goals Against\",\"Goal Difference\",Points) VALUES (225,1990,8,'Republic of Ireland',5,0,4,1,2,3,-1,4);\n",
        "INSERT INTO Match(No,Year,Position,Team,\"Games Played\",Win,Draw,Loss,\"Goals For\",\"Goals Against\",\"Goal Difference\",Points) VALUES (226,1990,9,'Brazil',4,3,0,1,4,2,2,6);\n",
        "INSERT INTO Match(No,Year,Position,Team,\"Games Played\",Win,Draw,Loss,\"Goals For\",\"Goals Against\",\"Goal Difference\",Points) VALUES (227,1990,10,'Spain',4,2,1,1,6,4,2,5);\n",
        "INSERT INTO Match(No,Year,Position,Team,\"Games Played\",Win,Draw,Loss,\"Goals For\",\"Goals Against\",\"Goal Difference\",Points) VALUES (228,1990,11,'Belgium',4,2,0,2,6,4,2,4);\n",
        "INSERT INTO Match(No,Year,Position,Team,\"Games Played\",Win,Draw,Loss,\"Goals For\",\"Goals Against\",\"Goal Difference\",Points) VALUES (229,1990,12,'Romania',4,1,2,1,4,3,1,4);\n",
        "INSERT INTO Match(No,Year,Position,Team,\"Games Played\",Win,Draw,Loss,\"Goals For\",\"Goals Against\",\"Goal Difference\",Points) VALUES (230,1990,13,'Costa Rica',4,2,0,2,4,6,-2,4);\n",
        "INSERT INTO Match(No,Year,Position,Team,\"Games Played\",Win,Draw,Loss,\"Goals For\",\"Goals Against\",\"Goal Difference\",Points) VALUES (231,1990,14,'Colombia',4,1,1,2,4,4,0,3);\n",
        "INSERT INTO Match(No,Year,Position,Team,\"Games Played\",Win,Draw,Loss,\"Goals For\",\"Goals Against\",\"Goal Difference\",Points) VALUES (232,1990,15,'Netherlands',4,0,3,1,3,4,-1,3);\n",
        "INSERT INTO Match(No,Year,Position,Team,\"Games Played\",Win,Draw,Loss,\"Goals For\",\"Goals Against\",\"Goal Difference\",Points) VALUES (233,1990,16,'Uruguay',4,1,1,2,2,5,-3,3);\n",
        "INSERT INTO Match(No,Year,Position,Team,\"Games Played\",Win,Draw,Loss,\"Goals For\",\"Goals Against\",\"Goal Difference\",Points) VALUES (234,1990,17,'Soviet Union',3,1,0,2,4,4,0,2);\n",
        "INSERT INTO Match(No,Year,Position,Team,\"Games Played\",Win,Draw,Loss,\"Goals For\",\"Goals Against\",\"Goal Difference\",Points) VALUES (235,1990,18,'Austria',3,1,0,2,2,3,-1,2);\n",
        "INSERT INTO Match(No,Year,Position,Team,\"Games Played\",Win,Draw,Loss,\"Goals For\",\"Goals Against\",\"Goal Difference\",Points) VALUES (236,1990,18,'Scotland',3,1,0,2,2,3,-1,2);\n",
        "INSERT INTO Match(No,Year,Position,Team,\"Games Played\",Win,Draw,Loss,\"Goals For\",\"Goals Against\",\"Goal Difference\",Points) VALUES (237,1990,20,'Egypt',3,0,2,1,1,2,-1,2);\n",
        "INSERT INTO Match(No,Year,Position,Team,\"Games Played\",Win,Draw,Loss,\"Goals For\",\"Goals Against\",\"Goal Difference\",Points) VALUES (238,1990,21,'Sweden',3,0,0,3,3,6,-3,0);\n",
        "INSERT INTO Match(No,Year,Position,Team,\"Games Played\",Win,Draw,Loss,\"Goals For\",\"Goals Against\",\"Goal Difference\",Points) VALUES (239,1990,22,'South Korea',3,0,0,3,1,6,-5,0);\n",
        "INSERT INTO Match(No,Year,Position,Team,\"Games Played\",Win,Draw,Loss,\"Goals For\",\"Goals Against\",\"Goal Difference\",Points) VALUES (240,1990,23,'United States',3,0,0,3,2,8,-6,0);\n",
        "INSERT INTO Match(No,Year,Position,Team,\"Games Played\",Win,Draw,Loss,\"Goals For\",\"Goals Against\",\"Goal Difference\",Points) VALUES (241,1990,24,'United Arab Emirates',3,0,0,3,2,11,-9,0);\n",
        "INSERT INTO Match(No,Year,Position,Team,\"Games Played\",Win,Draw,Loss,\"Goals For\",\"Goals Against\",\"Goal Difference\",Points) VALUES (242,1994,1,'Brazil',7,5,2,0,11,3,8,17);\n",
        "INSERT INTO Match(No,Year,Position,Team,\"Games Played\",Win,Draw,Loss,\"Goals For\",\"Goals Against\",\"Goal Difference\",Points) VALUES (243,1994,2,'Italy',7,4,2,1,8,5,3,14);\n",
        "INSERT INTO Match(No,Year,Position,Team,\"Games Played\",Win,Draw,Loss,\"Goals For\",\"Goals Against\",\"Goal Difference\",Points) VALUES (244,1994,3,'Sweden',7,3,3,1,15,8,7,12);\n",
        "INSERT INTO Match(No,Year,Position,Team,\"Games Played\",Win,Draw,Loss,\"Goals For\",\"Goals Against\",\"Goal Difference\",Points) VALUES (245,1994,4,'Bulgaria',7,3,1,3,10,11,-1,10);\n",
        "INSERT INTO Match(No,Year,Position,Team,\"Games Played\",Win,Draw,Loss,\"Goals For\",\"Goals Against\",\"Goal Difference\",Points) VALUES (246,1994,5,'Germany',5,3,1,1,9,7,2,10);\n",
        "INSERT INTO Match(No,Year,Position,Team,\"Games Played\",Win,Draw,Loss,\"Goals For\",\"Goals Against\",\"Goal Difference\",Points) VALUES (247,1994,6,'Romania',5,3,1,1,10,9,1,10);\n",
        "INSERT INTO Match(No,Year,Position,Team,\"Games Played\",Win,Draw,Loss,\"Goals For\",\"Goals Against\",\"Goal Difference\",Points) VALUES (248,1994,7,'Netherlands',5,3,0,2,8,6,2,9);\n",
        "INSERT INTO Match(No,Year,Position,Team,\"Games Played\",Win,Draw,Loss,\"Goals For\",\"Goals Against\",\"Goal Difference\",Points) VALUES (249,1994,8,'Spain',5,2,2,1,10,6,4,8);\n",
        "INSERT INTO Match(No,Year,Position,Team,\"Games Played\",Win,Draw,Loss,\"Goals For\",\"Goals Against\",\"Goal Difference\",Points) VALUES (250,1994,9,'Nigeria',4,2,0,2,7,4,3,6);\n",
        "INSERT INTO Match(No,Year,Position,Team,\"Games Played\",Win,Draw,Loss,\"Goals For\",\"Goals Against\",\"Goal Difference\",Points) VALUES (251,1994,10,'Argentina',4,2,0,2,8,6,2,6);\n",
        "INSERT INTO Match(No,Year,Position,Team,\"Games Played\",Win,Draw,Loss,\"Goals For\",\"Goals Against\",\"Goal Difference\",Points) VALUES (252,1994,11,'Belgium',4,2,0,2,4,4,0,6);\n",
        "INSERT INTO Match(No,Year,Position,Team,\"Games Played\",Win,Draw,Loss,\"Goals For\",\"Goals Against\",\"Goal Difference\",Points) VALUES (253,1994,12,'Saudi Arabia',4,2,0,2,5,6,-1,6);\n",
        "INSERT INTO Match(No,Year,Position,Team,\"Games Played\",Win,Draw,Loss,\"Goals For\",\"Goals Against\",\"Goal Difference\",Points) VALUES (254,1994,13,'Mexico',4,1,2,1,4,4,0,5);\n",
        "INSERT INTO Match(No,Year,Position,Team,\"Games Played\",Win,Draw,Loss,\"Goals For\",\"Goals Against\",\"Goal Difference\",Points) VALUES (255,1994,14,'United States',4,1,1,2,3,4,-1,4);\n",
        "INSERT INTO Match(No,Year,Position,Team,\"Games Played\",Win,Draw,Loss,\"Goals For\",\"Goals Against\",\"Goal Difference\",Points) VALUES (256,1994,15,'Switzerland',4,1,1,2,5,7,-2,4);\n",
        "INSERT INTO Match(No,Year,Position,Team,\"Games Played\",Win,Draw,Loss,\"Goals For\",\"Goals Against\",\"Goal Difference\",Points) VALUES (257,1994,16,'Republic of Ireland',4,1,1,2,2,4,-2,4);\n",
        "INSERT INTO Match(No,Year,Position,Team,\"Games Played\",Win,Draw,Loss,\"Goals For\",\"Goals Against\",\"Goal Difference\",Points) VALUES (258,1994,17,'Norway',3,1,1,1,1,1,0,4);\n",
        "INSERT INTO Match(No,Year,Position,Team,\"Games Played\",Win,Draw,Loss,\"Goals For\",\"Goals Against\",\"Goal Difference\",Points) VALUES (259,1994,18,'Russia',3,1,0,2,7,6,1,3);\n",
        "INSERT INTO Match(No,Year,Position,Team,\"Games Played\",Win,Draw,Loss,\"Goals For\",\"Goals Against\",\"Goal Difference\",Points) VALUES (260,1994,19,'Colombia',3,1,0,2,4,5,-1,3);\n",
        "INSERT INTO Match(No,Year,Position,Team,\"Games Played\",Win,Draw,Loss,\"Goals For\",\"Goals Against\",\"Goal Difference\",Points) VALUES (261,1994,20,'South Korea',3,0,2,1,4,5,-1,2);\n",
        "INSERT INTO Match(No,Year,Position,Team,\"Games Played\",Win,Draw,Loss,\"Goals For\",\"Goals Against\",\"Goal Difference\",Points) VALUES (262,1994,21,'Bolivia',3,0,1,2,1,4,-3,1);\n",
        "INSERT INTO Match(No,Year,Position,Team,\"Games Played\",Win,Draw,Loss,\"Goals For\",\"Goals Against\",\"Goal Difference\",Points) VALUES (263,1994,22,'Cameroon',3,0,1,2,3,11,-8,1);\n",
        "INSERT INTO Match(No,Year,Position,Team,\"Games Played\",Win,Draw,Loss,\"Goals For\",\"Goals Against\",\"Goal Difference\",Points) VALUES (264,1994,23,'Morocco',3,0,0,3,2,5,-3,0);\n",
        "INSERT INTO Match(No,Year,Position,Team,\"Games Played\",Win,Draw,Loss,\"Goals For\",\"Goals Against\",\"Goal Difference\",Points) VALUES (265,1994,24,'Greece',3,0,0,3,0,10,-10,0);\n",
        "INSERT INTO Match(No,Year,Position,Team,\"Games Played\",Win,Draw,Loss,\"Goals For\",\"Goals Against\",\"Goal Difference\",Points) VALUES (266,1998,1,'France',7,6,1,0,15,2,13,19);\n",
        "INSERT INTO Match(No,Year,Position,Team,\"Games Played\",Win,Draw,Loss,\"Goals For\",\"Goals Against\",\"Goal Difference\",Points) VALUES (267,1998,2,'Brazil',7,4,1,2,14,10,4,13);\n",
        "INSERT INTO Match(No,Year,Position,Team,\"Games Played\",Win,Draw,Loss,\"Goals For\",\"Goals Against\",\"Goal Difference\",Points) VALUES (268,1998,3,'Croatia',7,5,0,2,11,5,6,15);\n",
        "INSERT INTO Match(No,Year,Position,Team,\"Games Played\",Win,Draw,Loss,\"Goals For\",\"Goals Against\",\"Goal Difference\",Points) VALUES (269,1998,4,'Netherlands',7,3,3,1,13,7,6,12);\n",
        "INSERT INTO Match(No,Year,Position,Team,\"Games Played\",Win,Draw,Loss,\"Goals For\",\"Goals Against\",\"Goal Difference\",Points) VALUES (270,1998,5,'Italy',5,3,2,0,8,3,5,11);\n",
        "INSERT INTO Match(No,Year,Position,Team,\"Games Played\",Win,Draw,Loss,\"Goals For\",\"Goals Against\",\"Goal Difference\",Points) VALUES (271,1998,6,'Argentina',5,3,1,1,10,4,6,10);\n",
        "INSERT INTO Match(No,Year,Position,Team,\"Games Played\",Win,Draw,Loss,\"Goals For\",\"Goals Against\",\"Goal Difference\",Points) VALUES (272,1998,7,'Germany',5,3,1,1,8,6,2,10);\n",
        "INSERT INTO Match(No,Year,Position,Team,\"Games Played\",Win,Draw,Loss,\"Goals For\",\"Goals Against\",\"Goal Difference\",Points) VALUES (273,1998,8,'Denmark',5,2,1,2,9,7,2,7);\n",
        "INSERT INTO Match(No,Year,Position,Team,\"Games Played\",Win,Draw,Loss,\"Goals For\",\"Goals Against\",\"Goal Difference\",Points) VALUES (274,1998,9,'England',4,2,1,1,7,4,3,7);\n",
        "INSERT INTO Match(No,Year,Position,Team,\"Games Played\",Win,Draw,Loss,\"Goals For\",\"Goals Against\",\"Goal Difference\",Points) VALUES (275,1998,10,'FR Yugoslavia',4,2,1,1,5,4,1,7);\n",
        "INSERT INTO Match(No,Year,Position,Team,\"Games Played\",Win,Draw,Loss,\"Goals For\",\"Goals Against\",\"Goal Difference\",Points) VALUES (276,1998,11,'Romania',4,2,1,1,4,3,1,7);\n",
        "INSERT INTO Match(No,Year,Position,Team,\"Games Played\",Win,Draw,Loss,\"Goals For\",\"Goals Against\",\"Goal Difference\",Points) VALUES (277,1998,12,'Nigeria',4,2,0,2,6,9,-3,6);\n",
        "INSERT INTO Match(No,Year,Position,Team,\"Games Played\",Win,Draw,Loss,\"Goals For\",\"Goals Against\",\"Goal Difference\",Points) VALUES (278,1998,13,'Mexico',4,1,2,1,8,7,1,5);\n",
        "INSERT INTO Match(No,Year,Position,Team,\"Games Played\",Win,Draw,Loss,\"Goals For\",\"Goals Against\",\"Goal Difference\",Points) VALUES (279,1998,14,'Paraguay',4,1,2,1,3,2,1,5);\n",
        "INSERT INTO Match(No,Year,Position,Team,\"Games Played\",Win,Draw,Loss,\"Goals For\",\"Goals Against\",\"Goal Difference\",Points) VALUES (280,1998,15,'Norway',4,1,2,1,5,5,0,5);\n",
        "INSERT INTO Match(No,Year,Position,Team,\"Games Played\",Win,Draw,Loss,\"Goals For\",\"Goals Against\",\"Goal Difference\",Points) VALUES (281,1998,16,'Chile',4,0,3,1,5,8,-3,3);\n",
        "INSERT INTO Match(No,Year,Position,Team,\"Games Played\",Win,Draw,Loss,\"Goals For\",\"Goals Against\",\"Goal Difference\",Points) VALUES (282,1998,17,'Spain',3,1,1,1,8,4,4,4);\n",
        "INSERT INTO Match(No,Year,Position,Team,\"Games Played\",Win,Draw,Loss,\"Goals For\",\"Goals Against\",\"Goal Difference\",Points) VALUES (283,1998,18,'Morocco',3,1,1,1,5,5,0,4);\n",
        "INSERT INTO Match(No,Year,Position,Team,\"Games Played\",Win,Draw,Loss,\"Goals For\",\"Goals Against\",\"Goal Difference\",Points) VALUES (284,1998,19,'Belgium',3,0,3,0,3,3,0,3);\n",
        "INSERT INTO Match(No,Year,Position,Team,\"Games Played\",Win,Draw,Loss,\"Goals For\",\"Goals Against\",\"Goal Difference\",Points) VALUES (285,1998,20,'Iran',3,1,0,2,2,4,-2,3);\n",
        "INSERT INTO Match(No,Year,Position,Team,\"Games Played\",Win,Draw,Loss,\"Goals For\",\"Goals Against\",\"Goal Difference\",Points) VALUES (286,1998,21,'Colombia',3,1,0,2,1,3,-2,3);\n",
        "INSERT INTO Match(No,Year,Position,Team,\"Games Played\",Win,Draw,Loss,\"Goals For\",\"Goals Against\",\"Goal Difference\",Points) VALUES (287,1998,22,'Jamaica',3,1,0,2,3,9,-6,3);\n",
        "INSERT INTO Match(No,Year,Position,Team,\"Games Played\",Win,Draw,Loss,\"Goals For\",\"Goals Against\",\"Goal Difference\",Points) VALUES (288,1998,23,'Austria',3,0,2,1,3,4,-1,2);\n",
        "INSERT INTO Match(No,Year,Position,Team,\"Games Played\",Win,Draw,Loss,\"Goals For\",\"Goals Against\",\"Goal Difference\",Points) VALUES (289,1998,24,'South Africa',3,0,2,1,3,6,-3,2);\n",
        "INSERT INTO Match(No,Year,Position,Team,\"Games Played\",Win,Draw,Loss,\"Goals For\",\"Goals Against\",\"Goal Difference\",Points) VALUES (290,1998,25,'Cameroon',3,0,2,1,2,5,-3,2);\n",
        "INSERT INTO Match(No,Year,Position,Team,\"Games Played\",Win,Draw,Loss,\"Goals For\",\"Goals Against\",\"Goal Difference\",Points) VALUES (291,1998,26,'Tunisia',3,0,1,2,1,4,-3,1);\n",
        "INSERT INTO Match(No,Year,Position,Team,\"Games Played\",Win,Draw,Loss,\"Goals For\",\"Goals Against\",\"Goal Difference\",Points) VALUES (292,1998,27,'Scotland',3,0,1,2,2,6,-4,1);\n",
        "INSERT INTO Match(No,Year,Position,Team,\"Games Played\",Win,Draw,Loss,\"Goals For\",\"Goals Against\",\"Goal Difference\",Points) VALUES (293,1998,28,'Saudi Arabia',3,0,1,2,2,7,-5,1);\n",
        "INSERT INTO Match(No,Year,Position,Team,\"Games Played\",Win,Draw,Loss,\"Goals For\",\"Goals Against\",\"Goal Difference\",Points) VALUES (294,1998,29,'Bulgaria',3,0,1,2,1,7,-6,1);\n",
        "INSERT INTO Match(No,Year,Position,Team,\"Games Played\",Win,Draw,Loss,\"Goals For\",\"Goals Against\",\"Goal Difference\",Points) VALUES (295,1998,30,'South Korea',3,0,1,2,2,9,-7,1);\n",
        "INSERT INTO Match(No,Year,Position,Team,\"Games Played\",Win,Draw,Loss,\"Goals For\",\"Goals Against\",\"Goal Difference\",Points) VALUES (296,1998,31,'Japan',3,0,0,3,1,4,-3,0);\n",
        "INSERT INTO Match(No,Year,Position,Team,\"Games Played\",Win,Draw,Loss,\"Goals For\",\"Goals Against\",\"Goal Difference\",Points) VALUES (297,1998,32,'United States',3,0,0,3,1,5,-4,0);\n",
        "INSERT INTO Match(No,Year,Position,Team,\"Games Played\",Win,Draw,Loss,\"Goals For\",\"Goals Against\",\"Goal Difference\",Points) VALUES (298,2002,1,'Brazil',7,7,0,0,18,4,14,21);\n",
        "INSERT INTO Match(No,Year,Position,Team,\"Games Played\",Win,Draw,Loss,\"Goals For\",\"Goals Against\",\"Goal Difference\",Points) VALUES (299,2002,2,'Germany',7,5,1,1,14,3,11,16);\n",
        "INSERT INTO Match(No,Year,Position,Team,\"Games Played\",Win,Draw,Loss,\"Goals For\",\"Goals Against\",\"Goal Difference\",Points) VALUES (300,2002,3,'Turkey',7,4,1,2,10,6,4,13);\n",
        "INSERT INTO Match(No,Year,Position,Team,\"Games Played\",Win,Draw,Loss,\"Goals For\",\"Goals Against\",\"Goal Difference\",Points) VALUES (301,2002,4,'South Korea',7,3,2,2,8,6,2,11);\n",
        "INSERT INTO Match(No,Year,Position,Team,\"Games Played\",Win,Draw,Loss,\"Goals For\",\"Goals Against\",\"Goal Difference\",Points) VALUES (302,2002,5,'Spain',5,3,2,0,10,5,5,11);\n",
        "INSERT INTO Match(No,Year,Position,Team,\"Games Played\",Win,Draw,Loss,\"Goals For\",\"Goals Against\",\"Goal Difference\",Points) VALUES (303,2002,6,'England',5,2,2,1,6,3,3,8);\n",
        "INSERT INTO Match(No,Year,Position,Team,\"Games Played\",Win,Draw,Loss,\"Goals For\",\"Goals Against\",\"Goal Difference\",Points) VALUES (304,2002,7,'Senegal',5,2,2,1,7,6,1,8);\n",
        "INSERT INTO Match(No,Year,Position,Team,\"Games Played\",Win,Draw,Loss,\"Goals For\",\"Goals Against\",\"Goal Difference\",Points) VALUES (305,2002,8,'United States',5,2,1,2,7,7,0,7);\n",
        "INSERT INTO Match(No,Year,Position,Team,\"Games Played\",Win,Draw,Loss,\"Goals For\",\"Goals Against\",\"Goal Difference\",Points) VALUES (306,2002,9,'Japan',4,2,1,1,5,3,2,7);\n",
        "INSERT INTO Match(No,Year,Position,Team,\"Games Played\",Win,Draw,Loss,\"Goals For\",\"Goals Against\",\"Goal Difference\",Points) VALUES (307,2002,10,'Denmark',4,2,1,1,5,5,0,7);\n",
        "INSERT INTO Match(No,Year,Position,Team,\"Games Played\",Win,Draw,Loss,\"Goals For\",\"Goals Against\",\"Goal Difference\",Points) VALUES (308,2002,11,'Mexico',4,2,1,1,4,4,0,7);\n",
        "INSERT INTO Match(No,Year,Position,Team,\"Games Played\",Win,Draw,Loss,\"Goals For\",\"Goals Against\",\"Goal Difference\",Points) VALUES (309,2002,12,'Republic of Ireland',4,1,3,0,6,3,3,6);\n",
        "INSERT INTO Match(No,Year,Position,Team,\"Games Played\",Win,Draw,Loss,\"Goals For\",\"Goals Against\",\"Goal Difference\",Points) VALUES (310,2002,13,'Sweden',4,1,2,1,5,5,0,5);\n",
        "INSERT INTO Match(No,Year,Position,Team,\"Games Played\",Win,Draw,Loss,\"Goals For\",\"Goals Against\",\"Goal Difference\",Points) VALUES (311,2002,14,'Belgium',4,1,2,1,6,7,-1,5);\n",
        "INSERT INTO Match(No,Year,Position,Team,\"Games Played\",Win,Draw,Loss,\"Goals For\",\"Goals Against\",\"Goal Difference\",Points) VALUES (312,2002,15,'Italy',4,1,1,2,5,5,0,4);\n",
        "INSERT INTO Match(No,Year,Position,Team,\"Games Played\",Win,Draw,Loss,\"Goals For\",\"Goals Against\",\"Goal Difference\",Points) VALUES (313,2002,16,'Paraguay',4,1,1,2,6,7,-1,4);\n",
        "INSERT INTO Match(No,Year,Position,Team,\"Games Played\",Win,Draw,Loss,\"Goals For\",\"Goals Against\",\"Goal Difference\",Points) VALUES (314,2002,17,'South Africa',3,1,1,1,5,5,0,4);\n",
        "INSERT INTO Match(No,Year,Position,Team,\"Games Played\",Win,Draw,Loss,\"Goals For\",\"Goals Against\",\"Goal Difference\",Points) VALUES (315,2002,18,'Argentina',3,1,1,1,2,2,0,4);\n",
        "INSERT INTO Match(No,Year,Position,Team,\"Games Played\",Win,Draw,Loss,\"Goals For\",\"Goals Against\",\"Goal Difference\",Points) VALUES (316,2002,19,'Costa Rica',3,1,1,1,5,6,-1,4);\n",
        "INSERT INTO Match(No,Year,Position,Team,\"Games Played\",Win,Draw,Loss,\"Goals For\",\"Goals Against\",\"Goal Difference\",Points) VALUES (317,2002,20,'Cameroon',3,1,1,1,2,3,-1,4);\n",
        "INSERT INTO Match(No,Year,Position,Team,\"Games Played\",Win,Draw,Loss,\"Goals For\",\"Goals Against\",\"Goal Difference\",Points) VALUES (318,2002,21,'Portugal',3,1,0,2,6,4,2,3);\n",
        "INSERT INTO Match(No,Year,Position,Team,\"Games Played\",Win,Draw,Loss,\"Goals For\",\"Goals Against\",\"Goal Difference\",Points) VALUES (319,2002,22,'Russia',3,1,0,2,4,4,0,3);\n",
        "INSERT INTO Match(No,Year,Position,Team,\"Games Played\",Win,Draw,Loss,\"Goals For\",\"Goals Against\",\"Goal Difference\",Points) VALUES (320,2002,23,'Croatia',3,1,0,2,2,3,-1,3);\n",
        "INSERT INTO Match(No,Year,Position,Team,\"Games Played\",Win,Draw,Loss,\"Goals For\",\"Goals Against\",\"Goal Difference\",Points) VALUES (321,2002,24,'Ecuador',3,1,0,2,2,4,-2,3);\n",
        "INSERT INTO Match(No,Year,Position,Team,\"Games Played\",Win,Draw,Loss,\"Goals For\",\"Goals Against\",\"Goal Difference\",Points) VALUES (322,2002,25,'Poland',3,1,0,2,3,7,-4,3);\n",
        "INSERT INTO Match(No,Year,Position,Team,\"Games Played\",Win,Draw,Loss,\"Goals For\",\"Goals Against\",\"Goal Difference\",Points) VALUES (323,2002,26,'Uruguay',3,0,2,1,4,5,-1,2);\n",
        "INSERT INTO Match(No,Year,Position,Team,\"Games Played\",Win,Draw,Loss,\"Goals For\",\"Goals Against\",\"Goal Difference\",Points) VALUES (324,2002,27,'Nigeria',3,0,1,2,1,3,-2,1);\n",
        "INSERT INTO Match(No,Year,Position,Team,\"Games Played\",Win,Draw,Loss,\"Goals For\",\"Goals Against\",\"Goal Difference\",Points) VALUES (325,2002,28,'France',3,0,1,2,0,3,-3,1);\n",
        "INSERT INTO Match(No,Year,Position,Team,\"Games Played\",Win,Draw,Loss,\"Goals For\",\"Goals Against\",\"Goal Difference\",Points) VALUES (326,2002,29,'Tunisia',3,0,1,2,1,5,-4,1);\n",
        "INSERT INTO Match(No,Year,Position,Team,\"Games Played\",Win,Draw,Loss,\"Goals For\",\"Goals Against\",\"Goal Difference\",Points) VALUES (327,2002,30,'Slovenia',3,0,0,3,2,7,-5,0);\n",
        "INSERT INTO Match(No,Year,Position,Team,\"Games Played\",Win,Draw,Loss,\"Goals For\",\"Goals Against\",\"Goal Difference\",Points) VALUES (328,2002,31,'China PR',3,0,0,3,0,9,-9,0);\n",
        "INSERT INTO Match(No,Year,Position,Team,\"Games Played\",Win,Draw,Loss,\"Goals For\",\"Goals Against\",\"Goal Difference\",Points) VALUES (329,2002,32,'Saudi Arabia',3,0,0,3,0,12,-12,0);\n",
        "INSERT INTO Match(No,Year,Position,Team,\"Games Played\",Win,Draw,Loss,\"Goals For\",\"Goals Against\",\"Goal Difference\",Points) VALUES (330,2006,1,'Italy',7,5,2,0,12,2,10,17);\n",
        "INSERT INTO Match(No,Year,Position,Team,\"Games Played\",Win,Draw,Loss,\"Goals For\",\"Goals Against\",\"Goal Difference\",Points) VALUES (331,2006,2,'France',7,4,3,0,9,3,6,15);\n",
        "INSERT INTO Match(No,Year,Position,Team,\"Games Played\",Win,Draw,Loss,\"Goals For\",\"Goals Against\",\"Goal Difference\",Points) VALUES (332,2006,3,'Germany',7,5,1,1,14,6,8,16);\n",
        "INSERT INTO Match(No,Year,Position,Team,\"Games Played\",Win,Draw,Loss,\"Goals For\",\"Goals Against\",\"Goal Difference\",Points) VALUES (333,2006,4,'Portugal',7,4,1,2,7,5,2,13);\n",
        "INSERT INTO Match(No,Year,Position,Team,\"Games Played\",Win,Draw,Loss,\"Goals For\",\"Goals Against\",\"Goal Difference\",Points) VALUES (334,2006,5,'Brazil',5,4,0,1,10,2,8,12);\n",
        "INSERT INTO Match(No,Year,Position,Team,\"Games Played\",Win,Draw,Loss,\"Goals For\",\"Goals Against\",\"Goal Difference\",Points) VALUES (335,2006,6,'Argentina',5,3,2,0,11,3,8,11);\n",
        "INSERT INTO Match(No,Year,Position,Team,\"Games Played\",Win,Draw,Loss,\"Goals For\",\"Goals Against\",\"Goal Difference\",Points) VALUES (336,2006,7,'England',5,3,2,0,6,2,4,11);\n",
        "INSERT INTO Match(No,Year,Position,Team,\"Games Played\",Win,Draw,Loss,\"Goals For\",\"Goals Against\",\"Goal Difference\",Points) VALUES (337,2006,8,'Ukraine',5,2,1,2,5,7,-2,7);\n",
        "INSERT INTO Match(No,Year,Position,Team,\"Games Played\",Win,Draw,Loss,\"Goals For\",\"Goals Against\",\"Goal Difference\",Points) VALUES (338,2006,9,'Spain',4,3,0,1,9,4,5,9);\n",
        "INSERT INTO Match(No,Year,Position,Team,\"Games Played\",Win,Draw,Loss,\"Goals For\",\"Goals Against\",\"Goal Difference\",Points) VALUES (339,2006,10,'Switzerland',4,2,2,0,4,0,4,8);\n",
        "INSERT INTO Match(No,Year,Position,Team,\"Games Played\",Win,Draw,Loss,\"Goals For\",\"Goals Against\",\"Goal Difference\",Points) VALUES (340,2006,11,'Netherlands',4,2,1,1,3,2,1,7);\n",
        "INSERT INTO Match(No,Year,Position,Team,\"Games Played\",Win,Draw,Loss,\"Goals For\",\"Goals Against\",\"Goal Difference\",Points) VALUES (341,2006,12,'Ecuador',4,2,0,2,5,4,1,6);\n",
        "INSERT INTO Match(No,Year,Position,Team,\"Games Played\",Win,Draw,Loss,\"Goals For\",\"Goals Against\",\"Goal Difference\",Points) VALUES (342,2006,13,'Ghana',4,2,0,2,4,6,-2,6);\n",
        "INSERT INTO Match(No,Year,Position,Team,\"Games Played\",Win,Draw,Loss,\"Goals For\",\"Goals Against\",\"Goal Difference\",Points) VALUES (343,2006,14,'Sweden',4,1,2,1,3,4,-1,5);\n",
        "INSERT INTO Match(No,Year,Position,Team,\"Games Played\",Win,Draw,Loss,\"Goals For\",\"Goals Against\",\"Goal Difference\",Points) VALUES (344,2006,15,'Mexico',4,1,1,2,5,5,0,4);\n",
        "INSERT INTO Match(No,Year,Position,Team,\"Games Played\",Win,Draw,Loss,\"Goals For\",\"Goals Against\",\"Goal Difference\",Points) VALUES (345,2006,16,'Australia',4,1,1,2,5,6,-1,4);\n",
        "INSERT INTO Match(No,Year,Position,Team,\"Games Played\",Win,Draw,Loss,\"Goals For\",\"Goals Against\",\"Goal Difference\",Points) VALUES (346,2006,17,'South Korea',3,1,1,1,3,4,-1,4);\n",
        "INSERT INTO Match(No,Year,Position,Team,\"Games Played\",Win,Draw,Loss,\"Goals For\",\"Goals Against\",\"Goal Difference\",Points) VALUES (347,2006,18,'Paraguay',3,1,0,2,2,2,0,3);\n",
        "INSERT INTO Match(No,Year,Position,Team,\"Games Played\",Win,Draw,Loss,\"Goals For\",\"Goals Against\",\"Goal Difference\",Points) VALUES (348,2006,19,'Ivory Coast',3,1,0,2,5,6,-1,3);\n",
        "INSERT INTO Match(No,Year,Position,Team,\"Games Played\",Win,Draw,Loss,\"Goals For\",\"Goals Against\",\"Goal Difference\",Points) VALUES (349,2006,20,'Czech Republic',3,1,0,2,3,4,-1,3);\n",
        "INSERT INTO Match(No,Year,Position,Team,\"Games Played\",Win,Draw,Loss,\"Goals For\",\"Goals Against\",\"Goal Difference\",Points) VALUES (350,2006,21,'Poland',3,1,0,2,2,4,-2,3);\n",
        "INSERT INTO Match(No,Year,Position,Team,\"Games Played\",Win,Draw,Loss,\"Goals For\",\"Goals Against\",\"Goal Difference\",Points) VALUES (351,2006,22,'Croatia',3,0,2,1,2,3,-1,2);\n",
        "INSERT INTO Match(No,Year,Position,Team,\"Games Played\",Win,Draw,Loss,\"Goals For\",\"Goals Against\",\"Goal Difference\",Points) VALUES (352,2006,23,'Angola',3,0,2,1,1,2,-1,2);\n",
        "INSERT INTO Match(No,Year,Position,Team,\"Games Played\",Win,Draw,Loss,\"Goals For\",\"Goals Against\",\"Goal Difference\",Points) VALUES (353,2006,24,'Tunisia',3,0,1,2,3,6,-3,1);\n",
        "INSERT INTO Match(No,Year,Position,Team,\"Games Played\",Win,Draw,Loss,\"Goals For\",\"Goals Against\",\"Goal Difference\",Points) VALUES (354,2006,25,'Iran',3,0,1,2,2,6,-4,1);\n",
        "INSERT INTO Match(No,Year,Position,Team,\"Games Played\",Win,Draw,Loss,\"Goals For\",\"Goals Against\",\"Goal Difference\",Points) VALUES (355,2006,25,'United States',3,0,1,2,2,6,-4,1);\n",
        "INSERT INTO Match(No,Year,Position,Team,\"Games Played\",Win,Draw,Loss,\"Goals For\",\"Goals Against\",\"Goal Difference\",Points) VALUES (356,2006,27,'Trinidad and Tobago',3,0,1,2,0,4,-4,1);\n",
        "INSERT INTO Match(No,Year,Position,Team,\"Games Played\",Win,Draw,Loss,\"Goals For\",\"Goals Against\",\"Goal Difference\",Points) VALUES (357,2006,28,'Japan',3,0,1,2,2,7,-5,1);\n",
        "INSERT INTO Match(No,Year,Position,Team,\"Games Played\",Win,Draw,Loss,\"Goals For\",\"Goals Against\",\"Goal Difference\",Points) VALUES (358,2006,28,'Saudi Arabia',3,0,1,2,2,7,-5,1);\n",
        "INSERT INTO Match(No,Year,Position,Team,\"Games Played\",Win,Draw,Loss,\"Goals For\",\"Goals Against\",\"Goal Difference\",Points) VALUES (359,2006,30,'Togo',3,0,0,3,1,6,-5,0);\n",
        "INSERT INTO Match(No,Year,Position,Team,\"Games Played\",Win,Draw,Loss,\"Goals For\",\"Goals Against\",\"Goal Difference\",Points) VALUES (360,2006,31,'Costa Rica',3,0,0,3,3,9,-6,0);\n",
        "INSERT INTO Match(No,Year,Position,Team,\"Games Played\",Win,Draw,Loss,\"Goals For\",\"Goals Against\",\"Goal Difference\",Points) VALUES (361,2006,32,'Serbia and Montenegro',3,0,0,3,2,10,-8,0);\n",
        "INSERT INTO Match(No,Year,Position,Team,\"Games Played\",Win,Draw,Loss,\"Goals For\",\"Goals Against\",\"Goal Difference\",Points) VALUES (362,2010,1,'Spain',7,6,0,1,8,2,6,18);\n",
        "INSERT INTO Match(No,Year,Position,Team,\"Games Played\",Win,Draw,Loss,\"Goals For\",\"Goals Against\",\"Goal Difference\",Points) VALUES (363,2010,2,'Netherlands',7,6,0,1,12,6,6,18);\n",
        "INSERT INTO Match(No,Year,Position,Team,\"Games Played\",Win,Draw,Loss,\"Goals For\",\"Goals Against\",\"Goal Difference\",Points) VALUES (364,2010,3,'Germany',7,5,0,2,16,5,11,15);\n",
        "INSERT INTO Match(No,Year,Position,Team,\"Games Played\",Win,Draw,Loss,\"Goals For\",\"Goals Against\",\"Goal Difference\",Points) VALUES (365,2010,4,'Uruguay',7,3,2,2,11,8,3,11);\n",
        "INSERT INTO Match(No,Year,Position,Team,\"Games Played\",Win,Draw,Loss,\"Goals For\",\"Goals Against\",\"Goal Difference\",Points) VALUES (366,2010,5,'Argentina',5,4,0,1,10,6,4,12);\n",
        "INSERT INTO Match(No,Year,Position,Team,\"Games Played\",Win,Draw,Loss,\"Goals For\",\"Goals Against\",\"Goal Difference\",Points) VALUES (367,2010,6,'Brazil',5,3,1,1,9,4,5,10);\n",
        "INSERT INTO Match(No,Year,Position,Team,\"Games Played\",Win,Draw,Loss,\"Goals For\",\"Goals Against\",\"Goal Difference\",Points) VALUES (368,2010,7,'Ghana',5,2,2,1,5,4,1,8);\n",
        "INSERT INTO Match(No,Year,Position,Team,\"Games Played\",Win,Draw,Loss,\"Goals For\",\"Goals Against\",\"Goal Difference\",Points) VALUES (369,2010,8,'Paraguay',5,1,3,1,3,2,1,6);\n",
        "INSERT INTO Match(No,Year,Position,Team,\"Games Played\",Win,Draw,Loss,\"Goals For\",\"Goals Against\",\"Goal Difference\",Points) VALUES (370,2010,9,'Japan',4,2,1,1,4,2,2,7);\n",
        "INSERT INTO Match(No,Year,Position,Team,\"Games Played\",Win,Draw,Loss,\"Goals For\",\"Goals Against\",\"Goal Difference\",Points) VALUES (371,2010,10,'Chile',4,2,0,2,3,5,-2,6);\n",
        "INSERT INTO Match(No,Year,Position,Team,\"Games Played\",Win,Draw,Loss,\"Goals For\",\"Goals Against\",\"Goal Difference\",Points) VALUES (372,2010,11,'Portugal',4,1,2,1,7,1,6,5);\n",
        "INSERT INTO Match(No,Year,Position,Team,\"Games Played\",Win,Draw,Loss,\"Goals For\",\"Goals Against\",\"Goal Difference\",Points) VALUES (373,2010,12,'United States',4,1,2,1,5,5,0,5);\n",
        "INSERT INTO Match(No,Year,Position,Team,\"Games Played\",Win,Draw,Loss,\"Goals For\",\"Goals Against\",\"Goal Difference\",Points) VALUES (374,2010,13,'England',4,1,2,1,3,5,-2,5);\n",
        "INSERT INTO Match(No,Year,Position,Team,\"Games Played\",Win,Draw,Loss,\"Goals For\",\"Goals Against\",\"Goal Difference\",Points) VALUES (375,2010,14,'Mexico',4,1,1,2,4,5,-1,4);\n",
        "INSERT INTO Match(No,Year,Position,Team,\"Games Played\",Win,Draw,Loss,\"Goals For\",\"Goals Against\",\"Goal Difference\",Points) VALUES (376,2010,15,'South Korea',4,1,1,2,6,8,-2,4);\n",
        "INSERT INTO Match(No,Year,Position,Team,\"Games Played\",Win,Draw,Loss,\"Goals For\",\"Goals Against\",\"Goal Difference\",Points) VALUES (377,2010,16,'Slovakia',4,1,1,2,5,7,-2,4);\n",
        "INSERT INTO Match(No,Year,Position,Team,\"Games Played\",Win,Draw,Loss,\"Goals For\",\"Goals Against\",\"Goal Difference\",Points) VALUES (378,2010,17,'Ivory Coast',3,1,1,1,4,3,1,4);\n",
        "INSERT INTO Match(No,Year,Position,Team,\"Games Played\",Win,Draw,Loss,\"Goals For\",\"Goals Against\",\"Goal Difference\",Points) VALUES (379,2010,18,'Slovenia',3,1,1,1,3,3,0,4);\n",
        "INSERT INTO Match(No,Year,Position,Team,\"Games Played\",Win,Draw,Loss,\"Goals For\",\"Goals Against\",\"Goal Difference\",Points) VALUES (380,2010,19,'Switzerland',3,1,1,1,1,1,0,4);\n",
        "INSERT INTO Match(No,Year,Position,Team,\"Games Played\",Win,Draw,Loss,\"Goals For\",\"Goals Against\",\"Goal Difference\",Points) VALUES (381,2010,20,'South Africa',3,1,1,1,3,5,-2,4);\n",
        "INSERT INTO Match(No,Year,Position,Team,\"Games Played\",Win,Draw,Loss,\"Goals For\",\"Goals Against\",\"Goal Difference\",Points) VALUES (382,2010,21,'Australia',3,1,1,1,3,6,-3,4);\n",
        "INSERT INTO Match(No,Year,Position,Team,\"Games Played\",Win,Draw,Loss,\"Goals For\",\"Goals Against\",\"Goal Difference\",Points) VALUES (383,2010,22,'New Zealand',3,0,3,0,2,2,0,3);\n",
        "INSERT INTO Match(No,Year,Position,Team,\"Games Played\",Win,Draw,Loss,\"Goals For\",\"Goals Against\",\"Goal Difference\",Points) VALUES (384,2010,23,'Serbia',3,1,0,2,2,3,-1,3);\n",
        "INSERT INTO Match(No,Year,Position,Team,\"Games Played\",Win,Draw,Loss,\"Goals For\",\"Goals Against\",\"Goal Difference\",Points) VALUES (385,2010,24,'Denmark',3,1,0,2,3,6,-3,3);\n",
        "INSERT INTO Match(No,Year,Position,Team,\"Games Played\",Win,Draw,Loss,\"Goals For\",\"Goals Against\",\"Goal Difference\",Points) VALUES (386,2010,25,'Greece',3,1,0,2,2,5,-3,3);\n",
        "INSERT INTO Match(No,Year,Position,Team,\"Games Played\",Win,Draw,Loss,\"Goals For\",\"Goals Against\",\"Goal Difference\",Points) VALUES (387,2010,26,'Italy',3,0,2,1,4,5,-1,2);\n",
        "INSERT INTO Match(No,Year,Position,Team,\"Games Played\",Win,Draw,Loss,\"Goals For\",\"Goals Against\",\"Goal Difference\",Points) VALUES (388,2010,27,'Nigeria',3,0,1,2,3,5,-2,1);\n",
        "INSERT INTO Match(No,Year,Position,Team,\"Games Played\",Win,Draw,Loss,\"Goals For\",\"Goals Against\",\"Goal Difference\",Points) VALUES (389,2010,28,'Algeria',3,0,1,2,0,2,-2,1);\n",
        "INSERT INTO Match(No,Year,Position,Team,\"Games Played\",Win,Draw,Loss,\"Goals For\",\"Goals Against\",\"Goal Difference\",Points) VALUES (390,2010,29,'France',3,0,1,2,1,4,-3,1);\n",
        "INSERT INTO Match(No,Year,Position,Team,\"Games Played\",Win,Draw,Loss,\"Goals For\",\"Goals Against\",\"Goal Difference\",Points) VALUES (391,2010,30,'Honduras',3,0,1,2,0,3,-3,1);\n",
        "INSERT INTO Match(No,Year,Position,Team,\"Games Played\",Win,Draw,Loss,\"Goals For\",\"Goals Against\",\"Goal Difference\",Points) VALUES (392,2010,31,'Cameroon',3,0,0,3,2,5,-3,0);\n",
        "INSERT INTO Match(No,Year,Position,Team,\"Games Played\",Win,Draw,Loss,\"Goals For\",\"Goals Against\",\"Goal Difference\",Points) VALUES (393,2010,32,'North Korea',3,0,0,3,1,12,-11,0);\n",
        "INSERT INTO Match(No,Year,Position,Team,\"Games Played\",Win,Draw,Loss,\"Goals For\",\"Goals Against\",\"Goal Difference\",Points) VALUES (394,2014,1,'Germany',7,6,1,0,18,4,14,19);\n",
        "INSERT INTO Match(No,Year,Position,Team,\"Games Played\",Win,Draw,Loss,\"Goals For\",\"Goals Against\",\"Goal Difference\",Points) VALUES (395,2014,2,'Argentina',7,5,1,1,8,4,4,16);\n",
        "INSERT INTO Match(No,Year,Position,Team,\"Games Played\",Win,Draw,Loss,\"Goals For\",\"Goals Against\",\"Goal Difference\",Points) VALUES (396,2014,3,'Netherlands',7,5,2,0,15,4,11,17);\n",
        "INSERT INTO Match(No,Year,Position,Team,\"Games Played\",Win,Draw,Loss,\"Goals For\",\"Goals Against\",\"Goal Difference\",Points) VALUES (397,2014,4,'Brazil',7,3,2,2,11,14,-3,11);\n",
        "INSERT INTO Match(No,Year,Position,Team,\"Games Played\",Win,Draw,Loss,\"Goals For\",\"Goals Against\",\"Goal Difference\",Points) VALUES (398,2014,5,'Colombia',5,4,0,1,12,4,8,12);\n",
        "INSERT INTO Match(No,Year,Position,Team,\"Games Played\",Win,Draw,Loss,\"Goals For\",\"Goals Against\",\"Goal Difference\",Points) VALUES (399,2014,6,'Belgium',5,4,0,1,6,3,3,12);\n",
        "INSERT INTO Match(No,Year,Position,Team,\"Games Played\",Win,Draw,Loss,\"Goals For\",\"Goals Against\",\"Goal Difference\",Points) VALUES (400,2014,7,'France',5,3,1,1,10,3,7,10);\n",
        "INSERT INTO Match(No,Year,Position,Team,\"Games Played\",Win,Draw,Loss,\"Goals For\",\"Goals Against\",\"Goal Difference\",Points) VALUES (401,2014,8,'Costa Rica',5,2,3,0,5,2,3,9);\n",
        "INSERT INTO Match(No,Year,Position,Team,\"Games Played\",Win,Draw,Loss,\"Goals For\",\"Goals Against\",\"Goal Difference\",Points) VALUES (402,2014,9,'Chile',4,2,1,1,6,4,2,7);\n",
        "INSERT INTO Match(No,Year,Position,Team,\"Games Played\",Win,Draw,Loss,\"Goals For\",\"Goals Against\",\"Goal Difference\",Points) VALUES (403,2014,10,'Mexico',4,2,1,1,5,3,2,7);\n",
        "INSERT INTO Match(No,Year,Position,Team,\"Games Played\",Win,Draw,Loss,\"Goals For\",\"Goals Against\",\"Goal Difference\",Points) VALUES (404,2014,11,'Switzerland',4,2,0,2,7,7,0,6);\n",
        "INSERT INTO Match(No,Year,Position,Team,\"Games Played\",Win,Draw,Loss,\"Goals For\",\"Goals Against\",\"Goal Difference\",Points) VALUES (405,2014,12,'Uruguay',4,2,0,2,4,6,-2,6);\n",
        "INSERT INTO Match(No,Year,Position,Team,\"Games Played\",Win,Draw,Loss,\"Goals For\",\"Goals Against\",\"Goal Difference\",Points) VALUES (406,2014,13,'Greece',4,1,2,1,3,5,-2,5);\n",
        "INSERT INTO Match(No,Year,Position,Team,\"Games Played\",Win,Draw,Loss,\"Goals For\",\"Goals Against\",\"Goal Difference\",Points) VALUES (407,2014,14,'Algeria',4,1,1,2,7,7,0,4);\n",
        "INSERT INTO Match(No,Year,Position,Team,\"Games Played\",Win,Draw,Loss,\"Goals For\",\"Goals Against\",\"Goal Difference\",Points) VALUES (408,2014,15,'United States',4,1,1,2,5,6,-1,4);\n",
        "INSERT INTO Match(No,Year,Position,Team,\"Games Played\",Win,Draw,Loss,\"Goals For\",\"Goals Against\",\"Goal Difference\",Points) VALUES (409,2014,16,'Nigeria',4,1,1,2,3,5,-2,4);\n",
        "INSERT INTO Match(No,Year,Position,Team,\"Games Played\",Win,Draw,Loss,\"Goals For\",\"Goals Against\",\"Goal Difference\",Points) VALUES (410,2014,17,'Ecuador',3,1,1,1,3,3,0,4);\n",
        "INSERT INTO Match(No,Year,Position,Team,\"Games Played\",Win,Draw,Loss,\"Goals For\",\"Goals Against\",\"Goal Difference\",Points) VALUES (411,2014,18,'Portugal',3,1,1,1,4,7,-3,4);\n",
        "INSERT INTO Match(No,Year,Position,Team,\"Games Played\",Win,Draw,Loss,\"Goals For\",\"Goals Against\",\"Goal Difference\",Points) VALUES (412,2014,19,'Croatia',3,1,0,2,6,6,0,3);\n",
        "INSERT INTO Match(No,Year,Position,Team,\"Games Played\",Win,Draw,Loss,\"Goals For\",\"Goals Against\",\"Goal Difference\",Points) VALUES (413,2014,20,'Bosnia and Herzegovina',3,1,0,2,4,4,0,3);\n",
        "INSERT INTO Match(No,Year,Position,Team,\"Games Played\",Win,Draw,Loss,\"Goals For\",\"Goals Against\",\"Goal Difference\",Points) VALUES (414,2014,21,'Ivory Coast',3,1,0,2,4,5,-1,3);\n",
        "INSERT INTO Match(No,Year,Position,Team,\"Games Played\",Win,Draw,Loss,\"Goals For\",\"Goals Against\",\"Goal Difference\",Points) VALUES (415,2014,22,'Italy',3,1,0,2,2,3,-1,3);\n",
        "INSERT INTO Match(No,Year,Position,Team,\"Games Played\",Win,Draw,Loss,\"Goals For\",\"Goals Against\",\"Goal Difference\",Points) VALUES (416,2014,23,'Spain',3,1,0,2,4,7,-3,3);\n",
        "INSERT INTO Match(No,Year,Position,Team,\"Games Played\",Win,Draw,Loss,\"Goals For\",\"Goals Against\",\"Goal Difference\",Points) VALUES (417,2014,24,'Russia',3,0,2,1,2,3,-1,2);\n",
        "INSERT INTO Match(No,Year,Position,Team,\"Games Played\",Win,Draw,Loss,\"Goals For\",\"Goals Against\",\"Goal Difference\",Points) VALUES (418,2014,25,'Ghana',3,0,1,2,4,6,-2,1);\n",
        "INSERT INTO Match(No,Year,Position,Team,\"Games Played\",Win,Draw,Loss,\"Goals For\",\"Goals Against\",\"Goal Difference\",Points) VALUES (419,2014,26,'England',3,0,1,2,2,4,-2,1);\n",
        "INSERT INTO Match(No,Year,Position,Team,\"Games Played\",Win,Draw,Loss,\"Goals For\",\"Goals Against\",\"Goal Difference\",Points) VALUES (420,2014,27,'South Korea',3,0,1,2,3,6,-3,1);\n",
        "INSERT INTO Match(No,Year,Position,Team,\"Games Played\",Win,Draw,Loss,\"Goals For\",\"Goals Against\",\"Goal Difference\",Points) VALUES (421,2014,28,'Iran',3,0,1,2,1,4,-3,1);\n",
        "INSERT INTO Match(No,Year,Position,Team,\"Games Played\",Win,Draw,Loss,\"Goals For\",\"Goals Against\",\"Goal Difference\",Points) VALUES (422,2014,29,'Japan',3,0,1,2,2,6,-4,1);\n",
        "INSERT INTO Match(No,Year,Position,Team,\"Games Played\",Win,Draw,Loss,\"Goals For\",\"Goals Against\",\"Goal Difference\",Points) VALUES (423,2014,30,'Australia',3,0,0,3,3,9,-6,0);\n",
        "INSERT INTO Match(No,Year,Position,Team,\"Games Played\",Win,Draw,Loss,\"Goals For\",\"Goals Against\",\"Goal Difference\",Points) VALUES (424,2014,31,'Honduras',3,0,0,3,1,8,-7,0);\n",
        "INSERT INTO Match(No,Year,Position,Team,\"Games Played\",Win,Draw,Loss,\"Goals For\",\"Goals Against\",\"Goal Difference\",Points) VALUES (425,2014,32,'Cameroon',3,0,0,3,1,9,-8,0);\n",
        "INSERT INTO Match(No,Year,Position,Team,\"Games Played\",Win,Draw,Loss,\"Goals For\",\"Goals Against\",\"Goal Difference\",Points) VALUES (426,2018,1,'France',7,6,1,0,14,6,8,19);\n",
        "INSERT INTO Match(No,Year,Position,Team,\"Games Played\",Win,Draw,Loss,\"Goals For\",\"Goals Against\",\"Goal Difference\",Points) VALUES (427,2018,2,'Croatia',7,4,2,1,14,9,5,14);\n",
        "INSERT INTO Match(No,Year,Position,Team,\"Games Played\",Win,Draw,Loss,\"Goals For\",\"Goals Against\",\"Goal Difference\",Points) VALUES (428,2018,3,'Belgium',7,6,0,1,16,6,10,18);\n",
        "INSERT INTO Match(No,Year,Position,Team,\"Games Played\",Win,Draw,Loss,\"Goals For\",\"Goals Against\",\"Goal Difference\",Points) VALUES (429,2018,4,'England',7,3,1,3,12,8,4,10);\n",
        "INSERT INTO Match(No,Year,Position,Team,\"Games Played\",Win,Draw,Loss,\"Goals For\",\"Goals Against\",\"Goal Difference\",Points) VALUES (430,2018,5,'Uruguay',5,4,0,1,7,3,4,12);\n",
        "INSERT INTO Match(No,Year,Position,Team,\"Games Played\",Win,Draw,Loss,\"Goals For\",\"Goals Against\",\"Goal Difference\",Points) VALUES (431,2018,6,'Brazil',5,3,1,1,8,3,5,10);\n",
        "INSERT INTO Match(No,Year,Position,Team,\"Games Played\",Win,Draw,Loss,\"Goals For\",\"Goals Against\",\"Goal Difference\",Points) VALUES (432,2018,7,'Sweden',5,3,0,2,6,4,2,9);\n",
        "INSERT INTO Match(No,Year,Position,Team,\"Games Played\",Win,Draw,Loss,\"Goals For\",\"Goals Against\",\"Goal Difference\",Points) VALUES (433,2018,8,'Russia',5,2,2,1,11,7,4,8);\n",
        "INSERT INTO Match(No,Year,Position,Team,\"Games Played\",Win,Draw,Loss,\"Goals For\",\"Goals Against\",\"Goal Difference\",Points) VALUES (434,2018,9,'Colombia',4,2,1,1,6,3,3,7);\n",
        "INSERT INTO Match(No,Year,Position,Team,\"Games Played\",Win,Draw,Loss,\"Goals For\",\"Goals Against\",\"Goal Difference\",Points) VALUES (435,2018,10,'Mexico',4,2,0,2,3,6,-3,6);\n",
        "INSERT INTO Match(No,Year,Position,Team,\"Games Played\",Win,Draw,Loss,\"Goals For\",\"Goals Against\",\"Goal Difference\",Points) VALUES (436,2018,11,'Denmark',4,1,3,0,3,2,1,6);\n",
        "INSERT INTO Match(No,Year,Position,Team,\"Games Played\",Win,Draw,Loss,\"Goals For\",\"Goals Against\",\"Goal Difference\",Points) VALUES (437,2018,12,'Spain',4,1,3,0,7,6,1,6);\n",
        "INSERT INTO Match(No,Year,Position,Team,\"Games Played\",Win,Draw,Loss,\"Goals For\",\"Goals Against\",\"Goal Difference\",Points) VALUES (438,2018,13,'Portugal',4,1,2,1,6,6,0,5);\n",
        "INSERT INTO Match(No,Year,Position,Team,\"Games Played\",Win,Draw,Loss,\"Goals For\",\"Goals Against\",\"Goal Difference\",Points) VALUES (439,2018,14,'Switzerland',4,1,2,1,5,5,0,5);\n",
        "INSERT INTO Match(No,Year,Position,Team,\"Games Played\",Win,Draw,Loss,\"Goals For\",\"Goals Against\",\"Goal Difference\",Points) VALUES (440,2018,15,'Argentina',4,1,1,2,6,9,-3,4);\n",
        "INSERT INTO Match(No,Year,Position,Team,\"Games Played\",Win,Draw,Loss,\"Goals For\",\"Goals Against\",\"Goal Difference\",Points) VALUES (441,2018,16,'Japan',4,1,1,2,6,7,-1,4);\n",
        "INSERT INTO Match(No,Year,Position,Team,\"Games Played\",Win,Draw,Loss,\"Goals For\",\"Goals Against\",\"Goal Difference\",Points) VALUES (442,2018,17,'Iran',3,1,1,1,2,2,0,4);\n",
        "INSERT INTO Match(No,Year,Position,Team,\"Games Played\",Win,Draw,Loss,\"Goals For\",\"Goals Against\",\"Goal Difference\",Points) VALUES (443,2018,18,'Senegal',3,1,1,1,4,4,0,4);\n",
        "INSERT INTO Match(No,Year,Position,Team,\"Games Played\",Win,Draw,Loss,\"Goals For\",\"Goals Against\",\"Goal Difference\",Points) VALUES (444,2018,19,'Germany',3,1,0,2,2,4,-2,3);\n",
        "INSERT INTO Match(No,Year,Position,Team,\"Games Played\",Win,Draw,Loss,\"Goals For\",\"Goals Against\",\"Goal Difference\",Points) VALUES (445,2018,20,'Nigeria',3,1,0,2,3,4,-1,3);\n",
        "INSERT INTO Match(No,Year,Position,Team,\"Games Played\",Win,Draw,Loss,\"Goals For\",\"Goals Against\",\"Goal Difference\",Points) VALUES (446,2018,21,'Peru',3,1,0,2,2,2,0,3);\n",
        "INSERT INTO Match(No,Year,Position,Team,\"Games Played\",Win,Draw,Loss,\"Goals For\",\"Goals Against\",\"Goal Difference\",Points) VALUES (447,2018,22,'Poland',3,1,0,2,2,5,-3,3);\n",
        "INSERT INTO Match(No,Year,Position,Team,\"Games Played\",Win,Draw,Loss,\"Goals For\",\"Goals Against\",\"Goal Difference\",Points) VALUES (448,2018,23,'Saudi Arabia',3,1,0,2,2,7,-5,3);\n",
        "INSERT INTO Match(No,Year,Position,Team,\"Games Played\",Win,Draw,Loss,\"Goals For\",\"Goals Against\",\"Goal Difference\",Points) VALUES (449,2018,24,'Serbia',3,1,0,2,2,4,-2,3);\n",
        "INSERT INTO Match(No,Year,Position,Team,\"Games Played\",Win,Draw,Loss,\"Goals For\",\"Goals Against\",\"Goal Difference\",Points) VALUES (450,2018,25,'South Korea',3,1,0,2,3,3,0,3);\n",
        "INSERT INTO Match(No,Year,Position,Team,\"Games Played\",Win,Draw,Loss,\"Goals For\",\"Goals Against\",\"Goal Difference\",Points) VALUES (451,2018,26,'Tunisia',3,1,0,2,5,8,-3,3);\n",
        "INSERT INTO Match(No,Year,Position,Team,\"Games Played\",Win,Draw,Loss,\"Goals For\",\"Goals Against\",\"Goal Difference\",Points) VALUES (452,2018,27,'Australia',3,0,1,2,2,5,-3,1);\n",
        "INSERT INTO Match(No,Year,Position,Team,\"Games Played\",Win,Draw,Loss,\"Goals For\",\"Goals Against\",\"Goal Difference\",Points) VALUES (453,2018,28,'Costa Rica',3,0,1,2,2,5,-3,1);\n",
        "INSERT INTO Match(No,Year,Position,Team,\"Games Played\",Win,Draw,Loss,\"Goals For\",\"Goals Against\",\"Goal Difference\",Points) VALUES (454,2018,29,'Iceland',3,0,1,2,2,5,-3,1);\n",
        "INSERT INTO Match(No,Year,Position,Team,\"Games Played\",Win,Draw,Loss,\"Goals For\",\"Goals Against\",\"Goal Difference\",Points) VALUES (455,2018,30,'Morocco',3,0,1,2,2,4,-2,1);\n",
        "INSERT INTO Match(No,Year,Position,Team,\"Games Played\",Win,Draw,Loss,\"Goals For\",\"Goals Against\",\"Goal Difference\",Points) VALUES (456,2018,31,'Egypt',3,0,0,3,2,6,-4,0);\n",
        "INSERT INTO Match(No,Year,Position,Team,\"Games Played\",Win,Draw,Loss,\"Goals For\",\"Goals Against\",\"Goal Difference\",Points) VALUES (457,2018,32,'Panama',3,0,0,3,2,11,-9,0);\n",
        "INSERT INTO Match(No,Year,Position,Team,\"Games Played\",Win,Draw,Loss,\"Goals For\",\"Goals Against\",\"Goal Difference\",Points) VALUES (458,2022,1,'Argentina',7,6,0,1,15,8,7,18);\n",
        "INSERT INTO Match(No,Year,Position,Team,\"Games Played\",Win,Draw,Loss,\"Goals For\",\"Goals Against\",\"Goal Difference\",Points) VALUES (459,2022,2,'France',7,5,0,2,16,8,8,15);\n",
        "INSERT INTO Match(No,Year,Position,Team,\"Games Played\",Win,Draw,Loss,\"Goals For\",\"Goals Against\",\"Goal Difference\",Points) VALUES (460,2022,3,'Croatia',7,4,2,1,8,7,1,14);\n",
        "INSERT INTO Match(No,Year,Position,Team,\"Games Played\",Win,Draw,Loss,\"Goals For\",\"Goals Against\",\"Goal Difference\",Points) VALUES (461,2022,4,'Morocco',7,4,1,2,6,5,1,13);\n",
        "INSERT INTO Match(No,Year,Position,Team,\"Games Played\",Win,Draw,Loss,\"Goals For\",\"Goals Against\",\"Goal Difference\",Points) VALUES (462,2022,5,'England',5,3,1,1,13,4,9,10);\n",
        "INSERT INTO Match(No,Year,Position,Team,\"Games Played\",Win,Draw,Loss,\"Goals For\",\"Goals Against\",\"Goal Difference\",Points) VALUES (463,2022,6,'Netherlands',5,3,1,1,10,4,6,10);\n",
        "INSERT INTO Match(No,Year,Position,Team,\"Games Played\",Win,Draw,Loss,\"Goals For\",\"Goals Against\",\"Goal Difference\",Points) VALUES (464,2022,7,'Portugal',5,3,0,2,12,6,6,9);\n",
        "INSERT INTO Match(No,Year,Position,Team,\"Games Played\",Win,Draw,Loss,\"Goals For\",\"Goals Against\",\"Goal Difference\",Points) VALUES (465,2022,8,'Brazil',5,3,0,2,8,3,5,9);\n",
        "INSERT INTO Match(No,Year,Position,Team,\"Games Played\",Win,Draw,Loss,\"Goals For\",\"Goals Against\",\"Goal Difference\",Points) VALUES (466,2022,9,'Japan',4,2,0,2,5,4,1,6);\n",
        "INSERT INTO Match(No,Year,Position,Team,\"Games Played\",Win,Draw,Loss,\"Goals For\",\"Goals Against\",\"Goal Difference\",Points) VALUES (467,2022,10,'Senegal',4,2,0,2,5,7,-2,6);\n",
        "INSERT INTO Match(No,Year,Position,Team,\"Games Played\",Win,Draw,Loss,\"Goals For\",\"Goals Against\",\"Goal Difference\",Points) VALUES (468,2022,11,'Australia',4,2,0,2,4,6,-2,6);\n",
        "INSERT INTO Match(No,Year,Position,Team,\"Games Played\",Win,Draw,Loss,\"Goals For\",\"Goals Against\",\"Goal Difference\",Points) VALUES (469,2022,12,'Switzerland',4,2,0,2,5,9,-4,6);\n",
        "INSERT INTO Match(No,Year,Position,Team,\"Games Played\",Win,Draw,Loss,\"Goals For\",\"Goals Against\",\"Goal Difference\",Points) VALUES (470,2022,13,'USA',4,1,2,1,3,4,-1,5);\n",
        "INSERT INTO Match(No,Year,Position,Team,\"Games Played\",Win,Draw,Loss,\"Goals For\",\"Goals Against\",\"Goal Difference\",Points) VALUES (471,2022,14,'Spain',4,1,1,2,9,3,6,4);\n",
        "INSERT INTO Match(No,Year,Position,Team,\"Games Played\",Win,Draw,Loss,\"Goals For\",\"Goals Against\",\"Goal Difference\",Points) VALUES (472,2022,15,'Poland',4,1,1,2,3,5,-2,4);\n",
        "INSERT INTO Match(No,Year,Position,Team,\"Games Played\",Win,Draw,Loss,\"Goals For\",\"Goals Against\",\"Goal Difference\",Points) VALUES (473,2022,16,'South Korea',4,1,1,2,5,8,-3,4);\n",
        "INSERT INTO Match(No,Year,Position,Team,\"Games Played\",Win,Draw,Loss,\"Goals For\",\"Goals Against\",\"Goal Difference\",Points) VALUES (474,2022,17,'Germany',3,1,1,1,6,5,1,4);\n",
        "INSERT INTO Match(No,Year,Position,Team,\"Games Played\",Win,Draw,Loss,\"Goals For\",\"Goals Against\",\"Goal Difference\",Points) VALUES (475,2022,18,'Ecuador',3,1,1,1,4,3,1,4);\n",
        "INSERT INTO Match(No,Year,Position,Team,\"Games Played\",Win,Draw,Loss,\"Goals For\",\"Goals Against\",\"Goal Difference\",Points) VALUES (476,2022,19,'Cameroon',3,1,1,1,4,4,0,4);\n",
        "INSERT INTO Match(No,Year,Position,Team,\"Games Played\",Win,Draw,Loss,\"Goals For\",\"Goals Against\",\"Goal Difference\",Points) VALUES (477,2022,20,'Uruguay',3,1,1,1,2,2,0,4);\n",
        "INSERT INTO Match(No,Year,Position,Team,\"Games Played\",Win,Draw,Loss,\"Goals For\",\"Goals Against\",\"Goal Difference\",Points) VALUES (478,2022,21,'Tunisia',3,1,1,1,1,1,0,4);\n",
        "INSERT INTO Match(No,Year,Position,Team,\"Games Played\",Win,Draw,Loss,\"Goals For\",\"Goals Against\",\"Goal Difference\",Points) VALUES (479,2022,22,'Mexico',3,1,1,1,2,3,-1,4);\n",
        "INSERT INTO Match(No,Year,Position,Team,\"Games Played\",Win,Draw,Loss,\"Goals For\",\"Goals Against\",\"Goal Difference\",Points) VALUES (480,2022,23,'Belgium',3,1,1,1,1,2,-1,4);\n",
        "INSERT INTO Match(No,Year,Position,Team,\"Games Played\",Win,Draw,Loss,\"Goals For\",\"Goals Against\",\"Goal Difference\",Points) VALUES (481,2022,24,'Ghana',3,1,0,2,5,7,-2,3);\n",
        "INSERT INTO Match(No,Year,Position,Team,\"Games Played\",Win,Draw,Loss,\"Goals For\",\"Goals Against\",\"Goal Difference\",Points) VALUES (482,2022,25,'Saudi Arabia',3,1,0,2,3,5,-2,3);\n",
        "INSERT INTO Match(No,Year,Position,Team,\"Games Played\",Win,Draw,Loss,\"Goals For\",\"Goals Against\",\"Goal Difference\",Points) VALUES (483,2022,26,'Iran',3,1,0,2,4,7,-3,3);\n",
        "INSERT INTO Match(No,Year,Position,Team,\"Games Played\",Win,Draw,Loss,\"Goals For\",\"Goals Against\",\"Goal Difference\",Points) VALUES (484,2022,27,'Costa Rica',3,1,0,2,3,11,-8,3);\n",
        "INSERT INTO Match(No,Year,Position,Team,\"Games Played\",Win,Draw,Loss,\"Goals For\",\"Goals Against\",\"Goal Difference\",Points) VALUES (485,2022,28,'Denmark',3,0,1,2,1,3,-2,1);\n",
        "INSERT INTO Match(No,Year,Position,Team,\"Games Played\",Win,Draw,Loss,\"Goals For\",\"Goals Against\",\"Goal Difference\",Points) VALUES (486,2022,29,'Serbia',3,0,1,2,5,8,-3,1);\n",
        "INSERT INTO Match(No,Year,Position,Team,\"Games Played\",Win,Draw,Loss,\"Goals For\",\"Goals Against\",\"Goal Difference\",Points) VALUES (487,2022,30,'Wales',3,0,1,2,1,6,-5,1);\n",
        "INSERT INTO Match(No,Year,Position,Team,\"Games Played\",Win,Draw,Loss,\"Goals For\",\"Goals Against\",\"Goal Difference\",Points) VALUES (488,2022,31,'Canada',3,0,0,3,2,7,-5,0);\n",
        "INSERT INTO Match(No,Year,Position,Team,\"Games Played\",Win,Draw,Loss,\"Goals For\",\"Goals Against\",\"Goal Difference\",Points) VALUES (489,2022,32,'Qatar',3,0,0,3,1,7,-6,0);\n"
      ],
      "metadata": {
        "id": "4ym0iu2ETH9x"
      },
      "execution_count": null,
      "outputs": []
    },
    {
      "cell_type": "markdown",
      "source": [
        "## Second table"
      ],
      "metadata": {
        "id": "X57m9eoFTRem"
      }
    },
    {
      "cell_type": "code",
      "source": [
        "%%sql\n",
        "CREATE TABLE summary(\n",
        "   YEAR                 INTEGER  NOT NULL PRIMARY KEY\n",
        "  ,HOST                 VARCHAR(18) NOT NULL\n",
        "  ,CHAMPION             VARCHAR(12) NOT NULL\n",
        "  ,\"RUNNER UP\"          VARCHAR(14) NOT NULL\n",
        "  ,\"THIRD PLACE\"        VARCHAR(13) NOT NULL\n",
        "  ,TEAMS                INTEGER  NOT NULL\n",
        "  ,\"MATCHES PLAYED\"     INTEGER  NOT NULL\n",
        "  ,\"GOALS SCORED\"       INTEGER  NOT NULL\n",
        "  ,\"AVG GOALS PER GAME\" NUMERIC(3,1) NOT NULL\n",
        ");\n",
        "INSERT INTO summary(YEAR,HOST,CHAMPION,\"RUNNER UP\",\"THIRD PLACE\",TEAMS,\"MATCHES PLAYED\",\"GOALS SCORED\",\"AVG GOALS PER GAME\") VALUES (1930,'Uruguay','Uruguay','Argentina','United States',13,16,70,3.6);\n",
        "INSERT INTO summary(YEAR,HOST,CHAMPION,\"RUNNER UP\",\"THIRD PLACE\",TEAMS,\"MATCHES PLAYED\",\"GOALS SCORED\",\"AVG GOALS PER GAME\") VALUES (1934,'Italy','Italy','Czechoslovakia','Germany',16,17,70,4.1);\n",
        "INSERT INTO summary(YEAR,HOST,CHAMPION,\"RUNNER UP\",\"THIRD PLACE\",TEAMS,\"MATCHES PLAYED\",\"GOALS SCORED\",\"AVG GOALS PER GAME\") VALUES (1938,'France','Italy','Hungary','Brazil',15,18,84,4.7);\n",
        "INSERT INTO summary(YEAR,HOST,CHAMPION,\"RUNNER UP\",\"THIRD PLACE\",TEAMS,\"MATCHES PLAYED\",\"GOALS SCORED\",\"AVG GOALS PER GAME\") VALUES (1950,'Brazil','Uruguay','Brazil','Sweden',13,22,88,4);\n",
        "INSERT INTO summary(YEAR,HOST,CHAMPION,\"RUNNER UP\",\"THIRD PLACE\",TEAMS,\"MATCHES PLAYED\",\"GOALS SCORED\",\"AVG GOALS PER GAME\") VALUES (1954,'Switzerland','West Germany','Hungary','Austria',16,26,140,5.4);\n",
        "INSERT INTO summary(YEAR,HOST,CHAMPION,\"RUNNER UP\",\"THIRD PLACE\",TEAMS,\"MATCHES PLAYED\",\"GOALS SCORED\",\"AVG GOALS PER GAME\") VALUES (1958,'Sweden','Brazil','Sweden','France',16,35,126,3.6);\n",
        "INSERT INTO summary(YEAR,HOST,CHAMPION,\"RUNNER UP\",\"THIRD PLACE\",TEAMS,\"MATCHES PLAYED\",\"GOALS SCORED\",\"AVG GOALS PER GAME\") VALUES (1962,'Chile','Brazil','Czechoslovakia','Chile',16,32,89,2.8);\n",
        "INSERT INTO summary(YEAR,HOST,CHAMPION,\"RUNNER UP\",\"THIRD PLACE\",TEAMS,\"MATCHES PLAYED\",\"GOALS SCORED\",\"AVG GOALS PER GAME\") VALUES (1966,'England','England','West Germany','Portugal',16,32,89,2.8);\n",
        "INSERT INTO summary(YEAR,HOST,CHAMPION,\"RUNNER UP\",\"THIRD PLACE\",TEAMS,\"MATCHES PLAYED\",\"GOALS SCORED\",\"AVG GOALS PER GAME\") VALUES (1970,'Mexico','Brazil','Italy','West Germany',16,32,95,3);\n",
        "INSERT INTO summary(YEAR,HOST,CHAMPION,\"RUNNER UP\",\"THIRD PLACE\",TEAMS,\"MATCHES PLAYED\",\"GOALS SCORED\",\"AVG GOALS PER GAME\") VALUES (1974,'West Germany','West Germany','Netherlands','Poland',16,38,97,2.6);\n",
        "INSERT INTO summary(YEAR,HOST,CHAMPION,\"RUNNER UP\",\"THIRD PLACE\",TEAMS,\"MATCHES PLAYED\",\"GOALS SCORED\",\"AVG GOALS PER GAME\") VALUES (1978,'Argentina','Argentina','Netherlands','Brazil',16,38,102,2.7);\n",
        "INSERT INTO summary(YEAR,HOST,CHAMPION,\"RUNNER UP\",\"THIRD PLACE\",TEAMS,\"MATCHES PLAYED\",\"GOALS SCORED\",\"AVG GOALS PER GAME\") VALUES (1982,'Spain','Italy','West Germany','Poland',24,52,146,2.8);\n",
        "INSERT INTO summary(YEAR,HOST,CHAMPION,\"RUNNER UP\",\"THIRD PLACE\",TEAMS,\"MATCHES PLAYED\",\"GOALS SCORED\",\"AVG GOALS PER GAME\") VALUES (1986,'Mexico','Argentina','West Germany','France',24,52,132,2.5);\n",
        "INSERT INTO summary(YEAR,HOST,CHAMPION,\"RUNNER UP\",\"THIRD PLACE\",TEAMS,\"MATCHES PLAYED\",\"GOALS SCORED\",\"AVG GOALS PER GAME\") VALUES (1990,'Italy','West Germany','Argentina','Italy',24,52,115,2.2);\n",
        "INSERT INTO summary(YEAR,HOST,CHAMPION,\"RUNNER UP\",\"THIRD PLACE\",TEAMS,\"MATCHES PLAYED\",\"GOALS SCORED\",\"AVG GOALS PER GAME\") VALUES (1994,'United States','Brazil','Italy','Sweden',24,52,141,2.7);\n",
        "INSERT INTO summary(YEAR,HOST,CHAMPION,\"RUNNER UP\",\"THIRD PLACE\",TEAMS,\"MATCHES PLAYED\",\"GOALS SCORED\",\"AVG GOALS PER GAME\") VALUES (1998,'France','France','Brazil','Croatia',32,64,171,2.7);\n",
        "INSERT INTO summary(YEAR,HOST,CHAMPION,\"RUNNER UP\",\"THIRD PLACE\",TEAMS,\"MATCHES PLAYED\",\"GOALS SCORED\",\"AVG GOALS PER GAME\") VALUES (2002,'South Korea, Japan','Brazil','Germany','Turkey',32,64,161,2.5);\n",
        "INSERT INTO summary(YEAR,HOST,CHAMPION,\"RUNNER UP\",\"THIRD PLACE\",TEAMS,\"MATCHES PLAYED\",\"GOALS SCORED\",\"AVG GOALS PER GAME\") VALUES (2006,'Germany','Italy','France','Germany',32,64,147,2.3);\n",
        "INSERT INTO summary(YEAR,HOST,CHAMPION,\"RUNNER UP\",\"THIRD PLACE\",TEAMS,\"MATCHES PLAYED\",\"GOALS SCORED\",\"AVG GOALS PER GAME\") VALUES (2010,'South Africa','Spain','Netherlands','Germany',32,64,145,2.3);\n",
        "INSERT INTO summary(YEAR,HOST,CHAMPION,\"RUNNER UP\",\"THIRD PLACE\",TEAMS,\"MATCHES PLAYED\",\"GOALS SCORED\",\"AVG GOALS PER GAME\") VALUES (2014,'Brazil','Germany','Argentina','Netherlands',32,64,171,2.7);\n",
        "INSERT INTO summary(YEAR,HOST,CHAMPION,\"RUNNER UP\",\"THIRD PLACE\",TEAMS,\"MATCHES PLAYED\",\"GOALS SCORED\",\"AVG GOALS PER GAME\") VALUES (2018,'Russia','France','Croatia','Belgium',32,64,169,2.6);\n",
        "INSERT INTO summary(YEAR,HOST,CHAMPION,\"RUNNER UP\",\"THIRD PLACE\",TEAMS,\"MATCHES PLAYED\",\"GOALS SCORED\",\"AVG GOALS PER GAME\") VALUES (2022,'Qatar','Argentina','France','Croatia',32,64,172,2.7);\n"
      ],
      "metadata": {
        "id": "CIgOHk35TUPP"
      },
      "execution_count": null,
      "outputs": []
    },
    {
      "cell_type": "code",
      "source": [
        "%%sql\n",
        "update match\n",
        "set \"Team\" = \"Germany\" where \"Team\" = \"West Germany\""
      ],
      "metadata": {
        "colab": {
          "base_uri": "https://localhost:8080/"
        },
        "id": "ofPEywxLpbqJ",
        "outputId": "e07ec108-a40b-42cc-cbd7-90680b5a19e4"
      },
      "execution_count": null,
      "outputs": [
        {
          "output_type": "stream",
          "name": "stdout",
          "text": [
            " * sqlite://\n",
            "10 rows affected.\n"
          ]
        },
        {
          "output_type": "execute_result",
          "data": {
            "text/plain": [
              "[]"
            ]
          },
          "metadata": {},
          "execution_count": 38
        }
      ]
    },
    {
      "cell_type": "code",
      "source": [
        "%%sql\n",
        "update summary\n",
        "set \"Champion\" = \"Germany\" where \"Champion\" = \"West Germany\";\n",
        "\n",
        "update summary\n",
        "set \"Runner Up\" = \"Germany\" where \"Runner Up\" = \"West Germany\";\n",
        "\n",
        "update summary\n",
        "set \"Third Place\" = \"Germany\" where \"Third Place\" = \"West Germany\";"
      ],
      "metadata": {
        "colab": {
          "base_uri": "https://localhost:8080/"
        },
        "id": "cIPCahxHqJ3R",
        "outputId": "8a8f82a2-85f6-42ce-db14-bc1762322774"
      },
      "execution_count": null,
      "outputs": [
        {
          "output_type": "stream",
          "name": "stdout",
          "text": [
            " * sqlite://\n",
            "3 rows affected.\n",
            "3 rows affected.\n",
            "1 rows affected.\n"
          ]
        },
        {
          "output_type": "execute_result",
          "data": {
            "text/plain": [
              "[]"
            ]
          },
          "metadata": {},
          "execution_count": 39
        }
      ]
    },
    {
      "cell_type": "code",
      "source": [],
      "metadata": {
        "id": "Zwvx0w7tn7XO"
      },
      "execution_count": null,
      "outputs": []
    },
    {
      "cell_type": "markdown",
      "source": [
        "# Queries"
      ],
      "metadata": {
        "id": "n8HVYn8pbgxw"
      }
    },
    {
      "cell_type": "markdown",
      "source": [
        "## How many Worldcup games have been held?"
      ],
      "metadata": {
        "id": "TEKB5jhPbpAu"
      }
    },
    {
      "cell_type": "code",
      "source": [
        "%%sql\n",
        "select Count(\"Year\") from summary;"
      ],
      "metadata": {
        "colab": {
          "base_uri": "https://localhost:8080/",
          "height": 98
        },
        "id": "_xXAHq3ft7wy",
        "outputId": "578363b0-27d8-4c2c-cbfc-bb2e161abf0a"
      },
      "execution_count": null,
      "outputs": [
        {
          "output_type": "stream",
          "name": "stdout",
          "text": [
            " * sqlite://\n",
            "Done.\n"
          ]
        },
        {
          "output_type": "execute_result",
          "data": {
            "text/plain": [
              "[(22,)]"
            ],
            "text/html": [
              "<table>\n",
              "    <thead>\n",
              "        <tr>\n",
              "            <th>Count(&quot;Year&quot;)</th>\n",
              "        </tr>\n",
              "    </thead>\n",
              "    <tbody>\n",
              "        <tr>\n",
              "            <td>22</td>\n",
              "        </tr>\n",
              "    </tbody>\n",
              "</table>"
            ]
          },
          "metadata": {},
          "execution_count": 53
        }
      ]
    },
    {
      "cell_type": "markdown",
      "source": [
        "## How many times the host won the competetion?"
      ],
      "metadata": {
        "id": "gerWu6zmvoaI"
      }
    },
    {
      "cell_type": "code",
      "source": [
        "%%sql\n",
        "Select \"YEAR\", \"HOST\" from summary where \"HOST\" = \"CHAMPION\""
      ],
      "metadata": {
        "colab": {
          "base_uri": "https://localhost:8080/",
          "height": 182
        },
        "id": "MLB0H4NBv7Xy",
        "outputId": "d2257fb4-5a33-4025-fc7f-02ac3cf6abde"
      },
      "execution_count": null,
      "outputs": [
        {
          "output_type": "stream",
          "name": "stdout",
          "text": [
            " * sqlite://\n",
            "Done.\n"
          ]
        },
        {
          "output_type": "execute_result",
          "data": {
            "text/plain": [
              "[(1930, 'Uruguay'),\n",
              " (1934, 'Italy'),\n",
              " (1966, 'England'),\n",
              " (1978, 'Argentina'),\n",
              " (1998, 'France')]"
            ],
            "text/html": [
              "<table>\n",
              "    <thead>\n",
              "        <tr>\n",
              "            <th>YEAR</th>\n",
              "            <th>HOST</th>\n",
              "        </tr>\n",
              "    </thead>\n",
              "    <tbody>\n",
              "        <tr>\n",
              "            <td>1930</td>\n",
              "            <td>Uruguay</td>\n",
              "        </tr>\n",
              "        <tr>\n",
              "            <td>1934</td>\n",
              "            <td>Italy</td>\n",
              "        </tr>\n",
              "        <tr>\n",
              "            <td>1966</td>\n",
              "            <td>England</td>\n",
              "        </tr>\n",
              "        <tr>\n",
              "            <td>1978</td>\n",
              "            <td>Argentina</td>\n",
              "        </tr>\n",
              "        <tr>\n",
              "            <td>1998</td>\n",
              "            <td>France</td>\n",
              "        </tr>\n",
              "    </tbody>\n",
              "</table>"
            ]
          },
          "metadata": {},
          "execution_count": 54
        }
      ]
    },
    {
      "cell_type": "markdown",
      "source": [
        "## Which teams made it to the final but never won?"
      ],
      "metadata": {
        "id": "h4LCUZix1D2n"
      }
    },
    {
      "cell_type": "code",
      "source": [
        "%%sql\n",
        "Select DISTINCT \"Runner Up\" As Team_Name from summary\n",
        "WHERE \"Runner Up\" Not in (Select Distinct \"CHAMPION\" from summary);"
      ],
      "metadata": {
        "colab": {
          "base_uri": "https://localhost:8080/",
          "height": 182
        },
        "id": "JT4VXYoKvuzc",
        "outputId": "f9a8f8e9-ab04-4611-bdff-025f6af42939"
      },
      "execution_count": null,
      "outputs": [
        {
          "output_type": "stream",
          "name": "stdout",
          "text": [
            " * sqlite://\n",
            "Done.\n"
          ]
        },
        {
          "output_type": "execute_result",
          "data": {
            "text/plain": [
              "[('Czechoslovakia',),\n",
              " ('Hungary',),\n",
              " ('Sweden',),\n",
              " ('Netherlands',),\n",
              " ('Croatia',)]"
            ],
            "text/html": [
              "<table>\n",
              "    <thead>\n",
              "        <tr>\n",
              "            <th>Team_Name</th>\n",
              "        </tr>\n",
              "    </thead>\n",
              "    <tbody>\n",
              "        <tr>\n",
              "            <td>Czechoslovakia</td>\n",
              "        </tr>\n",
              "        <tr>\n",
              "            <td>Hungary</td>\n",
              "        </tr>\n",
              "        <tr>\n",
              "            <td>Sweden</td>\n",
              "        </tr>\n",
              "        <tr>\n",
              "            <td>Netherlands</td>\n",
              "        </tr>\n",
              "        <tr>\n",
              "            <td>Croatia</td>\n",
              "        </tr>\n",
              "    </tbody>\n",
              "</table>"
            ]
          },
          "metadata": {},
          "execution_count": 55
        }
      ]
    },
    {
      "cell_type": "markdown",
      "source": [
        "## What are the competetions with the highest number of goals?"
      ],
      "metadata": {
        "id": "2TkUdhB41iz9"
      }
    },
    {
      "cell_type": "code",
      "source": [
        "%%sql\n",
        "Select \"Year\", \"HOST\", \"GOALS SCORED\" from summary order by \"GOALS SCORED\" desc\n",
        "Limit 3;\n"
      ],
      "metadata": {
        "colab": {
          "base_uri": "https://localhost:8080/",
          "height": 140
        },
        "id": "3cGi4sDz1oJq",
        "outputId": "21f987a7-e62c-4001-8f90-751b0fc3318d"
      },
      "execution_count": null,
      "outputs": [
        {
          "output_type": "stream",
          "name": "stdout",
          "text": [
            " * sqlite://\n",
            "Done.\n"
          ]
        },
        {
          "output_type": "execute_result",
          "data": {
            "text/plain": [
              "[(2022, 'Qatar', 172), (1998, 'France', 171), (2014, 'Brazil', 171)]"
            ],
            "text/html": [
              "<table>\n",
              "    <thead>\n",
              "        <tr>\n",
              "            <th>YEAR</th>\n",
              "            <th>HOST</th>\n",
              "            <th>GOALS SCORED</th>\n",
              "        </tr>\n",
              "    </thead>\n",
              "    <tbody>\n",
              "        <tr>\n",
              "            <td>2022</td>\n",
              "            <td>Qatar</td>\n",
              "            <td>172</td>\n",
              "        </tr>\n",
              "        <tr>\n",
              "            <td>1998</td>\n",
              "            <td>France</td>\n",
              "            <td>171</td>\n",
              "        </tr>\n",
              "        <tr>\n",
              "            <td>2014</td>\n",
              "            <td>Brazil</td>\n",
              "            <td>171</td>\n",
              "        </tr>\n",
              "    </tbody>\n",
              "</table>"
            ]
          },
          "metadata": {},
          "execution_count": 56
        }
      ]
    },
    {
      "cell_type": "markdown",
      "source": [
        "## Which team won the most?"
      ],
      "metadata": {
        "id": "V2GJwYeQ5vej"
      }
    },
    {
      "cell_type": "code",
      "source": [
        "%%sql\n",
        "Select \"CHAMPION\" as Team_name, count(\"CHAMPION\") As appearance from summary\n",
        "group by\"CHAMPION\"\n",
        "order by appearance desc\n",
        "Limit 1;\n"
      ],
      "metadata": {
        "colab": {
          "base_uri": "https://localhost:8080/",
          "height": 98
        },
        "id": "eyiLg0e550ak",
        "outputId": "a824ba16-5bd3-46a8-bffc-aa433a5fab9b"
      },
      "execution_count": null,
      "outputs": [
        {
          "output_type": "stream",
          "name": "stdout",
          "text": [
            " * sqlite://\n",
            "Done.\n"
          ]
        },
        {
          "output_type": "execute_result",
          "data": {
            "text/plain": [
              "[('Brazil', 5)]"
            ],
            "text/html": [
              "<table>\n",
              "    <thead>\n",
              "        <tr>\n",
              "            <th>Team_name</th>\n",
              "            <th>appearance</th>\n",
              "        </tr>\n",
              "    </thead>\n",
              "    <tbody>\n",
              "        <tr>\n",
              "            <td>Brazil</td>\n",
              "            <td>5</td>\n",
              "        </tr>\n",
              "    </tbody>\n",
              "</table>"
            ]
          },
          "metadata": {},
          "execution_count": 58
        }
      ]
    },
    {
      "cell_type": "markdown",
      "source": [
        "## Which team played in all the competations?"
      ],
      "metadata": {
        "id": "XdosM9gBVIgI"
      }
    },
    {
      "cell_type": "code",
      "source": [
        "%%sql\n",
        "with t1 as\n",
        "  (select Count(\"Year\") as total_games from summary),\n",
        "\n",
        "t2 as\n",
        "  (select \"Team\", Count(\"Team\") as team_appearance from Match group by \"Team\")\n",
        "\n",
        "select * from t2\n",
        "join t1 on t1.total_games=t2.team_appearance;"
      ],
      "metadata": {
        "colab": {
          "base_uri": "https://localhost:8080/",
          "height": 98
        },
        "outputId": "84153861-a225-4752-9e2a-f7a00de524e3",
        "id": "4RiFi2fsBMTF"
      },
      "execution_count": null,
      "outputs": [
        {
          "output_type": "stream",
          "name": "stdout",
          "text": [
            " * sqlite://\n",
            "Done.\n"
          ]
        },
        {
          "output_type": "execute_result",
          "data": {
            "text/plain": [
              "[('Brazil', 22, 22)]"
            ],
            "text/html": [
              "<table>\n",
              "    <thead>\n",
              "        <tr>\n",
              "            <th>Team</th>\n",
              "            <th>team_appearance</th>\n",
              "            <th>total_games</th>\n",
              "        </tr>\n",
              "    </thead>\n",
              "    <tbody>\n",
              "        <tr>\n",
              "            <td>Brazil</td>\n",
              "            <td>22</td>\n",
              "            <td>22</td>\n",
              "        </tr>\n",
              "    </tbody>\n",
              "</table>"
            ]
          },
          "metadata": {},
          "execution_count": 59
        }
      ]
    },
    {
      "cell_type": "markdown",
      "source": [
        "## In which competetion, Italy did not make it to the round of 16?"
      ],
      "metadata": {
        "id": "dcYA88TFW-d4"
      }
    },
    {
      "cell_type": "code",
      "source": [
        "%%sql\n",
        "select \"Year\" from match where \"Team\"=\"Italy\" and \"Games Played\"=3"
      ],
      "metadata": {
        "colab": {
          "base_uri": "https://localhost:8080/",
          "height": 203
        },
        "id": "4EMeSb-OXbMz",
        "outputId": "39f47eae-a6d5-4ad8-a2a5-a1638c9d2254"
      },
      "execution_count": null,
      "outputs": [
        {
          "output_type": "stream",
          "name": "stdout",
          "text": [
            " * sqlite://\n",
            "Done.\n"
          ]
        },
        {
          "output_type": "execute_result",
          "data": {
            "text/plain": [
              "[(1954,), (1962,), (1966,), (1974,), (2010,), (2014,)]"
            ],
            "text/html": [
              "<table>\n",
              "    <thead>\n",
              "        <tr>\n",
              "            <th>Year</th>\n",
              "        </tr>\n",
              "    </thead>\n",
              "    <tbody>\n",
              "        <tr>\n",
              "            <td>1954</td>\n",
              "        </tr>\n",
              "        <tr>\n",
              "            <td>1962</td>\n",
              "        </tr>\n",
              "        <tr>\n",
              "            <td>1966</td>\n",
              "        </tr>\n",
              "        <tr>\n",
              "            <td>1974</td>\n",
              "        </tr>\n",
              "        <tr>\n",
              "            <td>2010</td>\n",
              "        </tr>\n",
              "        <tr>\n",
              "            <td>2014</td>\n",
              "        </tr>\n",
              "    </tbody>\n",
              "</table>"
            ]
          },
          "metadata": {},
          "execution_count": 60
        }
      ]
    },
    {
      "cell_type": "markdown",
      "source": [
        "## Which teams have never scored?"
      ],
      "metadata": {
        "id": "8-1GYOL6cuCu"
      }
    },
    {
      "cell_type": "code",
      "source": [
        "%%sql\n",
        "select \"Team\" As never_scored from match\n",
        "Group by \"Team\"\n",
        "Having sum(\"Goals For\")=0;"
      ],
      "metadata": {
        "colab": {
          "base_uri": "https://localhost:8080/",
          "height": 161
        },
        "id": "cwrnMm3Pcz9_",
        "outputId": "04e1f964-3bb8-47e9-ccf1-ca616542953f"
      },
      "execution_count": null,
      "outputs": [
        {
          "output_type": "stream",
          "name": "stdout",
          "text": [
            " * sqlite://\n",
            "Done.\n"
          ]
        },
        {
          "output_type": "execute_result",
          "data": {
            "text/plain": [
              "[('China PR',), ('Dutch East Indies',), ('Trinidad and Tobago',), ('Zaire',)]"
            ],
            "text/html": [
              "<table>\n",
              "    <thead>\n",
              "        <tr>\n",
              "            <th>never_scored</th>\n",
              "        </tr>\n",
              "    </thead>\n",
              "    <tbody>\n",
              "        <tr>\n",
              "            <td>China PR</td>\n",
              "        </tr>\n",
              "        <tr>\n",
              "            <td>Dutch East Indies</td>\n",
              "        </tr>\n",
              "        <tr>\n",
              "            <td>Trinidad and Tobago</td>\n",
              "        </tr>\n",
              "        <tr>\n",
              "            <td>Zaire</td>\n",
              "        </tr>\n",
              "    </tbody>\n",
              "</table>"
            ]
          },
          "metadata": {},
          "execution_count": 61
        }
      ]
    },
    {
      "cell_type": "markdown",
      "source": [
        "## In which competetion Argentina didn't lose?"
      ],
      "metadata": {
        "id": "vruFoapBd6OG"
      }
    },
    {
      "cell_type": "code",
      "source": [
        "%%sql\n",
        "Select \"Year\" As never_lost from match\n",
        "where  \"Team\"=\"Argentina\" and \"loss\" = 0;"
      ],
      "metadata": {
        "colab": {
          "base_uri": "https://localhost:8080/",
          "height": 119
        },
        "id": "RJZRgPOVeCTq",
        "outputId": "ddd03365-0c97-48ed-8ec7-c4e2efd2fedd"
      },
      "execution_count": null,
      "outputs": [
        {
          "output_type": "stream",
          "name": "stdout",
          "text": [
            " * sqlite://\n",
            "Done.\n"
          ]
        },
        {
          "output_type": "execute_result",
          "data": {
            "text/plain": [
              "[(1986,), (2006,)]"
            ],
            "text/html": [
              "<table>\n",
              "    <thead>\n",
              "        <tr>\n",
              "            <th>never_lost</th>\n",
              "        </tr>\n",
              "    </thead>\n",
              "    <tbody>\n",
              "        <tr>\n",
              "            <td>1986</td>\n",
              "        </tr>\n",
              "        <tr>\n",
              "            <td>2006</td>\n",
              "        </tr>\n",
              "    </tbody>\n",
              "</table>"
            ]
          },
          "metadata": {},
          "execution_count": 62
        }
      ]
    },
    {
      "cell_type": "markdown",
      "source": [
        "## Podium Finishes by Team in World Cup"
      ],
      "metadata": {
        "id": "Tte7f06UnlFC"
      }
    },
    {
      "cell_type": "code",
      "source": [
        "%%sql\n",
        "WITH t1 AS\n",
        "  (SELECT \"Champion\" AS Team, COUNT(\"Champion\") AS Champion FROM summary group by Team),\n",
        "\n",
        "t2 AS\n",
        "  (SELECT \"Runner Up\" AS Team, COUNT(\"Runner Up\") AS Runner_Up FROM summary group by Team),\n",
        "\n",
        "t3 AS\n",
        "  (SELECT \"Third Place\" AS Team, COUNT(\"Third Place\") AS Third_Place FROM summary group by Team)\n",
        "\n",
        "SELECT Team,\n",
        "       COALESCE(SUM(Champion), 0) AS Champion,\n",
        "       COALESCE(SUM(Runner_Up), 0) AS Runner_Up,\n",
        "       COALESCE(SUM(Third_Place), 0) AS Third_Place\n",
        "FROM (\n",
        "  SELECT Team, Champion, 0 AS Runner_Up, 0 AS Third_Place FROM t1\n",
        "  UNION ALL\n",
        "  SELECT Team, 0 AS Champion, Runner_Up, 0 AS Third_Place FROM t2\n",
        "  UNION ALL\n",
        "  SELECT Team, 0 AS Champion, 0 AS Runner_Up, Third_Place FROM t3\n",
        ") AS combined\n",
        "GROUP BY Team order by CHAMPION desc, Runner_Up desc, Third_Place desc;\n",
        "\n",
        "\n"
      ],
      "metadata": {
        "colab": {
          "base_uri": "https://localhost:8080/",
          "height": 500
        },
        "id": "A6htnnx68d_R",
        "outputId": "6d7a088a-0712-4f18-e673-dc1b193687f9"
      },
      "execution_count": null,
      "outputs": [
        {
          "output_type": "stream",
          "name": "stdout",
          "text": [
            " * sqlite://\n",
            "Done.\n"
          ]
        },
        {
          "output_type": "execute_result",
          "data": {
            "text/plain": [
              "[('Brazil', 5, 2, 2),\n",
              " ('Germany', 4, 4, 4),\n",
              " ('Italy', 4, 2, 1),\n",
              " ('Argentina', 3, 3, 0),\n",
              " ('France', 2, 2, 2),\n",
              " ('Uruguay', 2, 0, 0),\n",
              " ('England', 1, 0, 0),\n",
              " ('Spain', 1, 0, 0),\n",
              " ('Netherlands', 0, 3, 1),\n",
              " ('Czechoslovakia', 0, 2, 0),\n",
              " ('Hungary', 0, 2, 0),\n",
              " ('Croatia', 0, 1, 2),\n",
              " ('Sweden', 0, 1, 2),\n",
              " ('Poland', 0, 0, 2),\n",
              " ('Austria', 0, 0, 1),\n",
              " ('Belgium', 0, 0, 1),\n",
              " ('Chile', 0, 0, 1),\n",
              " ('Portugal', 0, 0, 1),\n",
              " ('Turkey', 0, 0, 1),\n",
              " ('United States', 0, 0, 1)]"
            ],
            "text/html": [
              "<table>\n",
              "    <thead>\n",
              "        <tr>\n",
              "            <th>Team</th>\n",
              "            <th>Champion</th>\n",
              "            <th>Runner_Up</th>\n",
              "            <th>Third_Place</th>\n",
              "        </tr>\n",
              "    </thead>\n",
              "    <tbody>\n",
              "        <tr>\n",
              "            <td>Brazil</td>\n",
              "            <td>5</td>\n",
              "            <td>2</td>\n",
              "            <td>2</td>\n",
              "        </tr>\n",
              "        <tr>\n",
              "            <td>Germany</td>\n",
              "            <td>4</td>\n",
              "            <td>4</td>\n",
              "            <td>4</td>\n",
              "        </tr>\n",
              "        <tr>\n",
              "            <td>Italy</td>\n",
              "            <td>4</td>\n",
              "            <td>2</td>\n",
              "            <td>1</td>\n",
              "        </tr>\n",
              "        <tr>\n",
              "            <td>Argentina</td>\n",
              "            <td>3</td>\n",
              "            <td>3</td>\n",
              "            <td>0</td>\n",
              "        </tr>\n",
              "        <tr>\n",
              "            <td>France</td>\n",
              "            <td>2</td>\n",
              "            <td>2</td>\n",
              "            <td>2</td>\n",
              "        </tr>\n",
              "        <tr>\n",
              "            <td>Uruguay</td>\n",
              "            <td>2</td>\n",
              "            <td>0</td>\n",
              "            <td>0</td>\n",
              "        </tr>\n",
              "        <tr>\n",
              "            <td>England</td>\n",
              "            <td>1</td>\n",
              "            <td>0</td>\n",
              "            <td>0</td>\n",
              "        </tr>\n",
              "        <tr>\n",
              "            <td>Spain</td>\n",
              "            <td>1</td>\n",
              "            <td>0</td>\n",
              "            <td>0</td>\n",
              "        </tr>\n",
              "        <tr>\n",
              "            <td>Netherlands</td>\n",
              "            <td>0</td>\n",
              "            <td>3</td>\n",
              "            <td>1</td>\n",
              "        </tr>\n",
              "        <tr>\n",
              "            <td>Czechoslovakia</td>\n",
              "            <td>0</td>\n",
              "            <td>2</td>\n",
              "            <td>0</td>\n",
              "        </tr>\n",
              "        <tr>\n",
              "            <td>Hungary</td>\n",
              "            <td>0</td>\n",
              "            <td>2</td>\n",
              "            <td>0</td>\n",
              "        </tr>\n",
              "        <tr>\n",
              "            <td>Croatia</td>\n",
              "            <td>0</td>\n",
              "            <td>1</td>\n",
              "            <td>2</td>\n",
              "        </tr>\n",
              "        <tr>\n",
              "            <td>Sweden</td>\n",
              "            <td>0</td>\n",
              "            <td>1</td>\n",
              "            <td>2</td>\n",
              "        </tr>\n",
              "        <tr>\n",
              "            <td>Poland</td>\n",
              "            <td>0</td>\n",
              "            <td>0</td>\n",
              "            <td>2</td>\n",
              "        </tr>\n",
              "        <tr>\n",
              "            <td>Austria</td>\n",
              "            <td>0</td>\n",
              "            <td>0</td>\n",
              "            <td>1</td>\n",
              "        </tr>\n",
              "        <tr>\n",
              "            <td>Belgium</td>\n",
              "            <td>0</td>\n",
              "            <td>0</td>\n",
              "            <td>1</td>\n",
              "        </tr>\n",
              "        <tr>\n",
              "            <td>Chile</td>\n",
              "            <td>0</td>\n",
              "            <td>0</td>\n",
              "            <td>1</td>\n",
              "        </tr>\n",
              "        <tr>\n",
              "            <td>Portugal</td>\n",
              "            <td>0</td>\n",
              "            <td>0</td>\n",
              "            <td>1</td>\n",
              "        </tr>\n",
              "        <tr>\n",
              "            <td>Turkey</td>\n",
              "            <td>0</td>\n",
              "            <td>0</td>\n",
              "            <td>1</td>\n",
              "        </tr>\n",
              "        <tr>\n",
              "            <td>United States</td>\n",
              "            <td>0</td>\n",
              "            <td>0</td>\n",
              "            <td>1</td>\n",
              "        </tr>\n",
              "    </tbody>\n",
              "</table>"
            ]
          },
          "metadata": {},
          "execution_count": 47
        }
      ]
    }
  ]
}