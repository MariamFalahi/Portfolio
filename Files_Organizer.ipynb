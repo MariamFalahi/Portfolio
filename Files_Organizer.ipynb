{
 "cells": [
  {
   "cell_type": "markdown",
   "metadata": {},
   "source": [
    "# Desktop Cleaning "
   ]
  },
  {
   "cell_type": "code",
   "execution_count": 1,
   "metadata": {},
   "outputs": [],
   "source": [
    "import os, shutil \n",
    "\n",
    "# In this part of the code, all the files on the desktop will be moved to a new folder called \"cleanup\"\n",
    "\n",
    "# define the files source to be cleaned \n",
    "source_dir = r\"C:/Users/Maryam/Desktop\"\n",
    "\n",
    "# define a folder on the source to move all files to \n",
    "destination_dir = r\"C:/Users/Maryam/Desktop/Cleanup\"\n",
    "\n",
    "# Create the destination directory if it doesn't exist\n",
    "os.makedirs(destination_dir, exist_ok=True)\n",
    "\n",
    "# list the name of all files in the source \n",
    "file_names_0 = os.listdir(source_dir)\n",
    "\n",
    "# to ensure only files are moved and not folders, define the type of the files to be moved \n",
    "file_types = ['.txt', '.png', '.ipynb', '.pdf', '.docx', '.xlsx', '.csv', '.jpg', 'pptx']\n",
    "\n",
    "# loop over all files and move then from the source to the destination \n",
    "for file_name in file_names_0:\n",
    "    for file_type in file_types:\n",
    "        if file_name.lower().endswith(file_type): \n",
    "           shutil.move(os.path.join(source_dir, file_name), os.path.join(destination_dir, file_name))\n",
    "               "
   ]
  },
  {
   "cell_type": "markdown",
   "metadata": {},
   "source": [
    "# Files Classification"
   ]
  },
  {
   "cell_type": "code",
   "execution_count": null,
   "metadata": {},
   "outputs": [],
   "source": [
    "# after the files have been moved successfully into the cleanup folder on the desktop, they will be classified into \n",
    "# folders based on their types\n",
    "\n",
    "# define the path of the files within the new folder \n",
    "path = r\"C:/Users/Maryam/Desktop/Cleanup/\" \n",
    "\n",
    "# list the name of the files \n",
    "file_names_1 = os.listdir(path)  \n",
    "\n",
    "# define the name of the folders to which the files will be moved \n",
    "folder_names = ['csv files', 'image files', 'text files', 'PDF files', 'Word files', 'Coding files', 'Excel files', 'PowerPoints files']\n",
    "\n",
    "# find the number of the sub-folders \n",
    "folders_number = len(folder_names)\n",
    "\n",
    "# create the sub-folders \n",
    "for loop in range(0, folders_number):\n",
    "    if not os.path.exists(path + folder_names[loop]):\n",
    "        os.makedirs((path + folder_names[loop]))  \n",
    "\n",
    "# move each file into a sub-folder based on its type \n",
    "for file in file_names_1:\n",
    "    if \".csv\" in file and not os.path.exists(path + \"csv files/\" + file): \n",
    "        shutil.move(path + file, path + \"csv files/\" + file)\n",
    "    elif \".jpg\" in file and not os.path.exists(path + \"image files/\" + file):\n",
    "        shutil.move(path + file, path + \"image files/\" + file)\n",
    "    elif \".png\" in file and not os.path.exists(path + \"image files/\" + file):\n",
    "        shutil.move(path + file, path + \"image files/\" + file)\n",
    "    elif \".txt\" in file and not os.path.exists(path + \"image files\" + file):\n",
    "        shutil.move(path + file, path + \"text files/\" + file) \n",
    "    elif \".pdf\" in file and not os.path.exists(path + \"PDF files\" + file):\n",
    "        shutil.move(path + file, path + \"PDF files/\" + file) \n",
    "    elif \".docx\" in file and not os.path.exists(path + \"Word files\" + file):\n",
    "        shutil.move(path + file, path + \"Excel files/\" + file) \n",
    "    elif \".xlsx\" in file and not os.path.exists(path + \"Excel files\" + file):\n",
    "        shutil.move(path + file, path + \"Word files/\" + file) \n",
    "    elif \".ipynb\" in file and not os.path.exists(path + \"Coding files\" + file):\n",
    "        shutil.move(path + file, path + \"Coding files/\" + file)\n",
    "    elif \".pptx\" in file and not os.path.exists(path + \"PowerPoints files\" + file):\n",
    "        shutil.move(path + file, path + \"PowerPoints files/\" + file)"
   ]
  }
 ],
 "metadata": {
  "kernelspec": {
   "display_name": "Python 3",
   "language": "python",
   "name": "python3"
  },
  "language_info": {
   "codemirror_mode": {
    "name": "ipython",
    "version": 3
   },
   "file_extension": ".py",
   "mimetype": "text/x-python",
   "name": "python",
   "nbconvert_exporter": "python",
   "pygments_lexer": "ipython3",
   "version": "3.11.5"
  }
 },
 "nbformat": 4,
 "nbformat_minor": 2
}
