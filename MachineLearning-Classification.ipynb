{
 "cells": [
  {
   "cell_type": "markdown",
   "metadata": {},
   "source": [
    "# Import libraries "
   ]
  },
  {
   "cell_type": "code",
   "execution_count": 13,
   "metadata": {},
   "outputs": [
    {
     "name": "stderr",
     "output_type": "stream",
     "text": [
      "'pip' is not recognized as an internal or external command,\n",
      "operable program or batch file.\n"
     ]
    }
   ],
   "source": [
    "#pip install -U scikit-learn\n",
    "#!pip install xgboost\n"
   ]
  },
  {
   "cell_type": "code",
   "execution_count": 39,
   "metadata": {},
   "outputs": [],
   "source": [
    "import numpy as np\n",
    "import pandas as pd \n",
    "#import xgboost as xgb "
   ]
  },
  {
   "cell_type": "markdown",
   "metadata": {},
   "source": [
    "# Read the Data"
   ]
  },
  {
   "cell_type": "code",
   "execution_count": 40,
   "metadata": {},
   "outputs": [],
   "source": [
    "file_path = 'C:/Users/Maryam/Desktop/Job applications/Portfolio/DataSets/classification_data.csv'\n",
    "dataset = pd.read_csv(file_path)\n",
    "X = dataset.iloc[:, :-1].values\n",
    "y = dataset.iloc[:, -1].values\n",
    "\n",
    "from sklearn.model_selection import train_test_split\n",
    "x_train, x_test, y_train, y_test = train_test_split(X, y, test_size = 0.2, random_state = 0)\n",
    "\n",
    "from sklearn.preprocessing import StandardScaler\n",
    "sc = StandardScaler()\n",
    "x_train = sc.fit_transform(x_train)\n",
    "x_test = sc.transform(x_test)\n",
    " "
   ]
  },
  {
   "cell_type": "markdown",
   "metadata": {},
   "source": [
    "# k-Fold Cross Validation"
   ]
  },
  {
   "cell_type": "code",
   "execution_count": 112,
   "metadata": {},
   "outputs": [],
   "source": [
    "def cross_validation(classifier, x_train, y_train):\n",
    "    from sklearn.model_selection import cross_val_score\n",
    "    accuracies = cross_val_score(estimator = classifier, X=x_train, y=y_train, cv = 10)\n",
    "    accuracies_mean = accuracies.mean()\n",
    "    accuracies_std = accuracies.std()\n",
    "    return accuracies_mean, accuracies_std "
   ]
  },
  {
   "cell_type": "markdown",
   "metadata": {},
   "source": [
    "# Grid Search"
   ]
  },
  {
   "cell_type": "code",
   "execution_count": 113,
   "metadata": {},
   "outputs": [],
   "source": [
    "def parameters_estimation(classifier, parameters, accuracy, x_train, y_train):\n",
    "    from sklearn.model_selection import GridSearchCV\n",
    "\n",
    "    # Create a grid search object\n",
    "    grid_search = GridSearchCV(estimator=classifier, param_grid=parameters, scoring= accuracy, cv=10, n_jobs=-1)\n",
    "\n",
    "    # Perform the grid search on your training data\n",
    "    grid_search.fit(x_train, y_train)\n",
    "\n",
    "    # Get the best hyperparameters and estimator\n",
    "    best_regressor = grid_search.best_estimator_\n",
    "    best_param = grid_search.best_params_\n",
    "    \n",
    "    return best_param"
   ]
  },
  {
   "cell_type": "markdown",
   "metadata": {},
   "source": [
    "# Model Evaluation"
   ]
  },
  {
   "cell_type": "code",
   "execution_count": 114,
   "metadata": {},
   "outputs": [],
   "source": [
    "def model_evaluation(updated_classifier, x_test, y_test):\n",
    "    # to show the number of correct and incorrect prediction \n",
    "    # Making the Confusion Matrix \n",
    "    from sklearn.metrics import confusion_matrix, accuracy_score\n",
    "    y_pred = updated_classifier.predict(x_test) \n",
    "    cm = confusion_matrix(y_test, y_pred)\n",
    "    accuracy = accuracy_score(y_test, y_pred)\n",
    "\n",
    "    return cm, accuracy"
   ]
  },
  {
   "cell_type": "markdown",
   "metadata": {},
   "source": [
    "# Methods"
   ]
  },
  {
   "cell_type": "markdown",
   "metadata": {},
   "source": [
    "## Logistic Regression "
   ]
  },
  {
   "cell_type": "code",
   "execution_count": 115,
   "metadata": {},
   "outputs": [],
   "source": [
    "# define a function for a Logistic Regression (LR) method\n",
    "def Logistic_Regression():\n",
    "    # create a LR classifier and train it on the training set\n",
    "    # random state: \n",
    "    from sklearn.linear_model import LogisticRegression \n",
    "    classifier = LogisticRegression(random_state = 0)\n",
    "    classifier.fit(x_train, y_train)\n",
    "\n",
    "   # call the cross_validation function to return the mean and the standard deviation of the accuracies of all sub-sets\n",
    "    accuracies_mean, accuracies_std = cross_validation(classifier, x_train, y_train)\n",
    "    \n",
    "    # call model_evaluation function to return the confusion matrix (cm) and the overall accuracy of the KNN method\n",
    "    cm, accuracy = model_evaluation(classifier, x_test, y_test)\n",
    "\n",
    "    # the LR function returns the following values\n",
    "    return accuracies_mean, accuracies_std, cm, accuracy\n",
    "\n",
    "# accuracies_mean_LR, accuracies_std_LR, cm_LR, accuracy_LR = Logistic_Regression()"
   ]
  },
  {
   "cell_type": "markdown",
   "metadata": {},
   "source": [
    "## K-Nearest Neighbors Algorithm"
   ]
  },
  {
   "cell_type": "code",
   "execution_count": 116,
   "metadata": {},
   "outputs": [],
   "source": [
    "# define a function for a K-Nearest Kneighbours method\n",
    "def KNN():\n",
    "    # create an SVR classifier and train it on the training set\n",
    "    # n_neighbors:\n",
    "    # metric\n",
    "    # p  \n",
    "    from sklearn.neighbors import KNeighborsClassifier\n",
    "    classifier = KNeighborsClassifier(n_neighbors=5, metric= 'minkowski', p = 2)\n",
    "    classifier.fit(x_train, y_train)\n",
    "\n",
    "    # call the cross_validation function to return the mean and the standard deviation of the accuracies of all sub-sets\n",
    "    accuracies_mean, accuracies_std = cross_validation(classifier, x_train, y_train)\n",
    "    \n",
    "    # define the parameters to be optimized in order to improve the accuracy of the method. \n",
    "    parameters = {'n_neighbors': [1, 5, 10, 20]}\n",
    "\n",
    "    # call parameters_estimation function to return the best value of the parameters\n",
    "    best_param = parameters_estimation(classifier, parameters, 'accuracy', x_train, y_train)\n",
    "    best_n_neighbors = best_param['n_neighbors']\n",
    "    # print the best hyperparameters\n",
    "    print(\"Best Hyperparameters of KNN method:\", best_param)\n",
    "    \n",
    "\n",
    "    # update the classifier using the best parameters return from parameters_estimation function\n",
    "    updated_classifier = KNeighborsClassifier(n_neighbors=best_n_neighbors, metric= 'minkowski', p = 2)\n",
    "    updated_classifier.fit(x_train, y_train)\n",
    "\n",
    "    # call model_evaluation function to return the confusion matrix (cm) and the overall accuracy of the KNN method\n",
    "    cm, accuracy = model_evaluation(classifier, x_test, y_test)\n",
    "\n",
    "\n",
    "    # the KNN function returns the following values \n",
    "    return accuracies_mean, accuracies_std, cm, accuracy\n",
    "\n",
    "# accuracies_mean_KNN, accuracies_std_KNN, cm_KNN, accuracy_KNN = KNN()\n",
    "\n"
   ]
  },
  {
   "cell_type": "markdown",
   "metadata": {},
   "source": [
    "## Support Vector Regression (SVR)"
   ]
  },
  {
   "cell_type": "code",
   "execution_count": 124,
   "metadata": {},
   "outputs": [
    {
     "name": "stdout",
     "output_type": "stream",
     "text": [
      "Best Hyperparameters of SVR method: {'C': 0.25, 'kernel': 'linear'}\n"
     ]
    }
   ],
   "source": [
    "def SVR():\n",
    "    # create an SVR classifier and train it on the training set\n",
    "    # kernel: \n",
    "    from sklearn.svm import SVC \n",
    "    classifier = SVC(kernel='rbf', random_state=0)\n",
    "    classifier.fit(x_train, y_train)\n",
    "        \n",
    "    ###################################################################### Cross-Validation ##############################################################################\n",
    "    # call the cross_validation function to return the mean and the standard deviation of the accuracies of all sub-sets\n",
    "    accuracies_mean, accuracies_std = cross_validation(classifier, x_train, y_train)\n",
    "\n",
    "    ################################################################### parameters_estimation #############################################################################\n",
    "    # call parameters_estimation function to return the best value of the parameters \n",
    "    best_param = parameters_estimation(classifier, parameters, 'accuracy', x_train, y_train)\n",
    "    best_kernel = best_param['kernel']\n",
    "    print(\"Best Hyperparameters of SVR method:\", best_param)\n",
    "        \n",
    "    # update the classifier using the best parameters returned from parameters_estimation (grid search)\n",
    "    updated_classifier = SVC(kernel=best_kernel, random_state=0)\n",
    "    updated_classifier.fit(x_train, y_train)\n",
    "\n",
    "    ###################################################################### Model Evaluation ###############################################################################\n",
    "    # call model_evaluation function to return the confusion matrix (cm) and the overall accuracy of the KNN method\n",
    "    cm, accuracy = model_evaluation(classifier, x_test, y_test)\n",
    "\n",
    "    return accuracies_mean, accuracies_std, cm, accuracy\n",
    "\n",
    "accuracies_mean_SVR, accuracies_std_SVR, cm_SVR, accuracy_SVR = SVR() \n",
    "\n"
   ]
  },
  {
   "cell_type": "markdown",
   "metadata": {},
   "source": [
    "## Decision Tree "
   ]
  },
  {
   "cell_type": "code",
   "execution_count": 118,
   "metadata": {},
   "outputs": [],
   "source": [
    "# define a function for a Decision Tree method\n",
    "def Decision_Tree():\n",
    "    # create a Decision Tree classifier and train it on the training set\n",
    "    # criterion: \n",
    "    # random_state: \n",
    "    from sklearn.tree import DecisionTreeClassifier\n",
    "    classifier = DecisionTreeClassifier(criterion='entropy', random_state=0)\n",
    "    classifier.fit(x_train, y_train)\n",
    "\n",
    "    # call the cross_validation function to return the mean and the standard deviation of the accuracies of all sub-sets\n",
    "    accuracies_mean, accuracies_std = cross_validation(classifier, x_train, y_train)\n",
    "\n",
    "    # define the parameters to be optimized in order to improve the accuracy of the method \n",
    "    parameters = {'criterion': ['gini', 'entropy']}\n",
    "    \n",
    "    # call parameters_estimation function to return the best value of the parameters \n",
    "    best_param = parameters_estimation(classifier, parameters, 'accuracy', x_train, y_train)\n",
    "    print(\"Best Hyperparameters of Decision Tree method:\", best_param)\n",
    "\n",
    "    # update the classifier using the best parameters return from parameters_estimation function\n",
    "    updated_classifier = DecisionTreeClassifier(criterion=best_param['criterion'], random_state=0)\n",
    "    updated_classifier.fit(x_train, y_train)\n",
    "\n",
    "    # to show the number of correct and incorrect prediction \n",
    "    # Making the Confusion Matrix \n",
    "    # call model_evaluation function to return the confusion matrix (cm) and the overall accuracy of the KNN method\n",
    "    cm, accuracy = model_evaluation(classifier, x_test, y_test)\n",
    "\n",
    "    # the Decision Tree function returns the following values \n",
    "    return accuracies_mean, accuracies_std, cm, accuracy\n",
    "\n",
    "#accuracies_mean_DT, accuracies_std_DT, cm_DT, accuracy_DT = Decision_Tree()\n"
   ]
  },
  {
   "cell_type": "markdown",
   "metadata": {},
   "source": [
    "## Random Forest Model"
   ]
  },
  {
   "cell_type": "code",
   "execution_count": 119,
   "metadata": {},
   "outputs": [],
   "source": [
    "# define a function for a Random Forest method\n",
    "def Random_Forest():\n",
    "    # create a Random Forest classifier and train it on the training set\n",
    "    # n_estimators\n",
    "    # criterion:\n",
    "    # random_state: \n",
    "    from sklearn.ensemble import RandomForestClassifier\n",
    "    classifier = RandomForestClassifier(n_estimators=10, criterion='entropy', random_state=0)\n",
    "    classifier.fit(x_train, y_train)\n",
    "\n",
    "    # call the cross_validation function to return the mean and the standard deviation of the accuracies of all sub-sets\n",
    "    accuracies_mean, accuracies_std = cross_validation(classifier, x_train, y_train)\n",
    "\n",
    "    \n",
    "    # define the parameters to be optimized in order to improve the accuracy of the method.  \n",
    "    parameters = {'criterion': ['gini', 'entropy']}\n",
    "\n",
    "    # call parameters_estimation function to return the best value of the parameters \n",
    "    best_param = parameters_estimation(classifier, parameters, 'accuracy', x_train, y_train)\n",
    "    print(\"Best Hyperparameters of Random Forest method:\", best_param)\n",
    "\n",
    "    # update the classifier using the best parameters return from parameters_estimation function  \n",
    "    updated_classifier = RandomForestClassifier(n_estimators = 10, criterion=best_param['criterion'], random_state=0)\n",
    "    updated_classifier.fit(x_train, y_train)\n",
    "\n",
    "    # to show the number of correct and incorrect prediction \n",
    "    # Making the Confusion Matrix \n",
    "    # call model_evaluation function to return the confusion matrix (cm) and the overall accuracy of the KNN method\n",
    "    cm, accuracy = model_evaluation(classifier, x_test, y_test)\n",
    "\n",
    "    # the Random Forest function returns the following values \n",
    "    return accuracies_mean, accuracies_std, cm, accuracy\n",
    "\n",
    "# accuracies_mean_RF, accuracies_std_RF, cm_RF, accuracy_RF = Random_Forest()"
   ]
  },
  {
   "cell_type": "markdown",
   "metadata": {},
   "source": [
    "## XGBoost "
   ]
  },
  {
   "cell_type": "code",
   "execution_count": 120,
   "metadata": {},
   "outputs": [],
   "source": [
    "# define a function for XGBoost method \n",
    "def XGBoost_method():\n",
    "\n",
    "   # create an XGBoost classifier and train it using the training set \n",
    "   from xgboost import XGBRegressor\n",
    "   classifier = XGBClassifier()\n",
    "   classifier.fit(x_train, y_train)\n",
    "\n",
    "   # call the cross_validation function to return the mean and the standard deviation of the accuracies of all sub-sets\n",
    "   accuracies_mean, accuracies_std = cross_validation(classifier, x_train, y_train)\n",
    "\n",
    "   # to show the number of correct and incorrect prediction \n",
    "   # Making the Confusion Matrix \n",
    "   # call model_evaluation function to return the confusion matrix (cm) and the overall accuracy of the KNN method\n",
    "   cm, accuracy = model_evaluation(classifier, x_test, y_test)\n",
    "\n",
    "\n",
    "   # the XGBoost function returns the following values \n",
    "   return accuracies_mean, accuracies_std, cm, accuracy\n",
    "\n",
    "#accuracies_mean_XG, accuracies_std_XG, cm_XG, accuracy_XG = XGBoost_method()"
   ]
  },
  {
   "cell_type": "markdown",
   "metadata": {},
   "source": [
    "# Models Ranking "
   ]
  },
  {
   "cell_type": "code",
   "execution_count": 122,
   "metadata": {},
   "outputs": [
    {
     "name": "stdout",
     "output_type": "stream",
     "text": [
      "Best Hyperparameters of KNN method: {'n_neighbors': 10}\n",
      "Best Hyperparameters of SVR method: {'C': 0.25, 'kernel': 'linear'}\n",
      "Best Hyperparameters of Decision Tree method: {'criterion': 'entropy'}\n",
      "Best Hyperparameters of Random Forest method: {'criterion': 'gini'}\n"
     ]
    }
   ],
   "source": [
    "# to select the best model, the model functions are called to return the performance measures that are used to rank all the models from the most accurate to the least accurate.\n",
    "# the measures are: the average mean of the cross validation accuracy, the standard deviation of the cross validation accuracy, the confusion materix and the overall accuracy\n",
    "accuracies_mean_LR, accuracies_std_LR, cm_LR, accuracy_LR = Logistic_Regression() \n",
    "accuracies_mean_KNN, accuracies_std_KNN, cm_KNN, accuracy_KNN = KNN()\n",
    "accuracies_mean_SVR, accuracies_std_SVR, cm_SVR, accuracy_SVR = SVR()\n",
    "accuracies_mean_DT, accuracies_std_DT, cm_DT, accuracy_DT = Decision_Tree()\n",
    "accuracies_mean_RF, accuracies_std_RF, cm_RF, accuracy_RF = Random_Forest()\n",
    "#ccuracies_mean_XG, accuracies_std_XG, cm_XG, accuracy_XG = XGBoost_method()\n",
    "\n",
    "# after running all the models, the performance measures are stored in dictonaries in order to be ranked    \n",
    "accuracies_mean_dict = {'LR': accuracies_mean_LR, 'KNN': accuracies_mean_KNN, 'SVR': accuracies_mean_SVR, 'DT': accuracies_mean_DT, 'RF': accuracies_mean_RF}\n",
    "accuracies_std_dict = {'LR': accuracies_std_LR, 'KNN': accuracies_std_KNN, 'SVR': accuracies_std_SVR, 'DT': accuracies_std_DT, 'RF': accuracies_std_RF}\n",
    "cm_dict = {'LR': cm_LR, 'KNN': cm_KNN, 'SVR': cm_SVR, 'DT': cm_DT, 'RF': cm_RF}\n",
    "accuracy_dict = {'LR': accuracy_LR, 'KNN': accuracy_KNN, 'SVR': accuracy_SVR, 'DT': accuracy_DT, 'RF': accuracy_RF}\n",
    "\n",
    "# the dictories are ranked from the highest to the lowest. \n",
    "sorted_accuracies_mean = dict(sorted(accuracies_mean_dict.items(), key=lambda item: item[1], reverse=True))\n",
    "sorted_accuracies_std = dict(sorted(accuracies_std_dict.items(), key=lambda item: item[1], reverse=False))\n",
    "sorted_accuracy = dict(sorted(accuracy_dict.items(), key=lambda item: item[1], reverse=True))\n"
   ]
  },
  {
   "cell_type": "markdown",
   "metadata": {},
   "source": [
    "# Analysis and Recommendations"
   ]
  },
  {
   "cell_type": "code",
   "execution_count": 123,
   "metadata": {},
   "outputs": [
    {
     "name": "stdout",
     "output_type": "stream",
     "text": [
      "Confusion Matrix are:\n",
      "Logistic Regression\n",
      "[[84  3]\n",
      " [ 3 47]]\n",
      "KNN\n",
      "[[83  4]\n",
      " [ 2 48]]\n",
      "Support Vector Regression\n",
      "[[82  5]\n",
      " [ 1 49]]\n",
      "Decision Tree\n",
      "[[85  2]\n",
      " [ 2 48]]\n",
      "Random Forest\n",
      "[[84  3]\n",
      " [ 3 47]]\n",
      "Sorted overall accuracy are: {'DT': 0.9708029197080292, 'LR': 0.9562043795620438, 'KNN': 0.9562043795620438, 'SVR': 0.9562043795620438, 'RF': 0.9562043795620438}\n",
      "Sorted cross-validation mean accuracies are: {'LR': 0.967003367003367, 'KNN': 0.967003367003367, 'SVR': 0.9652525252525253, 'RF': 0.9615151515151515, 'DT': 0.9524242424242425}\n",
      "Sorted standard deviation of the cross-validation accuracies are: {'KNN': 0.017941421104663395, 'SVR': 0.01906913288410605, 'LR': 0.019697976894447813, 'RF': 0.0239014792077341, 'DT': 0.024905835653388116}\n"
     ]
    }
   ],
   "source": [
    "# the first model in each dictonary is the best one \n",
    "print(\"Confusion Matrix are:\")\n",
    "print(\"Logistic Regression\")\n",
    "print(cm_LR)\n",
    "print(\"KNN\")\n",
    "print(cm_KNN)\n",
    "print(\"Support Vector Regression\")\n",
    "print(cm_SVR)\n",
    "print(\"Decision Tree\")\n",
    "print(cm_DT)\n",
    "print(\"Random Forest\")\n",
    "print(cm_RF)\n",
    "print(\"Sorted overall accuracy are:\", sorted_accuracy)\n",
    "print(\"Sorted cross-validation mean accuracies are:\", sorted_accuracies_mean)\n",
    "print(\"Sorted standard deviation of the cross-validation accuracies are:\", sorted_accuracies_std)"
   ]
  }
 ],
 "metadata": {
  "kernelspec": {
   "display_name": "Python 3",
   "language": "python",
   "name": "python3"
  },
  "language_info": {
   "codemirror_mode": {
    "name": "ipython",
    "version": 3
   },
   "file_extension": ".py",
   "mimetype": "text/x-python",
   "name": "python",
   "nbconvert_exporter": "python",
   "pygments_lexer": "ipython3",
   "version": "3.11.5"
  }
 },
 "nbformat": 4,
 "nbformat_minor": 2
}
