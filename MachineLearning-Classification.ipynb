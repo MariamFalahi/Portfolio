{
 "cells": [
  {
   "cell_type": "markdown",
   "metadata": {},
   "source": [
    "# Import libraries "
   ]
  },
  {
   "cell_type": "code",
   "execution_count": 2,
   "metadata": {},
   "outputs": [],
   "source": [
    "#pip install -U scikit-learn"
   ]
  },
  {
   "cell_type": "code",
   "execution_count": 3,
   "metadata": {},
   "outputs": [],
   "source": [
    "import numpy as np\n",
    "import pandas as pd "
   ]
  },
  {
   "cell_type": "markdown",
   "metadata": {},
   "source": [
    "# Read the Data"
   ]
  },
  {
   "cell_type": "code",
   "execution_count": 4,
   "metadata": {},
   "outputs": [],
   "source": [
    "file_path = 'C:/Users/Maryam/Desktop/Job applications/Portfolio/DataSets/classification_data.csv'\n",
    "dataset = pd.read_csv(file_path)\n",
    "X = dataset.iloc[:, :-1].values\n",
    "y = dataset.iloc[:, -1].values\n",
    "\n",
    "from sklearn.model_selection import train_test_split\n",
    "x_train, x_test, y_train, y_test = train_test_split(X, y, test_size = 0.2, random_state = 0)\n",
    " "
   ]
  },
  {
   "cell_type": "markdown",
   "metadata": {},
   "source": [
    "# k-Fold Cross Validation "
   ]
  },
  {
   "cell_type": "code",
   "execution_count": 5,
   "metadata": {},
   "outputs": [],
   "source": [
    "def cross_validation(classifier, x_train, y_train):\n",
    "    from sklearn.model_selection import cross_val_score\n",
    "    accuracies = cross_val_score(estimator = classifier, X=x_train, y=y_train, cv = 10)\n",
    "    accuracies_mean = accuracies.mean()\n",
    "    accuracies_std = accuracies.std()\n",
    "    return accuracies_mean, accuracies_std "
   ]
  },
  {
   "cell_type": "markdown",
   "metadata": {},
   "source": [
    "# Grid Search "
   ]
  },
  {
   "cell_type": "code",
   "execution_count": 6,
   "metadata": {},
   "outputs": [],
   "source": [
    "def parameters_estimation(classifier, parameters, accuracy, x_train, y_train):\n",
    "    from sklearn.model_selection import GridSearchCV\n",
    "\n",
    "    # Create a grid search object\n",
    "    grid_search = GridSearchCV(estimator=classifier, param_grid=parameters, scoring= accuracy, cv=10, n_jobs=-1)\n",
    "\n",
    "    # Perform the grid search on your training data\n",
    "    grid_search.fit(x_train, y_train)\n",
    "\n",
    "    # Get the best hyperparameters and estimator\n",
    "    best_regressor = grid_search.best_estimator_\n",
    "    best_param = grid_search.best_params_\n",
    "    \n",
    "    # print the best hyperparameters\n",
    "    print(\"Best Hyperparameters:\", best_param)\n",
    "\n",
    "    return best_param"
   ]
  },
  {
   "cell_type": "markdown",
   "metadata": {},
   "source": [
    "# Model Evaluation "
   ]
  },
  {
   "cell_type": "code",
   "execution_count": 7,
   "metadata": {},
   "outputs": [],
   "source": [
    "def model_evaluation(updated_classifier, x_test, y_test):\n",
    "    # to show the number of correct and incorrect prediction \n",
    "    # Making the Confusion Matrix \n",
    "    from sklearn.metrics import confusion_matrix, accuracy_score\n",
    "    y_pred = updated_classifier.predict(x_test) \n",
    "    cm = confusion_matrix(y_test, y_pred)\n",
    "    accuracy = accuracy_score(y_test, y_pred)\n",
    "\n",
    "    return cm, accuracy"
   ]
  },
  {
   "cell_type": "markdown",
   "metadata": {},
   "source": [
    "# Methods"
   ]
  },
  {
   "cell_type": "markdown",
   "metadata": {},
   "source": [
    "## Logistic Regression "
   ]
  },
  {
   "cell_type": "code",
   "execution_count": 8,
   "metadata": {},
   "outputs": [],
   "source": [
    "# define a function for a Logistic Regression (LR) method\n",
    "def Logistic_Regression():\n",
    "    # create a LR classifier and train it on the training set\n",
    "    # random state: \n",
    "    from sklearn.linear_model import LogisticRegression \n",
    "    classifier = LogisticRegression(random_state = 0)\n",
    "    classifier.fit(x_train, y_train)\n",
    "\n",
    "    # call the cross_validation function to return the mean and the standard deviation of the accuracies of all sub-sets\n",
    "    accuracies_mean, accuracies_std = cross_validation(classifier, x_train, y_train)\n",
    "    \n",
    "    # call model_evaluation function to return the confusion matrix (cm) and the overall accuracy of the KNN method\n",
    "    cm, accuracy = model_evaluation(classifier, x_test, y_test)\n",
    "\n",
    "    # the LR function returns the following values\n",
    "    return accuracies_mean, accuracies_std, cm, accuracy\n",
    "\n",
    "accuracies_mean_LR, accuracies_std_LR, cm_LR, accuracy_LR=Logistic_Regression()\n",
    "\n",
    "\n"
   ]
  },
  {
   "cell_type": "markdown",
   "metadata": {},
   "source": [
    "## KNN"
   ]
  },
  {
   "cell_type": "code",
   "execution_count": 9,
   "metadata": {},
   "outputs": [
    {
     "name": "stdout",
     "output_type": "stream",
     "text": [
      "Best Hyperparameters: {'n_neighbors': 20}\n",
      "0.6133670033670034\n",
      "0.05355801777628228\n",
      "[[75 12]\n",
      " [34 16]]\n",
      "0.6642335766423357\n"
     ]
    }
   ],
   "source": [
    "# define a function for a K-Nearest Kneighbours method\n",
    "def KNN():\n",
    "    # create an SVR classifier and train it on the training set\n",
    "    # n_neighbors:\n",
    "    # metric\n",
    "    # p  \n",
    "    from sklearn.neighbors import KNeighborsClassifier\n",
    "    classifier = KNeighborsClassifier(n_neighbors=5, metric= 'minkowski', p = 2)\n",
    "    classifier.fit(x_train, y_train)\n",
    "\n",
    "    # call the cross_validation function to return the mean and the standard deviation of the accuracies of all sub-sets\n",
    "    accuracies_mean, accuracies_std = cross_validation(classifier, x_train, y_train)\n",
    "\n",
    "    # define the parameters to be optimized in order to improve the accuracy of the method. \n",
    "    parameters = {'n_neighbors': [1, 5, 10, 20]}\n",
    "\n",
    "    # call parameters_estimation function to return the best value of the parameters\n",
    "    best_param = parameters_estimation(classifier, parameters, 'accuracy', x_train, y_train)\n",
    "    best_n_neighbors = best_param['n_neighbors']\n",
    "\n",
    "    # update the classifier using the best parameters return from parameters_estimation function\n",
    "    updated_classifier = KNeighborsClassifier(n_neighbors=best_n_neighbors, metric= 'minkowski', p = 2)\n",
    "    updated_classifier.fit(x_train, y_train)\n",
    "\n",
    "    # call model_evaluation function to return the confusion matrix (cm) and the overall accuracy of the KNN method \n",
    "    cm, accuracy = model_evaluation(updated_classifier, x_test, y_test)\n",
    "\n",
    "    # the KNN function returns the following values \n",
    "    return accuracies_mean, accuracies_std, cm, accuracy\n",
    "\n",
    "accuracies_mean_KNN, accuracies_std_KNN, cm_KNN, accuracy_KNN = KNN()\n"
   ]
  },
  {
   "cell_type": "markdown",
   "metadata": {},
   "source": [
    "## Support Vector Regression (SVR)"
   ]
  },
  {
   "cell_type": "code",
   "execution_count": 10,
   "metadata": {},
   "outputs": [],
   "source": [
    "# define a function for a Support Vector Regression (SVR) method\n",
    "def SVR():\n",
    "    # create an SVR classifier and train it on the training set\n",
    "    # kernel: \n",
    "    from sklearn.svm import SVC \n",
    "    classifier = SVC(kernel='linear', random_state=0)\n",
    "    classifier.fit(x_train, y_train)\n",
    "    \n",
    "    # call the cross_validation function to return the mean and the standard deviation of the accuracies of all sub-sets\n",
    "    accuracies_mean, accuracies_std = cross_validation(classifier, x_train, y_train)\n",
    "\n",
    "    # define the parameters to be optimized in order to improve the accuracy of the method\n",
    "    parameters = {'kernel': ['linear','rbf']} \n",
    "\n",
    "    # call parameters_estimation function to return the best value of the parameters \n",
    "    best_param = parameters_estimation(classifier, parameters, 'accuracy', x_train, y_train)\n",
    "    best_kernel = best_param['kernel']\n",
    "\n",
    "    # update the classifier using the best parameters return from parameters_estimation function\n",
    "    updated_classifier = SVC(kernel=best_kernel, random_state=0)\n",
    "    updated_classifier.fit(x_train, y_train)\n",
    "\n",
    "    # call model_evaluation function to return the confusion matrix (cm) and the overall accuracy of the SVR method \n",
    "    cm, accuracy = model_evaluation(updated_classifier, x_test, y_test)\n",
    "\n",
    "    # the SVR function returns the following values \n",
    "    return accuracies_mean, accuracies_std, cm, accuracy\n",
    "\n",
    "accuracies_mean_SVR, accuracies_std_SVR, cm_SVR, accuracy_SVR = SVR()\n"
   ]
  },
  {
   "cell_type": "markdown",
   "metadata": {},
   "source": [
    "## Decision Tree "
   ]
  },
  {
   "cell_type": "code",
   "execution_count": null,
   "metadata": {},
   "outputs": [
    {
     "ename": "NameError",
     "evalue": "name 'x_train' is not defined",
     "output_type": "error",
     "traceback": [
      "\u001b[1;31m---------------------------------------------------------------------------\u001b[0m",
      "\u001b[1;31mNameError\u001b[0m                                 Traceback (most recent call last)",
      "Cell \u001b[1;32mIn[1], line 22\u001b[0m\n\u001b[0;32m     18\u001b[0m     cm, accuracy \u001b[38;5;241m=\u001b[39m model_evaluation(updated_classifier, x_test, y_test)\n\u001b[0;32m     20\u001b[0m     \u001b[38;5;28;01mreturn\u001b[39;00m accuracies_mean, accuracies_std, cm, accuracy\n\u001b[1;32m---> 22\u001b[0m accuracies_mean_DT, accuracies_std_DT, cm_DT, accuracy_DT \u001b[38;5;241m=\u001b[39m \u001b[43mDecision_Tree\u001b[49m\u001b[43m(\u001b[49m\u001b[43m)\u001b[49m\n",
      "Cell \u001b[1;32mIn[1], line 7\u001b[0m, in \u001b[0;36mDecision_Tree\u001b[1;34m()\u001b[0m\n\u001b[0;32m      5\u001b[0m \u001b[38;5;28;01mfrom\u001b[39;00m \u001b[38;5;21;01msklearn\u001b[39;00m\u001b[38;5;21;01m.\u001b[39;00m\u001b[38;5;21;01mtree\u001b[39;00m \u001b[38;5;28;01mimport\u001b[39;00m DecisionTreeClassifier\n\u001b[0;32m      6\u001b[0m classifier \u001b[38;5;241m=\u001b[39m DecisionTreeClassifier(criterion\u001b[38;5;241m=\u001b[39m\u001b[38;5;124m'\u001b[39m\u001b[38;5;124mentropy\u001b[39m\u001b[38;5;124m'\u001b[39m, random_state\u001b[38;5;241m=\u001b[39m\u001b[38;5;241m0\u001b[39m)\n\u001b[1;32m----> 7\u001b[0m classifier\u001b[38;5;241m.\u001b[39mfit(\u001b[43mx_train\u001b[49m, y_train)\n\u001b[0;32m      9\u001b[0m accuracies_mean, accuracies_std \u001b[38;5;241m=\u001b[39m cross_validation(classifier, x_train, y_train)\n\u001b[0;32m     11\u001b[0m parameters \u001b[38;5;241m=\u001b[39m {\u001b[38;5;124m'\u001b[39m\u001b[38;5;124mcriterion\u001b[39m\u001b[38;5;124m'\u001b[39m: [\u001b[38;5;124m'\u001b[39m\u001b[38;5;124mgini\u001b[39m\u001b[38;5;124m'\u001b[39m, \u001b[38;5;124m'\u001b[39m\u001b[38;5;124mentropy\u001b[39m\u001b[38;5;124m'\u001b[39m]}\n",
      "\u001b[1;31mNameError\u001b[0m: name 'x_train' is not defined"
     ]
    }
   ],
   "source": [
    "# define a function for a Decision Tree method\n",
    "def Decision_Tree():\n",
    "    # create a Decision Tree classifier and train it on the training set\n",
    "    # criterion: \n",
    "    # random_state: \n",
    "    from sklearn.tree import DecisionTreeClassifier\n",
    "    classifier = DecisionTreeClassifier(criterion='entropy', random_state=0)\n",
    "    classifier.fit(x_train, y_train)\n",
    "\n",
    "    # call cross_validation function to return the mean and the standard deviation of the accuracies of all sub-sets\n",
    "    accuracies_mean, accuracies_std = cross_validation(classifier, x_train, y_train)\n",
    "\n",
    "    # define the parameters to be optimized in order to improve the accuracy of the method \n",
    "    parameters = {'criterion': ['gini', 'entropy']}\n",
    "    \n",
    "    # call parameters_estimation function to return the best value of the parameters \n",
    "    best_param = parameters_estimation(classifier, parameters, 'accuracy', x_train, y_train)\n",
    "\n",
    "    # update the classifier using the best parameters return from parameters_estimation function\n",
    "    updated_classifier = DecisionTreeClassifier(criterion=best_param['criterion'], random_state=0)\n",
    "    updated_classifier.fit(x_train, y_train)\n",
    "\n",
    "    # call model_evaluation function to return the confusion matrix (cm) and the overall accuracy of the Decision Tree method \n",
    "    cm, accuracy = model_evaluation(updated_classifier, x_test, y_test)\n",
    "\n",
    "    # the Decision Tree function returns the following values \n",
    "    return accuracies_mean, accuracies_std, cm, accuracy\n",
    "\n",
    "accuracies_mean_DT, accuracies_std_DT, cm_DT, accuracy_DT = Decision_Tree()\n"
   ]
  },
  {
   "cell_type": "markdown",
   "metadata": {},
   "source": [
    "## Random Forest Model"
   ]
  },
  {
   "cell_type": "code",
   "execution_count": null,
   "metadata": {},
   "outputs": [],
   "source": [
    "# define a function for a Random Forest method\n",
    "def Random_Forest():\n",
    "    # create a Random Forest classifier and train it on the training set\n",
    "    # n_estimators\n",
    "    # criterion:\n",
    "    # random_state: \n",
    "    from sklearn.ensemble import RandomForestClassifier\n",
    "    classifier = RandomForestClassifier(n_estimators=10, criterion='entropy', random_state=0)\n",
    "    classifier.fit(x_train, y_train)\n",
    "\n",
    "    # call cross_validation function to return the mean and the standard deviation of the accuracies of all sub-sets\n",
    "    accuracies_mean, accuracies_std = cross_validation(classifier, x_train, y_train)\n",
    "    \n",
    "    # define the parameters to be optimized in order to improve the accuracy of the method.  \n",
    "    parameters = {'criterion': ['gini', 'entropy']}\n",
    "\n",
    "    # call parameters_estimation function to return the best value of the parameters \n",
    "    best_param = parameters_estimation(classifier, parameters, 'accuracy', x_train, y_train)\n",
    "\n",
    "    # update the classifier using the best parameters return from parameters_estimation function  \n",
    "    updated_classifier = RandomForestClassifier(n_estimators = 10, criterion=best_param['criterion'], random_state=0)\n",
    "    updated_classifier.fit(x_train, y_train)\n",
    "\n",
    "    # call model_evaluation function to return the confusion matrix and the overall accuracy of the Random Forest method \n",
    "    cm, accuracy = model_evaluation(updated_classifier, x_test, y_test)\n",
    "\n",
    "    # the Random Forest function returns the following values \n",
    "    return accuracies_mean, accuracies_std, cm, accuracy\n",
    "\n",
    "accuracies_mean_RF, accuracies_std_RF, cm_RF, accuracy_RF = Random_Forest()"
   ]
  },
  {
   "cell_type": "markdown",
   "metadata": {},
   "source": [
    "## XGBoost "
   ]
  },
  {
   "cell_type": "code",
   "execution_count": null,
   "metadata": {},
   "outputs": [],
   "source": [
    "# define a function for XGBoost method \n",
    "def XGBoost_method():\n",
    "\n",
    "   # create an XGBoost classifier and train it using the training set \n",
    "   from xgboost import XGBRegressor\n",
    "   classifier = XGBClassifier()\n",
    "   classifier.fit(x_train, y_train)\n",
    "\n",
    "   # call cross_validation function to return the mean and the standard deviation of the accuracies of all sub-sets\n",
    "   accuracies_mean, accuracies_std = cross_validation(classifier, x_train, y_train)\n",
    "\n",
    "   # call model_evaluation function to return the confusion matrix and the overall accuracy of the XGBoost method \n",
    "   cm, accuracy = model_evaluation(classifier, x_test, y_test)\n",
    "\n",
    "   # the XGBoost function returns the following values \n",
    "   return accuracies_mean, accuracies_std, cm, accuracy\n",
    "\n",
    "accuracies_mean_XG, accuracies_std_XG, cm_XG, accuracy_XG = XGBoost_method()"
   ]
  },
  {
   "cell_type": "markdown",
   "metadata": {},
   "source": [
    "# Models Ranking and Selection"
   ]
  },
  {
   "cell_type": "code",
   "execution_count": null,
   "metadata": {},
   "outputs": [],
   "source": [
    "# to select the best model, the model functions are called to return the performance measures that are used to rank all the models from the most accurate to the least accurate.\n",
    "# the measures are: the average mean of the cross validation accuracy, the standard deviation of the cross validation accuracy, the confusion materix and the overall accuracy\n",
    "accuracies_mean_LR, accuracies_std_LR, cm_LR, accuracy_LR = Logistic_Regression() \n",
    "accuracies_mean_KNN, accuracies_std_KNN, cm_KNN, accuracy_KNN = KNN()\n",
    "accuracies_mean_SVR, accuracies_std_SVR, cm_SVR, accuracy_SVR = SVR()\n",
    "accuracies_mean_DT, accuracies_std_DT, cm_DT, accuracy_DT = Decision_Tree()\n",
    "accuracies_mean_RF, accuracies_std_RF, cm_RF, accuracy_RF = Random_Forest()\n",
    "ccuracies_mean_XG, accuracies_std_XG, cm_XG, accuracy_XG = XGBoost_method()\n",
    "\n",
    "# after running all the models, the performance measures are stored in dictonaries in order to be ranked    \n",
    "accuracies_mean_dict = {'LR': accuracies_mean_LR, 'KNN': accuracies_mean_KNN, 'SVR': accuracies_mean_SVR, 'DT': accuracies_mean_DT, 'RF': accuracies_mean_RF, 'XG': accuracies_mean_XG}\n",
    "accuracies_std_dict = {'LR': accuracies_std_LR, 'KNN': accuracies_std_KNN, 'SVR': accuracies_std_SVR, 'DT': accuracies_std_DT, 'RF': accuracies_std_RF, 'XG': accuracies_std_XG}\n",
    "cm_dict = {'LR': cm_LR, 'KNN': cm_KNN, 'SVR': cm_SVR, 'DT': cm_DT, 'RF': cm_RF, 'XG': cm_XG}\n",
    "accuracy_dict = {'LR': accuracy_LR, 'KNN': accuracy_KNN, 'SVR': accuracy_SVR, 'DT': accuracy_DT, 'RF': accuracy_RF, 'XG': accuracy_XG}\n",
    "\n",
    "# the dictories are ranked from the highest to the lowest. \n",
    "accuracies_mean_dict.sort(reverse=True)\n",
    "accuracies_std_dict.sort(reverse=True)\n",
    "cm_dict.sort(reverse=True)\n",
    "accuracy_dict.sort(reverse=True)\n",
    "\n",
    "# the first model in each dictonary is the best one \n",
    "print(\"Sorted cross-validation mean accuracies are:\", accuracies_mean_dict)\n",
    "print(\"Sorted standard deviation of the cross-validation accuracies are:\", accuracies_std_dict)\n",
    "print(\"Sorted Confusion Matrix are:\", cm_dict)\n",
    "print(\"Sorted overall accuracy are:\", accuracy_dict)"
   ]
  }
 ],
 "metadata": {
  "kernelspec": {
   "display_name": "Python 3",
   "language": "python",
   "name": "python3"
  },
  "language_info": {
   "codemirror_mode": {
    "name": "ipython",
    "version": 3
   },
   "file_extension": ".py",
   "mimetype": "text/x-python",
   "name": "python",
   "nbconvert_exporter": "python",
   "pygments_lexer": "ipython3",
   "version": "3.11.5"
  }
 },
 "nbformat": 4,
 "nbformat_minor": 2
}
