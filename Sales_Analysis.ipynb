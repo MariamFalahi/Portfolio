{
 "cells": [
  {
   "cell_type": "markdown",
   "metadata": {},
   "source": [
    "# Libraries "
   ]
  },
  {
   "cell_type": "code",
   "execution_count": 90,
   "metadata": {},
   "outputs": [],
   "source": [
    "import pandas as pd \n",
    "from itertools import combinations\n",
    "from collections import Counter "
   ]
  },
  {
   "cell_type": "markdown",
   "metadata": {},
   "source": [
    "# Read data file "
   ]
  },
  {
   "cell_type": "code",
   "execution_count": 91,
   "metadata": {},
   "outputs": [
    {
     "name": "stderr",
     "output_type": "stream",
     "text": [
      "C:\\Users\\Maryam\\AppData\\Local\\Temp\\ipykernel_23268\\2270299057.py:2: DtypeWarning: Columns (0) have mixed types. Specify dtype option on import or set low_memory=False.\n",
      "  df = pd.read_csv(file_name, encoding='latin-1')\n"
     ]
    }
   ],
   "source": [
    "file_name = r'C:\\Users\\Maryam\\Desktop\\Job applications\\Portfolio\\DataSets\\ecommerce.csv'\n",
    "df = pd.read_csv(file_name, encoding='latin-1')"
   ]
  },
  {
   "cell_type": "markdown",
   "metadata": {},
   "source": [
    "# Data Exploration and Preprocessing"
   ]
  },
  {
   "cell_type": "markdown",
   "metadata": {},
   "source": [
    "## Cloumns list "
   ]
  },
  {
   "cell_type": "code",
   "execution_count": 92,
   "metadata": {},
   "outputs": [
    {
     "data": {
      "text/plain": [
       "Index(['InvoiceNo', 'StockCode', 'Description', 'Quantity', 'InvoiceDate',\n",
       "       'UnitPrice', 'CustomerID', 'Country'],\n",
       "      dtype='object')"
      ]
     },
     "execution_count": 92,
     "metadata": {},
     "output_type": "execute_result"
    }
   ],
   "source": [
    "df.columns"
   ]
  },
  {
   "cell_type": "markdown",
   "metadata": {},
   "source": [
    "## Column data type "
   ]
  },
  {
   "cell_type": "code",
   "execution_count": 93,
   "metadata": {},
   "outputs": [
    {
     "name": "stdout",
     "output_type": "stream",
     "text": [
      "Data type of column 'InvoiceNo: object\n",
      "Data type of column 'StockCode: object\n",
      "Data type of column 'Description: object\n",
      "Data type of column 'Quantity: int64\n",
      "Data type of column 'InvoiceDate: object\n",
      "Data type of column 'UnitPrice: float64\n",
      "Data type of column 'CustomerID: float64\n",
      "Data type of column 'Country: object\n"
     ]
    }
   ],
   "source": [
    "columns_title = ['InvoiceNo', 'StockCode', 'Description', 'Quantity', 'InvoiceDate',\n",
    "       'UnitPrice', 'CustomerID', 'Country']\n",
    "      \n",
    "for column in columns_title:\n",
    "    column_type = df[column].dtype\n",
    "    print(f\"Data type of column '{column}: {column_type}\")"
   ]
  },
  {
   "cell_type": "markdown",
   "metadata": {},
   "source": [
    "## Number of rows and columns"
   ]
  },
  {
   "cell_type": "code",
   "execution_count": 94,
   "metadata": {},
   "outputs": [
    {
     "data": {
      "text/plain": [
       "(541909, 8)"
      ]
     },
     "execution_count": 94,
     "metadata": {},
     "output_type": "execute_result"
    }
   ],
   "source": [
    "df.shape "
   ]
  },
  {
   "cell_type": "markdown",
   "metadata": {},
   "source": [
    "## Find missing data in selected columns "
   ]
  },
  {
   "cell_type": "code",
   "execution_count": 95,
   "metadata": {},
   "outputs": [
    {
     "name": "stdout",
     "output_type": "stream",
     "text": [
      "Number of missing values in 'customerID' column:135080\n",
      "Number of missing values in 'InvoiceNo' column:0\n"
     ]
    }
   ],
   "source": [
    "missing_customers = df['CustomerID'].isnull().sum()\n",
    "missing_invoice = df['InvoiceNo'].isnull().sum()\n",
    "print(f\"Number of missing values in 'customerID' column:{missing_customers}\")\n",
    "print(f\"Number of missing values in 'InvoiceNo' column:{missing_invoice}\")"
   ]
  },
  {
   "cell_type": "markdown",
   "metadata": {},
   "source": [
    "## Remove the letter C from InvoiceNo column "
   ]
  },
  {
   "cell_type": "code",
   "execution_count": 96,
   "metadata": {},
   "outputs": [],
   "source": [
    "df['InvoiceNo'] = df['InvoiceNo'].str.lstrip('C')"
   ]
  },
  {
   "cell_type": "markdown",
   "metadata": {},
   "source": [
    "## Show the top 5 rows of the dataframe"
   ]
  },
  {
   "cell_type": "code",
   "execution_count": 97,
   "metadata": {},
   "outputs": [
    {
     "data": {
      "text/html": [
       "<div>\n",
       "<style scoped>\n",
       "    .dataframe tbody tr th:only-of-type {\n",
       "        vertical-align: middle;\n",
       "    }\n",
       "\n",
       "    .dataframe tbody tr th {\n",
       "        vertical-align: top;\n",
       "    }\n",
       "\n",
       "    .dataframe thead th {\n",
       "        text-align: right;\n",
       "    }\n",
       "</style>\n",
       "<table border=\"1\" class=\"dataframe\">\n",
       "  <thead>\n",
       "    <tr style=\"text-align: right;\">\n",
       "      <th></th>\n",
       "      <th>InvoiceNo</th>\n",
       "      <th>StockCode</th>\n",
       "      <th>Description</th>\n",
       "      <th>Quantity</th>\n",
       "      <th>InvoiceDate</th>\n",
       "      <th>UnitPrice</th>\n",
       "      <th>CustomerID</th>\n",
       "      <th>Country</th>\n",
       "    </tr>\n",
       "  </thead>\n",
       "  <tbody>\n",
       "    <tr>\n",
       "      <th>0</th>\n",
       "      <td>581484</td>\n",
       "      <td>23843</td>\n",
       "      <td>PAPER CRAFT , LITTLE BIRDIE</td>\n",
       "      <td>-80995</td>\n",
       "      <td>12/09/2011 09:27</td>\n",
       "      <td>2.08</td>\n",
       "      <td>16446.0</td>\n",
       "      <td>United Kingdom</td>\n",
       "    </tr>\n",
       "    <tr>\n",
       "      <th>1</th>\n",
       "      <td>541433</td>\n",
       "      <td>23166</td>\n",
       "      <td>MEDIUM CERAMIC TOP STORAGE JAR</td>\n",
       "      <td>-74215</td>\n",
       "      <td>1/18/2011 10:17</td>\n",
       "      <td>1.04</td>\n",
       "      <td>12346.0</td>\n",
       "      <td>United Kingdom</td>\n",
       "    </tr>\n",
       "    <tr>\n",
       "      <th>2</th>\n",
       "      <td>556690</td>\n",
       "      <td>23005</td>\n",
       "      <td>printing smudges/thrown away</td>\n",
       "      <td>-9600</td>\n",
       "      <td>6/14/2011 10:37</td>\n",
       "      <td>0.00</td>\n",
       "      <td>NaN</td>\n",
       "      <td>United Kingdom</td>\n",
       "    </tr>\n",
       "    <tr>\n",
       "      <th>3</th>\n",
       "      <td>556691</td>\n",
       "      <td>23005</td>\n",
       "      <td>printing smudges/thrown away</td>\n",
       "      <td>-9600</td>\n",
       "      <td>6/14/2011 10:37</td>\n",
       "      <td>0.00</td>\n",
       "      <td>NaN</td>\n",
       "      <td>United Kingdom</td>\n",
       "    </tr>\n",
       "    <tr>\n",
       "      <th>4</th>\n",
       "      <td>536757</td>\n",
       "      <td>84347</td>\n",
       "      <td>ROTATING SILVER ANGELS T-LIGHT HLDR</td>\n",
       "      <td>-9360</td>\n",
       "      <td>12/02/2010 14:23</td>\n",
       "      <td>0.03</td>\n",
       "      <td>15838.0</td>\n",
       "      <td>United Kingdom</td>\n",
       "    </tr>\n",
       "  </tbody>\n",
       "</table>\n",
       "</div>"
      ],
      "text/plain": [
       "  InvoiceNo StockCode                          Description  Quantity  \\\n",
       "0    581484     23843          PAPER CRAFT , LITTLE BIRDIE    -80995   \n",
       "1    541433     23166       MEDIUM CERAMIC TOP STORAGE JAR    -74215   \n",
       "2    556690     23005         printing smudges/thrown away     -9600   \n",
       "3    556691     23005         printing smudges/thrown away     -9600   \n",
       "4    536757     84347  ROTATING SILVER ANGELS T-LIGHT HLDR     -9360   \n",
       "\n",
       "        InvoiceDate  UnitPrice  CustomerID         Country  \n",
       "0  12/09/2011 09:27       2.08     16446.0  United Kingdom  \n",
       "1   1/18/2011 10:17       1.04     12346.0  United Kingdom  \n",
       "2   6/14/2011 10:37       0.00         NaN  United Kingdom  \n",
       "3   6/14/2011 10:37       0.00         NaN  United Kingdom  \n",
       "4  12/02/2010 14:23       0.03     15838.0  United Kingdom  "
      ]
     },
     "execution_count": 97,
     "metadata": {},
     "output_type": "execute_result"
    }
   ],
   "source": [
    "df.head()"
   ]
  },
  {
   "cell_type": "markdown",
   "metadata": {},
   "source": [
    "## Show the button 5 rows of the dataframe"
   ]
  },
  {
   "cell_type": "code",
   "execution_count": 98,
   "metadata": {},
   "outputs": [
    {
     "data": {
      "text/html": [
       "<div>\n",
       "<style scoped>\n",
       "    .dataframe tbody tr th:only-of-type {\n",
       "        vertical-align: middle;\n",
       "    }\n",
       "\n",
       "    .dataframe tbody tr th {\n",
       "        vertical-align: top;\n",
       "    }\n",
       "\n",
       "    .dataframe thead th {\n",
       "        text-align: right;\n",
       "    }\n",
       "</style>\n",
       "<table border=\"1\" class=\"dataframe\">\n",
       "  <thead>\n",
       "    <tr style=\"text-align: right;\">\n",
       "      <th></th>\n",
       "      <th>InvoiceNo</th>\n",
       "      <th>StockCode</th>\n",
       "      <th>Description</th>\n",
       "      <th>Quantity</th>\n",
       "      <th>InvoiceDate</th>\n",
       "      <th>UnitPrice</th>\n",
       "      <th>CustomerID</th>\n",
       "      <th>Country</th>\n",
       "    </tr>\n",
       "  </thead>\n",
       "  <tbody>\n",
       "    <tr>\n",
       "      <th>541904</th>\n",
       "      <td>NaN</td>\n",
       "      <td>84077</td>\n",
       "      <td>WORLD WAR 2 GLIDERS ASSTD DESIGNS</td>\n",
       "      <td>4800</td>\n",
       "      <td>10/27/2011 12:26</td>\n",
       "      <td>0.21</td>\n",
       "      <td>12901.0</td>\n",
       "      <td>United Kingdom</td>\n",
       "    </tr>\n",
       "    <tr>\n",
       "      <th>541905</th>\n",
       "      <td>NaN</td>\n",
       "      <td>37413</td>\n",
       "      <td>NaN</td>\n",
       "      <td>5568</td>\n",
       "      <td>1/28/2011 12:03</td>\n",
       "      <td>0.00</td>\n",
       "      <td>NaN</td>\n",
       "      <td>United Kingdom</td>\n",
       "    </tr>\n",
       "    <tr>\n",
       "      <th>541906</th>\n",
       "      <td>NaN</td>\n",
       "      <td>84826</td>\n",
       "      <td>ASSTD DESIGN 3D PAPER STICKERS</td>\n",
       "      <td>12540</td>\n",
       "      <td>11/25/2011 15:57</td>\n",
       "      <td>0.00</td>\n",
       "      <td>13256.0</td>\n",
       "      <td>United Kingdom</td>\n",
       "    </tr>\n",
       "    <tr>\n",
       "      <th>541907</th>\n",
       "      <td>NaN</td>\n",
       "      <td>23166</td>\n",
       "      <td>MEDIUM CERAMIC TOP STORAGE JAR</td>\n",
       "      <td>74215</td>\n",
       "      <td>1/18/2011 10:01</td>\n",
       "      <td>1.04</td>\n",
       "      <td>12346.0</td>\n",
       "      <td>United Kingdom</td>\n",
       "    </tr>\n",
       "    <tr>\n",
       "      <th>541908</th>\n",
       "      <td>NaN</td>\n",
       "      <td>23843</td>\n",
       "      <td>PAPER CRAFT , LITTLE BIRDIE</td>\n",
       "      <td>80995</td>\n",
       "      <td>12/09/2011 09:15</td>\n",
       "      <td>2.08</td>\n",
       "      <td>16446.0</td>\n",
       "      <td>United Kingdom</td>\n",
       "    </tr>\n",
       "  </tbody>\n",
       "</table>\n",
       "</div>"
      ],
      "text/plain": [
       "       InvoiceNo StockCode                        Description  Quantity  \\\n",
       "541904       NaN     84077  WORLD WAR 2 GLIDERS ASSTD DESIGNS      4800   \n",
       "541905       NaN     37413                                NaN      5568   \n",
       "541906       NaN     84826     ASSTD DESIGN 3D PAPER STICKERS     12540   \n",
       "541907       NaN     23166     MEDIUM CERAMIC TOP STORAGE JAR     74215   \n",
       "541908       NaN     23843        PAPER CRAFT , LITTLE BIRDIE     80995   \n",
       "\n",
       "             InvoiceDate  UnitPrice  CustomerID         Country  \n",
       "541904  10/27/2011 12:26       0.21     12901.0  United Kingdom  \n",
       "541905   1/28/2011 12:03       0.00         NaN  United Kingdom  \n",
       "541906  11/25/2011 15:57       0.00     13256.0  United Kingdom  \n",
       "541907   1/18/2011 10:01       1.04     12346.0  United Kingdom  \n",
       "541908  12/09/2011 09:15       2.08     16446.0  United Kingdom  "
      ]
     },
     "execution_count": 98,
     "metadata": {},
     "output_type": "execute_result"
    }
   ],
   "source": [
    "df.tail()"
   ]
  },
  {
   "cell_type": "markdown",
   "metadata": {},
   "source": [
    "## Extract the numerical values from Invoice No column"
   ]
  },
  {
   "cell_type": "code",
   "execution_count": 99,
   "metadata": {},
   "outputs": [
    {
     "name": "stdout",
     "output_type": "stream",
     "text": [
      "  InvoiceNo InvoiceNo_numeric\n",
      "0    581484            581484\n",
      "1    541433            541433\n",
      "2    556690            556690\n",
      "3    556691            556691\n",
      "4    536757            536757\n",
      "5    556687            556687\n",
      "6    546152            546152\n",
      "7    573596            573596\n",
      "8    566768            566768\n",
      "9    565304            565304\n"
     ]
    }
   ],
   "source": [
    "# Split the 'InvoiceNo' column and extract numeric values only\n",
    "df['InvoiceNo_numeric'] = df['InvoiceNo'].str.extract('(\\d+)')\n",
    "\n",
    "# Check the first few rows to verify the changes\n",
    "print(df[['InvoiceNo', 'InvoiceNo_numeric']].head(10))\n"
   ]
  },
  {
   "cell_type": "markdown",
   "metadata": {},
   "source": [
    "## Show the list of columns including the additional one "
   ]
  },
  {
   "cell_type": "code",
   "execution_count": 100,
   "metadata": {},
   "outputs": [
    {
     "data": {
      "text/plain": [
       "Index(['InvoiceNo', 'StockCode', 'Description', 'Quantity', 'InvoiceDate',\n",
       "       'UnitPrice', 'CustomerID', 'Country', 'InvoiceNo_numeric'],\n",
       "      dtype='object')"
      ]
     },
     "execution_count": 100,
     "metadata": {},
     "output_type": "execute_result"
    }
   ],
   "source": [
    "df.columns"
   ]
  },
  {
   "cell_type": "markdown",
   "metadata": {},
   "source": [
    "## Show dataframe information "
   ]
  },
  {
   "cell_type": "code",
   "execution_count": 101,
   "metadata": {},
   "outputs": [
    {
     "name": "stdout",
     "output_type": "stream",
     "text": [
      "<class 'pandas.core.frame.DataFrame'>\n",
      "RangeIndex: 541909 entries, 0 to 541908\n",
      "Data columns (total 9 columns):\n",
      " #   Column             Non-Null Count   Dtype  \n",
      "---  ------             --------------   -----  \n",
      " 0   InvoiceNo          131072 non-null  object \n",
      " 1   StockCode          541909 non-null  object \n",
      " 2   Description        540455 non-null  object \n",
      " 3   Quantity           541909 non-null  int64  \n",
      " 4   InvoiceDate        541909 non-null  object \n",
      " 5   UnitPrice          541909 non-null  float64\n",
      " 6   CustomerID         406829 non-null  float64\n",
      " 7   Country            541909 non-null  object \n",
      " 8   InvoiceNo_numeric  131072 non-null  object \n",
      "dtypes: float64(2), int64(1), object(6)\n",
      "memory usage: 37.2+ MB\n"
     ]
    }
   ],
   "source": [
    "df.info()"
   ]
  },
  {
   "cell_type": "markdown",
   "metadata": {},
   "source": [
    "## Show the updated structure of the dataframe"
   ]
  },
  {
   "cell_type": "code",
   "execution_count": 102,
   "metadata": {},
   "outputs": [
    {
     "data": {
      "text/plain": [
       "(541909, 9)"
      ]
     },
     "execution_count": 102,
     "metadata": {},
     "output_type": "execute_result"
    }
   ],
   "source": [
    "df.shape"
   ]
  },
  {
   "cell_type": "markdown",
   "metadata": {},
   "source": [
    "## Show statistical quanitities of the numerical columns (horizontal view)"
   ]
  },
  {
   "cell_type": "code",
   "execution_count": 103,
   "metadata": {},
   "outputs": [
    {
     "data": {
      "text/html": [
       "<div>\n",
       "<style scoped>\n",
       "    .dataframe tbody tr th:only-of-type {\n",
       "        vertical-align: middle;\n",
       "    }\n",
       "\n",
       "    .dataframe tbody tr th {\n",
       "        vertical-align: top;\n",
       "    }\n",
       "\n",
       "    .dataframe thead th {\n",
       "        text-align: right;\n",
       "    }\n",
       "</style>\n",
       "<table border=\"1\" class=\"dataframe\">\n",
       "  <thead>\n",
       "    <tr style=\"text-align: right;\">\n",
       "      <th></th>\n",
       "      <th>count</th>\n",
       "      <th>mean</th>\n",
       "      <th>std</th>\n",
       "      <th>min</th>\n",
       "      <th>25%</th>\n",
       "      <th>50%</th>\n",
       "      <th>75%</th>\n",
       "      <th>max</th>\n",
       "    </tr>\n",
       "  </thead>\n",
       "  <tbody>\n",
       "    <tr>\n",
       "      <th>Quantity</th>\n",
       "      <td>541909.0</td>\n",
       "      <td>9.552250</td>\n",
       "      <td>218.081158</td>\n",
       "      <td>-80995.00</td>\n",
       "      <td>1.00</td>\n",
       "      <td>3.00</td>\n",
       "      <td>10.00</td>\n",
       "      <td>80995.0</td>\n",
       "    </tr>\n",
       "    <tr>\n",
       "      <th>UnitPrice</th>\n",
       "      <td>541909.0</td>\n",
       "      <td>4.611114</td>\n",
       "      <td>96.759853</td>\n",
       "      <td>-11062.06</td>\n",
       "      <td>1.25</td>\n",
       "      <td>2.08</td>\n",
       "      <td>4.13</td>\n",
       "      <td>38970.0</td>\n",
       "    </tr>\n",
       "    <tr>\n",
       "      <th>CustomerID</th>\n",
       "      <td>406829.0</td>\n",
       "      <td>15287.690570</td>\n",
       "      <td>1713.600303</td>\n",
       "      <td>12346.00</td>\n",
       "      <td>13953.00</td>\n",
       "      <td>15152.00</td>\n",
       "      <td>16791.00</td>\n",
       "      <td>18287.0</td>\n",
       "    </tr>\n",
       "  </tbody>\n",
       "</table>\n",
       "</div>"
      ],
      "text/plain": [
       "               count          mean          std       min       25%       50%  \\\n",
       "Quantity    541909.0      9.552250   218.081158 -80995.00      1.00      3.00   \n",
       "UnitPrice   541909.0      4.611114    96.759853 -11062.06      1.25      2.08   \n",
       "CustomerID  406829.0  15287.690570  1713.600303  12346.00  13953.00  15152.00   \n",
       "\n",
       "                 75%      max  \n",
       "Quantity       10.00  80995.0  \n",
       "UnitPrice       4.13  38970.0  \n",
       "CustomerID  16791.00  18287.0  "
      ]
     },
     "execution_count": 103,
     "metadata": {},
     "output_type": "execute_result"
    }
   ],
   "source": [
    "df.describe().T"
   ]
  },
  {
   "cell_type": "markdown",
   "metadata": {},
   "source": [
    "## Show statistical quanitities of the numerical columns (verical view)"
   ]
  },
  {
   "cell_type": "code",
   "execution_count": 104,
   "metadata": {},
   "outputs": [
    {
     "data": {
      "text/html": [
       "<div>\n",
       "<style scoped>\n",
       "    .dataframe tbody tr th:only-of-type {\n",
       "        vertical-align: middle;\n",
       "    }\n",
       "\n",
       "    .dataframe tbody tr th {\n",
       "        vertical-align: top;\n",
       "    }\n",
       "\n",
       "    .dataframe thead th {\n",
       "        text-align: right;\n",
       "    }\n",
       "</style>\n",
       "<table border=\"1\" class=\"dataframe\">\n",
       "  <thead>\n",
       "    <tr style=\"text-align: right;\">\n",
       "      <th></th>\n",
       "      <th>Quantity</th>\n",
       "      <th>UnitPrice</th>\n",
       "      <th>CustomerID</th>\n",
       "    </tr>\n",
       "  </thead>\n",
       "  <tbody>\n",
       "    <tr>\n",
       "      <th>count</th>\n",
       "      <td>541909.000000</td>\n",
       "      <td>541909.000000</td>\n",
       "      <td>406829.000000</td>\n",
       "    </tr>\n",
       "    <tr>\n",
       "      <th>mean</th>\n",
       "      <td>9.552250</td>\n",
       "      <td>4.611114</td>\n",
       "      <td>15287.690570</td>\n",
       "    </tr>\n",
       "    <tr>\n",
       "      <th>std</th>\n",
       "      <td>218.081158</td>\n",
       "      <td>96.759853</td>\n",
       "      <td>1713.600303</td>\n",
       "    </tr>\n",
       "    <tr>\n",
       "      <th>min</th>\n",
       "      <td>-80995.000000</td>\n",
       "      <td>-11062.060000</td>\n",
       "      <td>12346.000000</td>\n",
       "    </tr>\n",
       "    <tr>\n",
       "      <th>25%</th>\n",
       "      <td>1.000000</td>\n",
       "      <td>1.250000</td>\n",
       "      <td>13953.000000</td>\n",
       "    </tr>\n",
       "    <tr>\n",
       "      <th>50%</th>\n",
       "      <td>3.000000</td>\n",
       "      <td>2.080000</td>\n",
       "      <td>15152.000000</td>\n",
       "    </tr>\n",
       "    <tr>\n",
       "      <th>75%</th>\n",
       "      <td>10.000000</td>\n",
       "      <td>4.130000</td>\n",
       "      <td>16791.000000</td>\n",
       "    </tr>\n",
       "    <tr>\n",
       "      <th>max</th>\n",
       "      <td>80995.000000</td>\n",
       "      <td>38970.000000</td>\n",
       "      <td>18287.000000</td>\n",
       "    </tr>\n",
       "  </tbody>\n",
       "</table>\n",
       "</div>"
      ],
      "text/plain": [
       "            Quantity      UnitPrice     CustomerID\n",
       "count  541909.000000  541909.000000  406829.000000\n",
       "mean        9.552250       4.611114   15287.690570\n",
       "std       218.081158      96.759853    1713.600303\n",
       "min    -80995.000000  -11062.060000   12346.000000\n",
       "25%         1.000000       1.250000   13953.000000\n",
       "50%         3.000000       2.080000   15152.000000\n",
       "75%        10.000000       4.130000   16791.000000\n",
       "max     80995.000000   38970.000000   18287.000000"
      ]
     },
     "execution_count": 104,
     "metadata": {},
     "output_type": "execute_result"
    }
   ],
   "source": [
    "df.describe()"
   ]
  },
  {
   "cell_type": "markdown",
   "metadata": {},
   "source": [
    "## Show the number of missing values in each column "
   ]
  },
  {
   "cell_type": "code",
   "execution_count": 105,
   "metadata": {},
   "outputs": [
    {
     "data": {
      "text/plain": [
       "InvoiceNo            410837\n",
       "StockCode                 0\n",
       "Description            1454\n",
       "Quantity                  0\n",
       "InvoiceDate               0\n",
       "UnitPrice                 0\n",
       "CustomerID           135080\n",
       "Country                   0\n",
       "InvoiceNo_numeric    410837\n",
       "dtype: int64"
      ]
     },
     "execution_count": 105,
     "metadata": {},
     "output_type": "execute_result"
    }
   ],
   "source": [
    "df.isnull().sum()"
   ]
  },
  {
   "cell_type": "markdown",
   "metadata": {},
   "source": [
    "## Fill in the missing cells with zero"
   ]
  },
  {
   "cell_type": "code",
   "execution_count": 106,
   "metadata": {},
   "outputs": [],
   "source": [
    "df.fillna(0, inplace=True)"
   ]
  },
  {
   "cell_type": "markdown",
   "metadata": {},
   "source": [
    "## Check the missing values again "
   ]
  },
  {
   "cell_type": "code",
   "execution_count": 107,
   "metadata": {},
   "outputs": [
    {
     "data": {
      "text/plain": [
       "InvoiceNo            0\n",
       "StockCode            0\n",
       "Description          0\n",
       "Quantity             0\n",
       "InvoiceDate          0\n",
       "UnitPrice            0\n",
       "CustomerID           0\n",
       "Country              0\n",
       "InvoiceNo_numeric    0\n",
       "dtype: int64"
      ]
     },
     "execution_count": 107,
     "metadata": {},
     "output_type": "execute_result"
    }
   ],
   "source": [
    "df.isnull().sum()"
   ]
  },
  {
   "cell_type": "markdown",
   "metadata": {},
   "source": [
    "## Find the number of unique values in each column "
   ]
  },
  {
   "cell_type": "code",
   "execution_count": 108,
   "metadata": {},
   "outputs": [
    {
     "data": {
      "text/plain": [
       "InvoiceNo            13840\n",
       "StockCode             4070\n",
       "Description           4224\n",
       "Quantity               722\n",
       "InvoiceDate          23260\n",
       "UnitPrice             1630\n",
       "CustomerID            4373\n",
       "Country                 38\n",
       "InvoiceNo_numeric    13840\n",
       "dtype: int64"
      ]
     },
     "execution_count": 108,
     "metadata": {},
     "output_type": "execute_result"
    }
   ],
   "source": [
    "df.nunique()"
   ]
  },
  {
   "cell_type": "markdown",
   "metadata": {},
   "source": [
    "## Change the type of InvoiceNo_numeric from object to float "
   ]
  },
  {
   "cell_type": "code",
   "execution_count": 109,
   "metadata": {},
   "outputs": [],
   "source": [
    "df['InvoiceNo_numeric'] = df['InvoiceNo_numeric'].astype(float)"
   ]
  },
  {
   "cell_type": "markdown",
   "metadata": {},
   "source": [
    "## Create a filtered dataframe that exculdes the rows with unavailable data (zero values)"
   ]
  },
  {
   "cell_type": "code",
   "execution_count": 110,
   "metadata": {},
   "outputs": [],
   "source": [
    "filtered_df = df[(df['Quantity'] > 0) & (df['UnitPrice'] > 0) & (df['CustomerID'] > 0) & (df['InvoiceNo_numeric'] > 0)]\n"
   ]
  },
  {
   "cell_type": "markdown",
   "metadata": {},
   "source": [
    "## Show the strcture of the new dataframe "
   ]
  },
  {
   "cell_type": "code",
   "execution_count": 111,
   "metadata": {},
   "outputs": [
    {
     "data": {
      "text/plain": [
       "(74073, 9)"
      ]
     },
     "execution_count": 111,
     "metadata": {},
     "output_type": "execute_result"
    }
   ],
   "source": [
    "filtered_df.shape \n"
   ]
  },
  {
   "cell_type": "code",
   "execution_count": 112,
   "metadata": {},
   "outputs": [
    {
     "name": "stdout",
     "output_type": "stream",
     "text": [
      "By filtering the dataframe, 467836 entries have been eliminated\n"
     ]
    }
   ],
   "source": [
    "Deleted_rows = 541909 - 74073\n",
    "print(f'By filtering the dataframe, {Deleted_rows} entries have been eliminated')"
   ]
  },
  {
   "cell_type": "markdown",
   "metadata": {},
   "source": [
    "## Delete duplicated rows"
   ]
  },
  {
   "cell_type": "code",
   "execution_count": 113,
   "metadata": {},
   "outputs": [
    {
     "data": {
      "text/html": [
       "<div>\n",
       "<style scoped>\n",
       "    .dataframe tbody tr th:only-of-type {\n",
       "        vertical-align: middle;\n",
       "    }\n",
       "\n",
       "    .dataframe tbody tr th {\n",
       "        vertical-align: top;\n",
       "    }\n",
       "\n",
       "    .dataframe thead th {\n",
       "        text-align: right;\n",
       "    }\n",
       "</style>\n",
       "<table border=\"1\" class=\"dataframe\">\n",
       "  <thead>\n",
       "    <tr style=\"text-align: right;\">\n",
       "      <th></th>\n",
       "      <th>InvoiceNo</th>\n",
       "      <th>StockCode</th>\n",
       "      <th>Description</th>\n",
       "      <th>Quantity</th>\n",
       "      <th>InvoiceDate</th>\n",
       "      <th>UnitPrice</th>\n",
       "      <th>CustomerID</th>\n",
       "      <th>Country</th>\n",
       "      <th>InvoiceNo_numeric</th>\n",
       "    </tr>\n",
       "  </thead>\n",
       "  <tbody>\n",
       "    <tr>\n",
       "      <th>11028</th>\n",
       "      <td>550193</td>\n",
       "      <td>PADS</td>\n",
       "      <td>PADS TO MATCH ALL CUSHIONS</td>\n",
       "      <td>1</td>\n",
       "      <td>4/15/2011 9:27</td>\n",
       "      <td>0.001</td>\n",
       "      <td>13952.0</td>\n",
       "      <td>United Kingdom</td>\n",
       "      <td>550193.0</td>\n",
       "    </tr>\n",
       "    <tr>\n",
       "      <th>11029</th>\n",
       "      <td>561226</td>\n",
       "      <td>PADS</td>\n",
       "      <td>PADS TO MATCH ALL CUSHIONS</td>\n",
       "      <td>1</td>\n",
       "      <td>7/26/2011 10:13</td>\n",
       "      <td>0.001</td>\n",
       "      <td>15618.0</td>\n",
       "      <td>United Kingdom</td>\n",
       "      <td>561226.0</td>\n",
       "    </tr>\n",
       "    <tr>\n",
       "      <th>11030</th>\n",
       "      <td>568200</td>\n",
       "      <td>PADS</td>\n",
       "      <td>PADS TO MATCH ALL CUSHIONS</td>\n",
       "      <td>1</td>\n",
       "      <td>9/25/2011 14:58</td>\n",
       "      <td>0.001</td>\n",
       "      <td>16198.0</td>\n",
       "      <td>United Kingdom</td>\n",
       "      <td>568200.0</td>\n",
       "    </tr>\n",
       "    <tr>\n",
       "      <th>11031</th>\n",
       "      <td>568375</td>\n",
       "      <td>BANK CHARGES</td>\n",
       "      <td>Bank Charges</td>\n",
       "      <td>1</td>\n",
       "      <td>9/26/2011 17:01</td>\n",
       "      <td>0.001</td>\n",
       "      <td>13405.0</td>\n",
       "      <td>United Kingdom</td>\n",
       "      <td>568375.0</td>\n",
       "    </tr>\n",
       "    <tr>\n",
       "      <th>11033</th>\n",
       "      <td>578757</td>\n",
       "      <td>16216</td>\n",
       "      <td>LETTER SHAPE PENCIL SHARPENER</td>\n",
       "      <td>1</td>\n",
       "      <td>11/25/2011 11:41</td>\n",
       "      <td>0.060</td>\n",
       "      <td>12748.0</td>\n",
       "      <td>United Kingdom</td>\n",
       "      <td>578757.0</td>\n",
       "    </tr>\n",
       "    <tr>\n",
       "      <th>...</th>\n",
       "      <td>...</td>\n",
       "      <td>...</td>\n",
       "      <td>...</td>\n",
       "      <td>...</td>\n",
       "      <td>...</td>\n",
       "      <td>...</td>\n",
       "      <td>...</td>\n",
       "      <td>...</td>\n",
       "      <td>...</td>\n",
       "    </tr>\n",
       "    <tr>\n",
       "      <th>196022</th>\n",
       "      <td>568346</td>\n",
       "      <td>23263</td>\n",
       "      <td>SET OF 3 WOODEN HEART DECORATIONS</td>\n",
       "      <td>2</td>\n",
       "      <td>9/26/2011 15:28</td>\n",
       "      <td>2.500</td>\n",
       "      <td>14096.0</td>\n",
       "      <td>United Kingdom</td>\n",
       "      <td>568346.0</td>\n",
       "    </tr>\n",
       "    <tr>\n",
       "      <th>196027</th>\n",
       "      <td>571441</td>\n",
       "      <td>23263</td>\n",
       "      <td>SET OF 3 WOODEN HEART DECORATIONS</td>\n",
       "      <td>2</td>\n",
       "      <td>10/17/2011 13:31</td>\n",
       "      <td>2.500</td>\n",
       "      <td>14096.0</td>\n",
       "      <td>United Kingdom</td>\n",
       "      <td>571441.0</td>\n",
       "    </tr>\n",
       "    <tr>\n",
       "      <th>196605</th>\n",
       "      <td>536381</td>\n",
       "      <td>47580</td>\n",
       "      <td>TEA TIME DES TEA COSY</td>\n",
       "      <td>2</td>\n",
       "      <td>12/01/2010 09:41</td>\n",
       "      <td>2.550</td>\n",
       "      <td>15311.0</td>\n",
       "      <td>United Kingdom</td>\n",
       "      <td>536381.0</td>\n",
       "    </tr>\n",
       "    <tr>\n",
       "      <th>196606</th>\n",
       "      <td>536401</td>\n",
       "      <td>21587</td>\n",
       "      <td>COSY HOUR GIANT TUBE MATCHES</td>\n",
       "      <td>2</td>\n",
       "      <td>12/01/2010 11:21</td>\n",
       "      <td>2.550</td>\n",
       "      <td>15862.0</td>\n",
       "      <td>United Kingdom</td>\n",
       "      <td>536401.0</td>\n",
       "    </tr>\n",
       "    <tr>\n",
       "      <th>196607</th>\n",
       "      <td>536520</td>\n",
       "      <td>22588</td>\n",
       "      <td>CARD HOLDER GINGHAM HEART</td>\n",
       "      <td>2</td>\n",
       "      <td>12/01/2010 12:43</td>\n",
       "      <td>2.550</td>\n",
       "      <td>14729.0</td>\n",
       "      <td>United Kingdom</td>\n",
       "      <td>536520.0</td>\n",
       "    </tr>\n",
       "  </tbody>\n",
       "</table>\n",
       "<p>71144 rows × 9 columns</p>\n",
       "</div>"
      ],
      "text/plain": [
       "       InvoiceNo     StockCode                        Description  Quantity  \\\n",
       "11028     550193          PADS         PADS TO MATCH ALL CUSHIONS         1   \n",
       "11029     561226          PADS         PADS TO MATCH ALL CUSHIONS         1   \n",
       "11030     568200          PADS         PADS TO MATCH ALL CUSHIONS         1   \n",
       "11031     568375  BANK CHARGES                       Bank Charges         1   \n",
       "11033     578757         16216      LETTER SHAPE PENCIL SHARPENER         1   \n",
       "...          ...           ...                                ...       ...   \n",
       "196022    568346         23263  SET OF 3 WOODEN HEART DECORATIONS         2   \n",
       "196027    571441         23263  SET OF 3 WOODEN HEART DECORATIONS         2   \n",
       "196605    536381         47580              TEA TIME DES TEA COSY         2   \n",
       "196606    536401         21587       COSY HOUR GIANT TUBE MATCHES         2   \n",
       "196607    536520         22588          CARD HOLDER GINGHAM HEART         2   \n",
       "\n",
       "             InvoiceDate  UnitPrice  CustomerID         Country  \\\n",
       "11028     4/15/2011 9:27      0.001     13952.0  United Kingdom   \n",
       "11029    7/26/2011 10:13      0.001     15618.0  United Kingdom   \n",
       "11030    9/25/2011 14:58      0.001     16198.0  United Kingdom   \n",
       "11031    9/26/2011 17:01      0.001     13405.0  United Kingdom   \n",
       "11033   11/25/2011 11:41      0.060     12748.0  United Kingdom   \n",
       "...                  ...        ...         ...             ...   \n",
       "196022   9/26/2011 15:28      2.500     14096.0  United Kingdom   \n",
       "196027  10/17/2011 13:31      2.500     14096.0  United Kingdom   \n",
       "196605  12/01/2010 09:41      2.550     15311.0  United Kingdom   \n",
       "196606  12/01/2010 11:21      2.550     15862.0  United Kingdom   \n",
       "196607  12/01/2010 12:43      2.550     14729.0  United Kingdom   \n",
       "\n",
       "        InvoiceNo_numeric  \n",
       "11028            550193.0  \n",
       "11029            561226.0  \n",
       "11030            568200.0  \n",
       "11031            568375.0  \n",
       "11033            578757.0  \n",
       "...                   ...  \n",
       "196022           568346.0  \n",
       "196027           571441.0  \n",
       "196605           536381.0  \n",
       "196606           536401.0  \n",
       "196607           536520.0  \n",
       "\n",
       "[71144 rows x 9 columns]"
      ]
     },
     "execution_count": 113,
     "metadata": {},
     "output_type": "execute_result"
    }
   ],
   "source": [
    "filtered_df.drop_duplicates()"
   ]
  },
  {
   "cell_type": "markdown",
   "metadata": {},
   "source": [
    "# Q1: What are the categories that have the highest income?"
   ]
  },
  {
   "cell_type": "markdown",
   "metadata": {},
   "source": [
    "## Create a new column called Total_Sales and set its value to 10 for now"
   ]
  },
  {
   "cell_type": "code",
   "execution_count": 114,
   "metadata": {},
   "outputs": [
    {
     "name": "stderr",
     "output_type": "stream",
     "text": [
      "C:\\Users\\Maryam\\AppData\\Local\\Temp\\ipykernel_23268\\4290052485.py:1: SettingWithCopyWarning: \n",
      "A value is trying to be set on a copy of a slice from a DataFrame.\n",
      "Try using .loc[row_indexer,col_indexer] = value instead\n",
      "\n",
      "See the caveats in the documentation: https://pandas.pydata.org/pandas-docs/stable/user_guide/indexing.html#returning-a-view-versus-a-copy\n",
      "  filtered_df.loc[:,'Total_Sales'] = 10\n"
     ]
    }
   ],
   "source": [
    "filtered_df.loc[:,'Total_Sales'] = 10 "
   ]
  },
  {
   "cell_type": "markdown",
   "metadata": {},
   "source": [
    "## Make sure the new column has been added to the dataframe"
   ]
  },
  {
   "cell_type": "code",
   "execution_count": 115,
   "metadata": {},
   "outputs": [
    {
     "data": {
      "text/plain": [
       "Index(['InvoiceNo', 'StockCode', 'Description', 'Quantity', 'InvoiceDate',\n",
       "       'UnitPrice', 'CustomerID', 'Country', 'InvoiceNo_numeric',\n",
       "       'Total_Sales'],\n",
       "      dtype='object')"
      ]
     },
     "execution_count": 115,
     "metadata": {},
     "output_type": "execute_result"
    }
   ],
   "source": [
    "filtered_df.columns"
   ]
  },
  {
   "cell_type": "markdown",
   "metadata": {},
   "source": [
    "## Find the value of Total Sales for each transaction "
   ]
  },
  {
   "cell_type": "code",
   "execution_count": 116,
   "metadata": {},
   "outputs": [],
   "source": [
    "filtered_df.loc[:,'Total_Sales'] = filtered_df['Quantity']*filtered_df['UnitPrice']"
   ]
  },
  {
   "cell_type": "markdown",
   "metadata": {},
   "source": [
    "## Check all the rows has a value for Total_Sales"
   ]
  },
  {
   "cell_type": "code",
   "execution_count": 117,
   "metadata": {},
   "outputs": [
    {
     "name": "stdout",
     "output_type": "stream",
     "text": [
      "0\n"
     ]
    }
   ],
   "source": [
    "print(filtered_df['Total_Sales'].isnull().sum())"
   ]
  },
  {
   "cell_type": "markdown",
   "metadata": {},
   "source": [
    "## Check the type of the Total_Sales column "
   ]
  },
  {
   "cell_type": "code",
   "execution_count": 118,
   "metadata": {},
   "outputs": [
    {
     "data": {
      "text/plain": [
       "dtype('float64')"
      ]
     },
     "execution_count": 118,
     "metadata": {},
     "output_type": "execute_result"
    }
   ],
   "source": [
    "filtered_df['Total_Sales'].dtype"
   ]
  },
  {
   "cell_type": "markdown",
   "metadata": {},
   "source": [
    "## Find the sum of sales and the number of unique categories "
   ]
  },
  {
   "cell_type": "code",
   "execution_count": 119,
   "metadata": {},
   "outputs": [
    {
     "name": "stdout",
     "output_type": "stream",
     "text": [
      "2606\n"
     ]
    }
   ],
   "source": [
    "Sales_by_category=filtered_df.groupby('Description')['Total_Sales'].sum()\n",
    "print(len(Sales_by_category))"
   ]
  },
  {
   "cell_type": "markdown",
   "metadata": {},
   "source": [
    "## Show the top 20 categories with the highest sales."
   ]
  },
  {
   "cell_type": "code",
   "execution_count": 120,
   "metadata": {},
   "outputs": [
    {
     "data": {
      "text/plain": [
       "Description\n",
       "Manual                                 49317.11\n",
       "POSTAGE                                18274.71\n",
       "DOTCOM POSTAGE                         11906.36\n",
       "CARRIAGE                                6650.00\n",
       "REGENCY CAKESTAND 3 TIER                6295.26\n",
       "LOVE SEAT ANTIQUE WHITE METAL           3735.00\n",
       "BREAD BIN DINER STYLE IVORY             3083.68\n",
       "RUSTIC  SEVENTEEN DRAWER SIDEBOARD      2805.00\n",
       "VINTAGE RED KITCHEN CABINET             2775.00\n",
       "SET/4 WHITE RETRO STORAGE CUBES         2636.70\n",
       "ENAMEL BREAD BIN CREAM                  2511.21\n",
       "WHITE WOOD GARDEN PLANT LADDER          2338.31\n",
       "VINTAGE BLUE KITCHEN CABINET            2185.00\n",
       "BREAD BIN DINER STYLE RED               2152.65\n",
       "RED RETROSPOT CAKE STAND                1838.60\n",
       "CLASSIC METAL BIRDCAGE PLANT HOLDER     1707.96\n",
       "WOODEN CROQUET GARDEN SET               1689.48\n",
       "IVORY KITCHEN SCALES                    1630.15\n",
       "SWEETHEART CAKESTAND 3 TIER             1572.10\n",
       "3 TIER CAKE TIN GREEN AND CREAM         1463.56\n",
       "Name: Total_Sales, dtype: float64"
      ]
     },
     "execution_count": 120,
     "metadata": {},
     "output_type": "execute_result"
    }
   ],
   "source": [
    "sorted_categories=Sales_by_category.sort_values(ascending=False)\n",
    "sorted_categories.head(20)"
   ]
  },
  {
   "cell_type": "code",
   "execution_count": 121,
   "metadata": {},
   "outputs": [],
   "source": [
    "## Comment: \n",
    "## this information can be used to increase the company profit. This can be achieved by focusing the marketing strategy to promot the hight-profit items. Moreover, \n",
    "## adjusting the prices of these categories during high demand sessions can contribute also to increasing profitability. More resources should also be allocated to these \n",
    "# categories in terms of shelf space, marketing budget and staff attention. Other aspects that can be enhanced based on these findings are the supplier relationships, as it is \n",
    "# crucial in ensuring the consistency of supply, and customer experience by ensuring the availability and quality of high-profit items.  "
   ]
  },
  {
   "cell_type": "markdown",
   "metadata": {},
   "source": [
    "## Show the 20 lowest income categories "
   ]
  },
  {
   "cell_type": "code",
   "execution_count": 122,
   "metadata": {},
   "outputs": [
    {
     "data": {
      "text/plain": [
       "Description\n",
       "CHINESE DRAGON PAPER LANTERNS         0.420\n",
       "FEATHER PEN,HOT PINK                  0.390\n",
       "PAPERWEIGHT SAVE THE PLANET           0.390\n",
       "PAPERWEIGHT KINGS CHOICE              0.390\n",
       "ACRYLIC JEWEL ICICLE, BLUE            0.380\n",
       "PENS ASSORTED FUNNY FACE              0.380\n",
       "PORCELAIN BUDAH INCENSE HOLDER        0.300\n",
       "LETTER \"I\" BLING KEY RING             0.290\n",
       "WORLD WAR 2 GLIDERS ASSTD DESIGNS     0.290\n",
       "LETTER \"F\" BLING KEY RING             0.290\n",
       "CINNAMON SCENTED VOTIVE CANDLE        0.290\n",
       "FOOD/DRINK SPONGE STICKERS            0.210\n",
       "GREETING CARD, STICKY GORDON          0.190\n",
       "BLACK FEATHER CHRISTMAS DECORATION    0.190\n",
       "PINK CRYSTAL SKULL PHONE CHARM        0.190\n",
       "SET/6 POSIES PAPER CUPS               0.190\n",
       "HAPPY BIRTHDAY CARD STRIPEY TEDDY     0.190\n",
       "HOUSE SHAPE PENCIL SHARPENER          0.120\n",
       "LETTER SHAPE PENCIL SHARPENER         0.060\n",
       "PADS TO MATCH ALL CUSHIONS            0.003\n",
       "Name: Total_Sales, dtype: float64"
      ]
     },
     "execution_count": 122,
     "metadata": {},
     "output_type": "execute_result"
    }
   ],
   "source": [
    "sorted_categories.tail(20)"
   ]
  },
  {
   "cell_type": "code",
   "execution_count": 123,
   "metadata": {},
   "outputs": [],
   "source": [
    "## Comment: \n",
    "## This information can be used to eliminate some products as they are not contributing significantly to the income or reduce the level of resources allocated to them\n"
   ]
  },
  {
   "cell_type": "markdown",
   "metadata": {},
   "source": [
    "# Q2: Which country generate the highest income?"
   ]
  },
  {
   "cell_type": "markdown",
   "metadata": {},
   "source": [
    "## Find the list of all countries in the dataframe "
   ]
  },
  {
   "cell_type": "code",
   "execution_count": 124,
   "metadata": {},
   "outputs": [
    {
     "name": "stdout",
     "output_type": "stream",
     "text": [
      "38\n"
     ]
    }
   ],
   "source": [
    "List_of_country = df['Country'].unique()\n",
    "print(len(List_of_country))"
   ]
  },
  {
   "cell_type": "markdown",
   "metadata": {},
   "source": [
    "## Find the total sales per country"
   ]
  },
  {
   "cell_type": "code",
   "execution_count": 125,
   "metadata": {},
   "outputs": [],
   "source": [
    "Sales_by_country=filtered_df.groupby('Country')['Total_Sales'].sum().sort_values(ascending=False)"
   ]
  },
  {
   "cell_type": "markdown",
   "metadata": {},
   "source": [
    "## Find the top 10 countries that generate the highest income"
   ]
  },
  {
   "cell_type": "code",
   "execution_count": 126,
   "metadata": {},
   "outputs": [
    {
     "data": {
      "text/plain": [
       "Country\n",
       "United Kingdom    293715.624\n",
       "France             12687.650\n",
       "Singapore          12223.900\n",
       "EIRE                9913.660\n",
       "Germany             6707.540\n",
       "Portugal            4841.030\n",
       "Spain               1876.880\n",
       "Norway              1871.200\n",
       "Cyprus              1153.240\n",
       "Italy                947.850\n",
       "Name: Total_Sales, dtype: float64"
      ]
     },
     "execution_count": 126,
     "metadata": {},
     "output_type": "execute_result"
    }
   ],
   "source": [
    "Sales_by_country.head(10)"
   ]
  },
  {
   "cell_type": "markdown",
   "metadata": {},
   "source": [
    "## Find the 10 countries that generate the lowest income"
   ]
  },
  {
   "cell_type": "code",
   "execution_count": 127,
   "metadata": {},
   "outputs": [
    {
     "data": {
      "text/plain": [
       "Country\n",
       "Israel                  214.65\n",
       "Poland                  208.70\n",
       "Denmark                  88.95\n",
       "Japan                    51.47\n",
       "European Community       40.20\n",
       "Malta                    40.00\n",
       "Czech Republic           40.00\n",
       "Greece                   39.95\n",
       "United Arab Emirates     37.50\n",
       "USA                      25.30\n",
       "Name: Total_Sales, dtype: float64"
      ]
     },
     "execution_count": 127,
     "metadata": {},
     "output_type": "execute_result"
    }
   ],
   "source": [
    "Sales_by_country.tail(10)"
   ]
  },
  {
   "cell_type": "code",
   "execution_count": 128,
   "metadata": {},
   "outputs": [],
   "source": [
    "# Comment\n",
    "# These results can be used to enhance the delivery services in the countries with the highest level of sales "
   ]
  },
  {
   "cell_type": "markdown",
   "metadata": {},
   "source": [
    "# Q3: Which customer placed the highest number of orders? who generated the highest income?"
   ]
  },
  {
   "cell_type": "code",
   "execution_count": 129,
   "metadata": {},
   "outputs": [
    {
     "name": "stdout",
     "output_type": "stream",
     "text": [
      "The customer who placed the highest number of orders is:\n",
      "CustomerID     17841.00\n",
      "NumOrder        3999.00\n",
      "Total_Sales     9824.19\n",
      "Name: 2335, dtype: float64\n",
      "The customer who generated the highest income is:\n",
      "CustomerID     14096.00\n",
      "NumOrder        1472.00\n",
      "Total_Sales    19752.57\n",
      "Name: 716, dtype: float64\n"
     ]
    }
   ],
   "source": [
    "# Create two dataframe for the number of orders and generated sales for each customer \n",
    "Orders_by_customer=filtered_df.groupby('CustomerID').size()\n",
    "Amount_by_customer = filtered_df.groupby('CustomerID')['Total_Sales'].sum()\n",
    "\n",
    "# Reset the index of the Series and converts it into a DataFrame \n",
    "Number_df = Orders_by_customer.reset_index(name='NumOrder')\n",
    "Totals_df = Amount_by_customer.reset_index(name='Total_Sales')\n",
    "\n",
    "# Merge the two dataframe in a new one called Customer \n",
    "Customers_df = pd.merge(Number_df, Totals_df, on='CustomerID', how='left')\n",
    "\n",
    "# Find the index of the customers with the higest number of orders and sales \n",
    "customer_with_most_orders = Customers_df.loc[Customers_df['NumOrder'].idxmax()]\n",
    "customer_with_higest_sales = Customers_df.loc[Customers_df['Total_Sales'].idxmax()]\n",
    "\n",
    "print('The customer who placed the highest number of orders is:')\n",
    "print(customer_with_most_orders)\n",
    "print('The customer who generated the highest income is:')\n",
    "print(customer_with_higest_sales)"
   ]
  },
  {
   "cell_type": "markdown",
   "metadata": {},
   "source": [
    "## Sort the customers according to the income they generated "
   ]
  },
  {
   "cell_type": "code",
   "execution_count": 130,
   "metadata": {},
   "outputs": [
    {
     "data": {
      "text/html": [
       "<div>\n",
       "<style scoped>\n",
       "    .dataframe tbody tr th:only-of-type {\n",
       "        vertical-align: middle;\n",
       "    }\n",
       "\n",
       "    .dataframe tbody tr th {\n",
       "        vertical-align: top;\n",
       "    }\n",
       "\n",
       "    .dataframe thead th {\n",
       "        text-align: right;\n",
       "    }\n",
       "</style>\n",
       "<table border=\"1\" class=\"dataframe\">\n",
       "  <thead>\n",
       "    <tr style=\"text-align: right;\">\n",
       "      <th></th>\n",
       "      <th>CustomerID</th>\n",
       "      <th>NumOrder</th>\n",
       "      <th>Total_Sales</th>\n",
       "    </tr>\n",
       "  </thead>\n",
       "  <tbody>\n",
       "    <tr>\n",
       "      <th>716</th>\n",
       "      <td>14096.0</td>\n",
       "      <td>1472</td>\n",
       "      <td>19752.570</td>\n",
       "    </tr>\n",
       "    <tr>\n",
       "      <th>202</th>\n",
       "      <td>12744.0</td>\n",
       "      <td>8</td>\n",
       "      <td>12223.900</td>\n",
       "    </tr>\n",
       "    <tr>\n",
       "      <th>2335</th>\n",
       "      <td>17841.0</td>\n",
       "      <td>3999</td>\n",
       "      <td>9824.190</td>\n",
       "    </tr>\n",
       "    <tr>\n",
       "      <th>1052</th>\n",
       "      <td>14911.0</td>\n",
       "      <td>164</td>\n",
       "      <td>8823.040</td>\n",
       "    </tr>\n",
       "    <tr>\n",
       "      <th>83</th>\n",
       "      <td>12536.0</td>\n",
       "      <td>6</td>\n",
       "      <td>8381.920</td>\n",
       "    </tr>\n",
       "    <tr>\n",
       "      <th>...</th>\n",
       "      <td>...</td>\n",
       "      <td>...</td>\n",
       "      <td>...</td>\n",
       "    </tr>\n",
       "    <tr>\n",
       "      <th>535</th>\n",
       "      <td>13588.0</td>\n",
       "      <td>1</td>\n",
       "      <td>0.390</td>\n",
       "    </tr>\n",
       "    <tr>\n",
       "      <th>787</th>\n",
       "      <td>14298.0</td>\n",
       "      <td>1</td>\n",
       "      <td>0.190</td>\n",
       "    </tr>\n",
       "    <tr>\n",
       "      <th>1594</th>\n",
       "      <td>16198.0</td>\n",
       "      <td>1</td>\n",
       "      <td>0.001</td>\n",
       "    </tr>\n",
       "    <tr>\n",
       "      <th>660</th>\n",
       "      <td>13952.0</td>\n",
       "      <td>1</td>\n",
       "      <td>0.001</td>\n",
       "    </tr>\n",
       "    <tr>\n",
       "      <th>1354</th>\n",
       "      <td>15618.0</td>\n",
       "      <td>1</td>\n",
       "      <td>0.001</td>\n",
       "    </tr>\n",
       "  </tbody>\n",
       "</table>\n",
       "<p>2546 rows × 3 columns</p>\n",
       "</div>"
      ],
      "text/plain": [
       "      CustomerID  NumOrder  Total_Sales\n",
       "716      14096.0      1472    19752.570\n",
       "202      12744.0         8    12223.900\n",
       "2335     17841.0      3999     9824.190\n",
       "1052     14911.0       164     8823.040\n",
       "83       12536.0         6     8381.920\n",
       "...          ...       ...          ...\n",
       "535      13588.0         1        0.390\n",
       "787      14298.0         1        0.190\n",
       "1594     16198.0         1        0.001\n",
       "660      13952.0         1        0.001\n",
       "1354     15618.0         1        0.001\n",
       "\n",
       "[2546 rows x 3 columns]"
      ]
     },
     "execution_count": 130,
     "metadata": {},
     "output_type": "execute_result"
    }
   ],
   "source": [
    "Customers_df.sort_values('Total_Sales', ascending=False)"
   ]
  },
  {
   "cell_type": "code",
   "execution_count": 131,
   "metadata": {},
   "outputs": [],
   "source": [
    "# Comment\n",
    "# The list of top-paying customers provides valuable insights for tailoring special offers or discounts aimed at enriching their experience and ensuring their loyalty.\n"
   ]
  },
  {
   "cell_type": "markdown",
   "metadata": {},
   "source": [
    "# Q4:  In which month the income was higher?\n"
   ]
  },
  {
   "cell_type": "markdown",
   "metadata": {},
   "source": [
    "## Extract date and time divisions from the date/time column and store them in separate columns  "
   ]
  },
  {
   "cell_type": "code",
   "execution_count": 132,
   "metadata": {},
   "outputs": [
    {
     "name": "stderr",
     "output_type": "stream",
     "text": [
      "C:\\Users\\Maryam\\AppData\\Local\\Temp\\ipykernel_23268\\2993504654.py:1: SettingWithCopyWarning: \n",
      "A value is trying to be set on a copy of a slice from a DataFrame.\n",
      "Try using .loc[row_indexer,col_indexer] = value instead\n",
      "\n",
      "See the caveats in the documentation: https://pandas.pydata.org/pandas-docs/stable/user_guide/indexing.html#returning-a-view-versus-a-copy\n",
      "  filtered_df['Date'] = pd.to_datetime(filtered_df['InvoiceDate']).dt.date\n",
      "C:\\Users\\Maryam\\AppData\\Local\\Temp\\ipykernel_23268\\2993504654.py:2: SettingWithCopyWarning: \n",
      "A value is trying to be set on a copy of a slice from a DataFrame.\n",
      "Try using .loc[row_indexer,col_indexer] = value instead\n",
      "\n",
      "See the caveats in the documentation: https://pandas.pydata.org/pandas-docs/stable/user_guide/indexing.html#returning-a-view-versus-a-copy\n",
      "  filtered_df['Time'] = pd.to_datetime(filtered_df['InvoiceDate']).dt.time\n",
      "C:\\Users\\Maryam\\AppData\\Local\\Temp\\ipykernel_23268\\2993504654.py:3: SettingWithCopyWarning: \n",
      "A value is trying to be set on a copy of a slice from a DataFrame.\n",
      "Try using .loc[row_indexer,col_indexer] = value instead\n",
      "\n",
      "See the caveats in the documentation: https://pandas.pydata.org/pandas-docs/stable/user_guide/indexing.html#returning-a-view-versus-a-copy\n",
      "  filtered_df['Day'] = pd.to_datetime(filtered_df['InvoiceDate']).dt.day\n",
      "C:\\Users\\Maryam\\AppData\\Local\\Temp\\ipykernel_23268\\2993504654.py:4: SettingWithCopyWarning: \n",
      "A value is trying to be set on a copy of a slice from a DataFrame.\n",
      "Try using .loc[row_indexer,col_indexer] = value instead\n",
      "\n",
      "See the caveats in the documentation: https://pandas.pydata.org/pandas-docs/stable/user_guide/indexing.html#returning-a-view-versus-a-copy\n",
      "  filtered_df['Month'] = pd.to_datetime(filtered_df['InvoiceDate']).dt.month\n",
      "C:\\Users\\Maryam\\AppData\\Local\\Temp\\ipykernel_23268\\2993504654.py:5: SettingWithCopyWarning: \n",
      "A value is trying to be set on a copy of a slice from a DataFrame.\n",
      "Try using .loc[row_indexer,col_indexer] = value instead\n",
      "\n",
      "See the caveats in the documentation: https://pandas.pydata.org/pandas-docs/stable/user_guide/indexing.html#returning-a-view-versus-a-copy\n",
      "  filtered_df['Year'] = pd.to_datetime(filtered_df['InvoiceDate']).dt.year\n",
      "C:\\Users\\Maryam\\AppData\\Local\\Temp\\ipykernel_23268\\2993504654.py:6: SettingWithCopyWarning: \n",
      "A value is trying to be set on a copy of a slice from a DataFrame.\n",
      "Try using .loc[row_indexer,col_indexer] = value instead\n",
      "\n",
      "See the caveats in the documentation: https://pandas.pydata.org/pandas-docs/stable/user_guide/indexing.html#returning-a-view-versus-a-copy\n",
      "  filtered_df['Order_Hour'] = pd.to_datetime(filtered_df['InvoiceDate']).dt.hour\n"
     ]
    }
   ],
   "source": [
    "filtered_df['Date'] = pd.to_datetime(filtered_df['InvoiceDate']).dt.date\n",
    "filtered_df['Time'] = pd.to_datetime(filtered_df['InvoiceDate']).dt.time\n",
    "filtered_df['Day'] = pd.to_datetime(filtered_df['InvoiceDate']).dt.day\n",
    "filtered_df['Month'] = pd.to_datetime(filtered_df['InvoiceDate']).dt.month\n",
    "filtered_df['Year'] = pd.to_datetime(filtered_df['InvoiceDate']).dt.year\n",
    "filtered_df['Order_Hour'] = pd.to_datetime(filtered_df['InvoiceDate']).dt.hour\n"
   ]
  },
  {
   "cell_type": "markdown",
   "metadata": {},
   "source": [
    "## Ensure the new columns have been added"
   ]
  },
  {
   "cell_type": "code",
   "execution_count": 133,
   "metadata": {},
   "outputs": [
    {
     "data": {
      "text/plain": [
       "Index(['InvoiceNo', 'StockCode', 'Description', 'Quantity', 'InvoiceDate',\n",
       "       'UnitPrice', 'CustomerID', 'Country', 'InvoiceNo_numeric',\n",
       "       'Total_Sales', 'Date', 'Time', 'Day', 'Month', 'Year', 'Order_Hour'],\n",
       "      dtype='object')"
      ]
     },
     "execution_count": 133,
     "metadata": {},
     "output_type": "execute_result"
    }
   ],
   "source": [
    "filtered_df.columns"
   ]
  },
  {
   "cell_type": "markdown",
   "metadata": {},
   "source": [
    "## Ensure the data are extracted properly "
   ]
  },
  {
   "cell_type": "code",
   "execution_count": 134,
   "metadata": {},
   "outputs": [
    {
     "data": {
      "text/html": [
       "<div>\n",
       "<style scoped>\n",
       "    .dataframe tbody tr th:only-of-type {\n",
       "        vertical-align: middle;\n",
       "    }\n",
       "\n",
       "    .dataframe tbody tr th {\n",
       "        vertical-align: top;\n",
       "    }\n",
       "\n",
       "    .dataframe thead th {\n",
       "        text-align: right;\n",
       "    }\n",
       "</style>\n",
       "<table border=\"1\" class=\"dataframe\">\n",
       "  <thead>\n",
       "    <tr style=\"text-align: right;\">\n",
       "      <th></th>\n",
       "      <th>InvoiceNo</th>\n",
       "      <th>StockCode</th>\n",
       "      <th>Description</th>\n",
       "      <th>Quantity</th>\n",
       "      <th>InvoiceDate</th>\n",
       "      <th>UnitPrice</th>\n",
       "      <th>CustomerID</th>\n",
       "      <th>Country</th>\n",
       "      <th>InvoiceNo_numeric</th>\n",
       "      <th>Total_Sales</th>\n",
       "      <th>Date</th>\n",
       "      <th>Time</th>\n",
       "      <th>Day</th>\n",
       "      <th>Month</th>\n",
       "      <th>Year</th>\n",
       "      <th>Order_Hour</th>\n",
       "    </tr>\n",
       "  </thead>\n",
       "  <tbody>\n",
       "    <tr>\n",
       "      <th>11028</th>\n",
       "      <td>550193</td>\n",
       "      <td>PADS</td>\n",
       "      <td>PADS TO MATCH ALL CUSHIONS</td>\n",
       "      <td>1</td>\n",
       "      <td>4/15/2011 9:27</td>\n",
       "      <td>0.001</td>\n",
       "      <td>13952.0</td>\n",
       "      <td>United Kingdom</td>\n",
       "      <td>550193.0</td>\n",
       "      <td>0.001</td>\n",
       "      <td>2011-04-15</td>\n",
       "      <td>09:27:00</td>\n",
       "      <td>15</td>\n",
       "      <td>4</td>\n",
       "      <td>2011</td>\n",
       "      <td>9</td>\n",
       "    </tr>\n",
       "    <tr>\n",
       "      <th>11029</th>\n",
       "      <td>561226</td>\n",
       "      <td>PADS</td>\n",
       "      <td>PADS TO MATCH ALL CUSHIONS</td>\n",
       "      <td>1</td>\n",
       "      <td>7/26/2011 10:13</td>\n",
       "      <td>0.001</td>\n",
       "      <td>15618.0</td>\n",
       "      <td>United Kingdom</td>\n",
       "      <td>561226.0</td>\n",
       "      <td>0.001</td>\n",
       "      <td>2011-07-26</td>\n",
       "      <td>10:13:00</td>\n",
       "      <td>26</td>\n",
       "      <td>7</td>\n",
       "      <td>2011</td>\n",
       "      <td>10</td>\n",
       "    </tr>\n",
       "    <tr>\n",
       "      <th>11030</th>\n",
       "      <td>568200</td>\n",
       "      <td>PADS</td>\n",
       "      <td>PADS TO MATCH ALL CUSHIONS</td>\n",
       "      <td>1</td>\n",
       "      <td>9/25/2011 14:58</td>\n",
       "      <td>0.001</td>\n",
       "      <td>16198.0</td>\n",
       "      <td>United Kingdom</td>\n",
       "      <td>568200.0</td>\n",
       "      <td>0.001</td>\n",
       "      <td>2011-09-25</td>\n",
       "      <td>14:58:00</td>\n",
       "      <td>25</td>\n",
       "      <td>9</td>\n",
       "      <td>2011</td>\n",
       "      <td>14</td>\n",
       "    </tr>\n",
       "    <tr>\n",
       "      <th>11031</th>\n",
       "      <td>568375</td>\n",
       "      <td>BANK CHARGES</td>\n",
       "      <td>Bank Charges</td>\n",
       "      <td>1</td>\n",
       "      <td>9/26/2011 17:01</td>\n",
       "      <td>0.001</td>\n",
       "      <td>13405.0</td>\n",
       "      <td>United Kingdom</td>\n",
       "      <td>568375.0</td>\n",
       "      <td>0.001</td>\n",
       "      <td>2011-09-26</td>\n",
       "      <td>17:01:00</td>\n",
       "      <td>26</td>\n",
       "      <td>9</td>\n",
       "      <td>2011</td>\n",
       "      <td>17</td>\n",
       "    </tr>\n",
       "    <tr>\n",
       "      <th>11033</th>\n",
       "      <td>578757</td>\n",
       "      <td>16216</td>\n",
       "      <td>LETTER SHAPE PENCIL SHARPENER</td>\n",
       "      <td>1</td>\n",
       "      <td>11/25/2011 11:41</td>\n",
       "      <td>0.060</td>\n",
       "      <td>12748.0</td>\n",
       "      <td>United Kingdom</td>\n",
       "      <td>578757.0</td>\n",
       "      <td>0.060</td>\n",
       "      <td>2011-11-25</td>\n",
       "      <td>11:41:00</td>\n",
       "      <td>25</td>\n",
       "      <td>11</td>\n",
       "      <td>2011</td>\n",
       "      <td>11</td>\n",
       "    </tr>\n",
       "  </tbody>\n",
       "</table>\n",
       "</div>"
      ],
      "text/plain": [
       "      InvoiceNo     StockCode                    Description  Quantity  \\\n",
       "11028    550193          PADS     PADS TO MATCH ALL CUSHIONS         1   \n",
       "11029    561226          PADS     PADS TO MATCH ALL CUSHIONS         1   \n",
       "11030    568200          PADS     PADS TO MATCH ALL CUSHIONS         1   \n",
       "11031    568375  BANK CHARGES                   Bank Charges         1   \n",
       "11033    578757         16216  LETTER SHAPE PENCIL SHARPENER         1   \n",
       "\n",
       "            InvoiceDate  UnitPrice  CustomerID         Country  \\\n",
       "11028    4/15/2011 9:27      0.001     13952.0  United Kingdom   \n",
       "11029   7/26/2011 10:13      0.001     15618.0  United Kingdom   \n",
       "11030   9/25/2011 14:58      0.001     16198.0  United Kingdom   \n",
       "11031   9/26/2011 17:01      0.001     13405.0  United Kingdom   \n",
       "11033  11/25/2011 11:41      0.060     12748.0  United Kingdom   \n",
       "\n",
       "       InvoiceNo_numeric  Total_Sales        Date      Time  Day  Month  Year  \\\n",
       "11028           550193.0        0.001  2011-04-15  09:27:00   15      4  2011   \n",
       "11029           561226.0        0.001  2011-07-26  10:13:00   26      7  2011   \n",
       "11030           568200.0        0.001  2011-09-25  14:58:00   25      9  2011   \n",
       "11031           568375.0        0.001  2011-09-26  17:01:00   26      9  2011   \n",
       "11033           578757.0        0.060  2011-11-25  11:41:00   25     11  2011   \n",
       "\n",
       "       Order_Hour  \n",
       "11028           9  \n",
       "11029          10  \n",
       "11030          14  \n",
       "11031          17  \n",
       "11033          11  "
      ]
     },
     "execution_count": 134,
     "metadata": {},
     "output_type": "execute_result"
    }
   ],
   "source": [
    "filtered_df.head()"
   ]
  },
  {
   "cell_type": "markdown",
   "metadata": {},
   "source": [
    "## Extracted the new columns with the sales data to a new dataframe called time_date"
   ]
  },
  {
   "cell_type": "code",
   "execution_count": 135,
   "metadata": {},
   "outputs": [],
   "source": [
    "time_date_df = filtered_df[['Total_Sales', 'Day', 'Month', 'Year', 'Order_Hour']]"
   ]
  },
  {
   "cell_type": "markdown",
   "metadata": {},
   "source": [
    "## Sort the months according to the amount of income in each "
   ]
  },
  {
   "cell_type": "code",
   "execution_count": 136,
   "metadata": {},
   "outputs": [
    {
     "name": "stdout",
     "output_type": "stream",
     "text": [
      "Month  Year\n",
      "10     2011    57029.230\n",
      "11     2011    56182.070\n",
      "5      2011    32067.920\n",
      "9      2011    28082.112\n",
      "4      2011    27835.271\n",
      "3      2011    25624.280\n",
      "6      2011    21913.390\n",
      "7      2011    19306.151\n",
      "8      2011    19267.980\n",
      "1      2011    15492.200\n",
      "2      2011    14772.600\n",
      "12     2011    14272.380\n",
      "Name: Total_Sales, dtype: float64\n"
     ]
    }
   ],
   "source": [
    "# Since there are few data from 2010 for the month of December only. The analysis will be based on 2011 data where data is available for the entire year. \n",
    "total_sales_by_month = time_date_df[time_date_df['Year']==2011]\n",
    "total_sales_by_month = total_sales_by_month.groupby(['Month', 'Year'])['Total_Sales'].sum()\n",
    "sorted_sales_by_month = total_sales_by_month.sort_values(ascending=False)\n",
    "print(sorted_sales_by_month)"
   ]
  },
  {
   "cell_type": "markdown",
   "metadata": {},
   "source": [
    "# Q5: In which day of the month people tend to buy more?"
   ]
  },
  {
   "cell_type": "code",
   "execution_count": 137,
   "metadata": {},
   "outputs": [
    {
     "name": "stdout",
     "output_type": "stream",
     "text": [
      "Day\n",
      "3     18775.050\n",
      "27    17785.190\n",
      "4     17004.070\n",
      "23    15317.720\n",
      "10    13913.820\n",
      "28    13340.370\n",
      "11    13278.430\n",
      "5     12909.560\n",
      "6     12059.350\n",
      "14    11847.230\n",
      "19    11536.340\n",
      "8     11443.010\n",
      "17    10869.230\n",
      "20    10810.730\n",
      "21    10535.710\n",
      "15    10270.831\n",
      "7     10028.820\n",
      "1     10027.000\n",
      "24     9897.450\n",
      "18     9447.170\n",
      "13     8965.650\n",
      "22     8076.020\n",
      "2      7966.310\n",
      "26     7590.462\n",
      "25     7571.661\n",
      "9      7566.580\n",
      "16     7412.990\n",
      "12     7181.300\n",
      "30     6962.250\n",
      "31     5879.610\n",
      "29     5575.670\n",
      "Name: Total_Sales, dtype: float64\n"
     ]
    }
   ],
   "source": [
    "total_sales_by_day = time_date_df[time_date_df['Year']==2011]\n",
    "total_sales_by_day = total_sales_by_day.groupby('Day' )['Total_Sales'].sum()\n",
    "sorted_sales_by_day = total_sales_by_day.sort_values(ascending=False)\n",
    "print(sorted_sales_by_day)"
   ]
  },
  {
   "cell_type": "markdown",
   "metadata": {},
   "source": [
    "# Q6: What is the best time to adverstise for the products during the day?"
   ]
  },
  {
   "cell_type": "code",
   "execution_count": 138,
   "metadata": {},
   "outputs": [
    {
     "name": "stdout",
     "output_type": "stream",
     "text": [
      "Order_Hour\n",
      "13    67208.850\n",
      "12    57156.510\n",
      "14    56734.951\n",
      "11    43526.360\n",
      "15    42448.620\n",
      "16    23647.240\n",
      "10    22791.361\n",
      "17    15613.641\n",
      "9     11977.931\n",
      "19     4399.810\n",
      "8      2919.950\n",
      "18     2435.570\n",
      "20      712.100\n",
      "7       192.050\n",
      "Name: Total_Sales, dtype: float64\n"
     ]
    }
   ],
   "source": [
    "# to answer this question, we need to find in which hour of the day customers generate more income\n",
    "total_sales_by_hour=time_date_df.groupby('Order_Hour')['Total_Sales'].sum()\n",
    "sorted_sales_by_hours = total_sales_by_hour.sort_values(ascending=False)\n",
    "print(sorted_sales_by_hours)"
   ]
  },
  {
   "cell_type": "markdown",
   "metadata": {},
   "source": [
    "# Q7: Which products are bought together?"
   ]
  },
  {
   "cell_type": "markdown",
   "metadata": {},
   "source": [
    "## Create a new column to store the products that are bought together "
   ]
  },
  {
   "cell_type": "code",
   "execution_count": 139,
   "metadata": {},
   "outputs": [
    {
     "data": {
      "text/html": [
       "<div>\n",
       "<style scoped>\n",
       "    .dataframe tbody tr th:only-of-type {\n",
       "        vertical-align: middle;\n",
       "    }\n",
       "\n",
       "    .dataframe tbody tr th {\n",
       "        vertical-align: top;\n",
       "    }\n",
       "\n",
       "    .dataframe thead th {\n",
       "        text-align: right;\n",
       "    }\n",
       "</style>\n",
       "<table border=\"1\" class=\"dataframe\">\n",
       "  <thead>\n",
       "    <tr style=\"text-align: right;\">\n",
       "      <th></th>\n",
       "      <th>InvoiceNo_numeric</th>\n",
       "      <th>Grouped</th>\n",
       "    </tr>\n",
       "  </thead>\n",
       "  <tbody>\n",
       "    <tr>\n",
       "      <th>24852</th>\n",
       "      <td>536381.0</td>\n",
       "      <td>FELT EGG COSY CHICKEN,TEA TIME DES TEA COSY,FE...</td>\n",
       "    </tr>\n",
       "    <tr>\n",
       "      <th>189735</th>\n",
       "      <td>536401.0</td>\n",
       "      <td>I'M ON HOLIDAY METAL SIGN,BALLOONS  WRITING SE...</td>\n",
       "    </tr>\n",
       "    <tr>\n",
       "      <th>60335</th>\n",
       "      <td>536409.0</td>\n",
       "      <td>HAND WARMER SCOTTY DOG DESIGN,CHILDREN'S SPACE...</td>\n",
       "    </tr>\n",
       "    <tr>\n",
       "      <th>29468</th>\n",
       "      <td>536412.0</td>\n",
       "      <td>SCANDINAVIAN REDS RIBBONS,PINK  POLKADOT PLATE...</td>\n",
       "    </tr>\n",
       "    <tr>\n",
       "      <th>161920</th>\n",
       "      <td>536415.0</td>\n",
       "      <td>60 CAKE CASES DOLLY GIRL DESIGN,PACK OF 60 MUS...</td>\n",
       "    </tr>\n",
       "    <tr>\n",
       "      <th>180216</th>\n",
       "      <td>536446.0</td>\n",
       "      <td>GREEN FERN NOTEBOOK,TRADITIONAL WOODEN SKIPPIN...</td>\n",
       "    </tr>\n",
       "    <tr>\n",
       "      <th>47526</th>\n",
       "      <td>536464.0</td>\n",
       "      <td>RIBBON REEL CHRISTMAS PRESENT ,RIBBON REEL SOC...</td>\n",
       "    </tr>\n",
       "    <tr>\n",
       "      <th>39248</th>\n",
       "      <td>536488.0</td>\n",
       "      <td>JAM MAKING SET PRINTED,REX CASH+CARRY JUMBO SH...</td>\n",
       "    </tr>\n",
       "    <tr>\n",
       "      <th>60351</th>\n",
       "      <td>536520.0</td>\n",
       "      <td>GROW YOUR OWN BASIL IN ENAMEL MUG,RETROSPOT RE...</td>\n",
       "    </tr>\n",
       "    <tr>\n",
       "      <th>24864</th>\n",
       "      <td>536522.0</td>\n",
       "      <td>ORANGE SCENTED SET/9 T-LIGHTS,CINAMMON SET OF ...</td>\n",
       "    </tr>\n",
       "    <tr>\n",
       "      <th>60357</th>\n",
       "      <td>536525.0</td>\n",
       "      <td>FELTCRAFT 6 FLOWER FRIENDS,12 PENCIL SMALL TUB...</td>\n",
       "    </tr>\n",
       "    <tr>\n",
       "      <th>29500</th>\n",
       "      <td>536528.0</td>\n",
       "      <td>TRADITIONAL CHRISTMAS RIBBONS,SCANDINAVIAN RED...</td>\n",
       "    </tr>\n",
       "    <tr>\n",
       "      <th>39253</th>\n",
       "      <td>536530.0</td>\n",
       "      <td>WASHROOM METAL SIGN,WELCOME  WOODEN BLOCK LETT...</td>\n",
       "    </tr>\n",
       "    <tr>\n",
       "      <th>132292</th>\n",
       "      <td>536538.0</td>\n",
       "      <td>DOORMAT SPOTTY HOME SWEET HOME,DOORMAT FANCY F...</td>\n",
       "    </tr>\n",
       "    <tr>\n",
       "      <th>166872</th>\n",
       "      <td>536551.0</td>\n",
       "      <td>HANGING HEART ZINC T-LIGHT HOLDER,LUNCH BOX I ...</td>\n",
       "    </tr>\n",
       "    <tr>\n",
       "      <th>39254</th>\n",
       "      <td>536557.0</td>\n",
       "      <td>POLYESTER FILLER PAD 40x40cm,FRENCH BLUE METAL...</td>\n",
       "    </tr>\n",
       "    <tr>\n",
       "      <th>139303</th>\n",
       "      <td>536569.0</td>\n",
       "      <td>3 HOOK PHOTO SHELF ANTIQUE WHITE,SWISS CHALET ...</td>\n",
       "    </tr>\n",
       "    <tr>\n",
       "      <th>140807</th>\n",
       "      <td>536590.0</td>\n",
       "      <td>TOOL BOX SOFT TOY ,CLASSIC METAL BIRDCAGE PLAN...</td>\n",
       "    </tr>\n",
       "    <tr>\n",
       "      <th>12756</th>\n",
       "      <td>536591.0</td>\n",
       "      <td>LADLE LOVE HEART PINK,RIBBON REEL FLORA + FAUN...</td>\n",
       "    </tr>\n",
       "    <tr>\n",
       "      <th>64085</th>\n",
       "      <td>536595.0</td>\n",
       "      <td>SAVE THE PLANET COTTON TOTE BAG,HOME SWEET HOM...</td>\n",
       "    </tr>\n",
       "  </tbody>\n",
       "</table>\n",
       "</div>"
      ],
      "text/plain": [
       "        InvoiceNo_numeric                                            Grouped\n",
       "24852            536381.0  FELT EGG COSY CHICKEN,TEA TIME DES TEA COSY,FE...\n",
       "189735           536401.0  I'M ON HOLIDAY METAL SIGN,BALLOONS  WRITING SE...\n",
       "60335            536409.0  HAND WARMER SCOTTY DOG DESIGN,CHILDREN'S SPACE...\n",
       "29468            536412.0  SCANDINAVIAN REDS RIBBONS,PINK  POLKADOT PLATE...\n",
       "161920           536415.0  60 CAKE CASES DOLLY GIRL DESIGN,PACK OF 60 MUS...\n",
       "180216           536446.0  GREEN FERN NOTEBOOK,TRADITIONAL WOODEN SKIPPIN...\n",
       "47526            536464.0  RIBBON REEL CHRISTMAS PRESENT ,RIBBON REEL SOC...\n",
       "39248            536488.0  JAM MAKING SET PRINTED,REX CASH+CARRY JUMBO SH...\n",
       "60351            536520.0  GROW YOUR OWN BASIL IN ENAMEL MUG,RETROSPOT RE...\n",
       "24864            536522.0  ORANGE SCENTED SET/9 T-LIGHTS,CINAMMON SET OF ...\n",
       "60357            536525.0  FELTCRAFT 6 FLOWER FRIENDS,12 PENCIL SMALL TUB...\n",
       "29500            536528.0  TRADITIONAL CHRISTMAS RIBBONS,SCANDINAVIAN RED...\n",
       "39253            536530.0  WASHROOM METAL SIGN,WELCOME  WOODEN BLOCK LETT...\n",
       "132292           536538.0  DOORMAT SPOTTY HOME SWEET HOME,DOORMAT FANCY F...\n",
       "166872           536551.0  HANGING HEART ZINC T-LIGHT HOLDER,LUNCH BOX I ...\n",
       "39254            536557.0  POLYESTER FILLER PAD 40x40cm,FRENCH BLUE METAL...\n",
       "139303           536569.0  3 HOOK PHOTO SHELF ANTIQUE WHITE,SWISS CHALET ...\n",
       "140807           536590.0  TOOL BOX SOFT TOY ,CLASSIC METAL BIRDCAGE PLAN...\n",
       "12756            536591.0  LADLE LOVE HEART PINK,RIBBON REEL FLORA + FAUN...\n",
       "64085            536595.0  SAVE THE PLANET COTTON TOTE BAG,HOME SWEET HOM..."
      ]
     },
     "execution_count": 139,
     "metadata": {},
     "output_type": "execute_result"
    }
   ],
   "source": [
    "filtered_df = filtered_df[filtered_df['InvoiceNo_numeric'].duplicated(keep=False)]\n",
    "filtered_df.sort_values(by='InvoiceNo_numeric', ascending=True, key=lambda x: x.astype(str), inplace=True)\n",
    "\n",
    "filtered_df['Grouped'] = filtered_df.groupby('InvoiceNo_numeric')['Description'].transform(lambda x: ','.join(x))\n",
    "\n",
    "filtered_df = filtered_df[['InvoiceNo_numeric', 'Grouped']].drop_duplicates()\n",
    "\n",
    "filtered_df.head(20)\n",
    "\n",
    "\n"
   ]
  },
  {
   "cell_type": "markdown",
   "metadata": {},
   "source": [
    "## Iterate over the new column to find the list of the products bought together "
   ]
  },
  {
   "cell_type": "code",
   "execution_count": 140,
   "metadata": {},
   "outputs": [
    {
     "name": "stdout",
     "output_type": "stream",
     "text": [
      "(' BACK DOOR ', 'KEY FOB ') 255\n",
      "(' SHED', 'KEY FOB ') 237\n",
      "('KEY FOB ', 'KEY FOB ') 222\n",
      "(' FRONT  DOOR ', 'KEY FOB ') 178\n",
      "('LUNCH BAG  BLACK SKULL.', 'LUNCH BAG SPACEBOY DESIGN ') 145\n",
      "('GARDENERS KNEELING PAD CUP OF TEA ', 'GARDENERS KNEELING PAD KEEP CALM ') 143\n",
      "('LUNCH BAG PINK POLKADOT', 'LUNCH BAG RED RETROSPOT') 136\n",
      "('LUNCH BAG  BLACK SKULL.', 'LUNCH BAG RED RETROSPOT') 132\n",
      "('LUNCH BAG RED RETROSPOT', 'LUNCH BAG SPACEBOY DESIGN ') 131\n",
      "('LUNCH BAG SPACEBOY DESIGN ', 'LUNCH BAG SUKI DESIGN ') 129\n",
      "('LUNCH BAG SPACEBOY DESIGN ', 'LUNCH BAG WOODLAND') 125\n",
      "('LUNCH BAG  BLACK SKULL.', 'LUNCH BAG SUKI DESIGN ') 124\n",
      "('LUNCH BAG  BLACK SKULL.', 'LUNCH BAG PINK POLKADOT') 123\n",
      "('DOLLY GIRL LUNCH BOX', 'SPACEBOY LUNCH BOX ') 122\n",
      "('LUNCH BAG CARS BLUE', 'LUNCH BAG SPACEBOY DESIGN ') 117\n",
      "('LUNCH BAG RED RETROSPOT', 'LUNCH BAG WOODLAND') 115\n",
      "(\"POPPY'S PLAYHOUSE BEDROOM \", \"POPPY'S PLAYHOUSE KITCHEN\") 113\n",
      "('CUPCAKE SINGLE HOOK', 'METAL SIGN') 113\n",
      "('LUNCH BAG PINK POLKADOT', 'LUNCH BAG WOODLAND') 109\n",
      "('LUNCH BAG RED RETROSPOT', 'LUNCH BAG SUKI DESIGN ') 107\n"
     ]
    }
   ],
   "source": [
    "count = Counter()\n",
    "\n",
    "for row in filtered_df['Grouped']:\n",
    "    row_list = sorted(row.split(','))\n",
    "    count.update(Counter(combinations(row_list, 2)))\n",
    "\n",
    "for key, value in count.most_common (20):\n",
    "    print(key, value)\n"
   ]
  },
  {
   "cell_type": "code",
   "execution_count": 141,
   "metadata": {},
   "outputs": [],
   "source": [
    "# Comment\n",
    "## These results are helpful for deciding which products to be included in the bundle deals. "
   ]
  }
 ],
 "metadata": {
  "kernelspec": {
   "display_name": "Python 3",
   "language": "python",
   "name": "python3"
  },
  "language_info": {
   "codemirror_mode": {
    "name": "ipython",
    "version": 3
   },
   "file_extension": ".py",
   "mimetype": "text/x-python",
   "name": "python",
   "nbconvert_exporter": "python",
   "pygments_lexer": "ipython3",
   "version": "3.11.5"
  }
 },
 "nbformat": 4,
 "nbformat_minor": 2
}
